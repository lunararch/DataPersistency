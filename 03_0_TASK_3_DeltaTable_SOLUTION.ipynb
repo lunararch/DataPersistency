{
 "cells": [
  {
   "cell_type": "code",
   "execution_count": null,
   "outputs": [],
   "source": [
    "from pyspark.sql import SparkSession\n",
    "from delta import configure_spark_with_delta_pip\n",
    "\n",
    "import ConnectionConfig as cc\n",
    "cc.setupEnvironment()\n",
    "spark = cc.startLocalCluster(\"DeltaTableEx\")\n",
    "spark.getActiveSession()"
   ],
   "metadata": {
    "collapsed": false,
    "is_executing": true,
    "ExecuteTime": {
     "start_time": "2024-09-17T10:10:02.396115900Z"
    }
   }
  },
  {
   "cell_type": "code",
   "execution_count": 3,
   "outputs": [],
   "source": [
    "from delta import DeltaTable\n",
    "\n",
    "# Step 1: Load the dataset into a Delta table\n",
    "transaction_data_path = \"./FileStore/tables/transactions.csv\"  # Replace with the actual path to the transaction data CSV file\n",
    "transaction_delta_path = \"./spark-warehouse/transaction_data_delta\"  # Replace with the actual path where you want to store the Delta table"
   ],
   "metadata": {
    "collapsed": false,
    "ExecuteTime": {
     "end_time": "2024-09-13T12:42:34.053049Z",
     "start_time": "2024-09-13T12:42:34.031153800Z"
    }
   }
  },
  {
   "cell_type": "markdown",
   "source": [
    "# Persist a detlatable to disk based on the CSV transactions.csv\n",
    "Read the CSV file transaction_data_path\n",
    "Write it as a Delta table to transaction_delta_path\n",
    "Use inferSchema option (see: https://sparkbyexamples.com/pyspark/pyspark-read-csv-file-into-dataframe/) to automatically infer the schema from the CSV file. Otherwise all columns will be of type string"
   ],
   "metadata": {
    "collapsed": false
   }
  },
  {
   "cell_type": "code",
   "execution_count": 4,
   "outputs": [],
   "source": [
    "from pyspark.sql.types import StructType\n",
    "# Read the CSV data and write it as a Delta table\n",
    "df = spark.read.format(\"csv\").option(\"header\", \"true\").option(\"inferSchema\", \"true\").load(transaction_data_path)\n",
    "df.write.format(\"delta\").mode(\"overwrite\").save(transaction_delta_path)"
   ],
   "metadata": {
    "collapsed": false,
    "ExecuteTime": {
     "end_time": "2024-09-13T12:43:04.712587800Z",
     "start_time": "2024-09-13T12:42:42.869052300Z"
    }
   }
  },
  {
   "cell_type": "markdown",
   "source": [
    "# Create a DeltaTable object for the persisted transaction data\n",
    "Use DetlaTable.forPath() to create a DeltaTable object for the persisted transaction data\n",
    "A delta table object is needed to use functions like history() and vacuum()\n"
   ],
   "metadata": {
    "collapsed": false
   }
  },
  {
   "cell_type": "code",
   "execution_count": 5,
   "outputs": [],
   "source": [
    "delta_table = DeltaTable.forPath(spark, transaction_delta_path)"
   ],
   "metadata": {
    "collapsed": false,
    "ExecuteTime": {
     "end_time": "2024-09-13T12:51:56.121673300Z",
     "start_time": "2024-09-13T12:51:55.935245Z"
    }
   }
  },
  {
   "cell_type": "markdown",
   "source": [
    "# Get the schema and history information for the Delta table\n",
    "To get the schema get the dataframe object with toDf() and use printSchema()\n",
    "Delta table has a history() method that returns a dataframe with the history of the delta table\n",
    "Make sure you understand the results"
   ],
   "metadata": {
    "collapsed": false
   }
  },
  {
   "cell_type": "code",
   "execution_count": 8,
   "outputs": [
    {
     "name": "stdout",
     "output_type": "stream",
     "text": [
      "root\n",
      " |-- transaction_id: integer (nullable = true)\n",
      " |-- customer_id: integer (nullable = true)\n",
      " |-- purchase_date: date (nullable = true)\n",
      " |-- product_name: string (nullable = true)\n",
      " |-- quantity: integer (nullable = true)\n",
      "\n",
      "+------+--------------------+----+-----------+--------------------+--------------------+--------------------+----------------+-----------------+--------+-----------+----------+----------------+----------------+--------------------+\n",
      "|format|                  id|name|description|            location|           createdAt|        lastModified|partitionColumns|clusteringColumns|numFiles|sizeInBytes|properties|minReaderVersion|minWriterVersion|       tableFeatures|\n",
      "+------+--------------------+----+-----------+--------------------+--------------------+--------------------+----------------+-----------------+--------+-----------+----------+----------------+----------------+--------------------+\n",
      "| delta|128b3e62-9542-475...|NULL|       NULL|file:/C:/DevProje...|2024-09-13 14:42:...|2024-09-13 14:43:...|              []|               []|       1|       1740|        {}|               1|               2|[appendOnly, inva...|\n",
      "+------+--------------------+----+-----------+--------------------+--------------------+--------------------+----------------+-----------------+--------+-----------+----------+----------------+----------------+--------------------+\n",
      "-RECORD 0---------------------------------------------------------------------------\n",
      " version             | 0                                                            \n",
      " timestamp           | 2024-09-13 14:43:03.09                                       \n",
      " userId              | NULL                                                         \n",
      " userName            | NULL                                                         \n",
      " operation           | WRITE                                                        \n",
      " operationParameters | {mode -> Overwrite, partitionBy -> []}                       \n",
      " job                 | NULL                                                         \n",
      " notebook            | NULL                                                         \n",
      " clusterId           | NULL                                                         \n",
      " readVersion         | NULL                                                         \n",
      " isolationLevel      | Serializable                                                 \n",
      " isBlindAppend       | false                                                        \n",
      " operationMetrics    | {numFiles -> 1, numOutputRows -> 10, numOutputBytes -> 1740} \n",
      " userMetadata        | NULL                                                         \n",
      " engineInfo          | Apache-Spark/3.5.2 Delta-Lake/3.2.0                          \n"
     ]
    }
   ],
   "source": [
    "# Get the # Ge schema and history\n",
    "delta_table.toDF().printSchema()\n",
    "delta_table.detail().show()\n",
    "delta_table.history().show(vertical=True, truncate=False)"
   ],
   "metadata": {
    "collapsed": false,
    "ExecuteTime": {
     "end_time": "2024-09-13T12:53:37.872069700Z",
     "start_time": "2024-09-13T12:53:36.431663800Z"
    }
   }
  },
  {
   "cell_type": "markdown",
   "source": [
    "# Create a query on the delta table to find the total number of transactions\n",
    "Use toDF() to convert the delta table to a spark dataframe"
   ],
   "metadata": {
    "collapsed": false
   }
  },
  {
   "cell_type": "code",
   "execution_count": 9,
   "outputs": [
    {
     "name": "stdout",
     "output_type": "stream",
     "text": [
      "Total number of transactions: 10\n"
     ]
    }
   ],
   "source": [
    "total_transactions = delta_table.toDF().count()\n",
    "print(f\"Total number of transactions: {total_transactions}\")\n"
   ],
   "metadata": {
    "collapsed": false,
    "ExecuteTime": {
     "end_time": "2024-09-13T12:54:02.887153500Z",
     "start_time": "2024-09-13T12:53:58.285677300Z"
    }
   }
  },
  {
   "cell_type": "markdown",
   "source": [
    "# Create a view on the delta table with the name 'transactions'"
   ],
   "metadata": {
    "collapsed": false
   }
  },
  {
   "cell_type": "code",
   "execution_count": 10,
   "outputs": [],
   "source": [
    "#Create a view on the delta table\n",
    "delta_table.toDF().createOrReplaceTempView(\"transactions\")"
   ],
   "metadata": {
    "collapsed": false,
    "ExecuteTime": {
     "end_time": "2024-09-13T12:54:24.025372100Z",
     "start_time": "2024-09-13T12:54:23.929180200Z"
    }
   }
  },
  {
   "cell_type": "markdown",
   "source": [
    "# Update the delta table to increase the quantity of a specific product by a given value\n",
    "You canw write an update statement on the delta table with spark.sql(). This is not supported without the use of delta table"
   ],
   "metadata": {
    "collapsed": false
   }
  },
  {
   "cell_type": "code",
   "execution_count": 11,
   "outputs": [
    {
     "name": "stdout",
     "output_type": "stream",
     "text": [
      "+-----------------+\n",
      "|num_affected_rows|\n",
      "+-----------------+\n",
      "|                4|\n",
      "+-----------------+\n"
     ]
    }
   ],
   "source": [
    "# Step 5: Update the Delta table to increase the quantity of a specific product by a given value spark.sql\n",
    "spark.sql(\"UPDATE transactions SET quantity = quantity + 1 WHERE product_name = 'Product A'\").show()"
   ],
   "metadata": {
    "collapsed": false,
    "ExecuteTime": {
     "end_time": "2024-09-13T12:54:51.187856400Z",
     "start_time": "2024-09-13T12:54:44.748494300Z"
    }
   }
  },
  {
   "cell_type": "markdown",
   "source": [
    "# Consult the history of the Delta table again\n",
    "Try to understand what you see\n",
    "When the results are truncated, you can use the vertical option in method show() to see the full results"
   ],
   "metadata": {
    "collapsed": false
   }
  },
  {
   "cell_type": "code",
   "execution_count": 12,
   "outputs": [
    {
     "name": "stdout",
     "output_type": "stream",
     "text": [
      "-RECORD 0---------------------------------------------------------------------------------------------------------------------------------------------------------------------------------------------------------------------------------------------------------------------------------------------------------------------------------------------\n",
      " version             | 1                                                                                                                                                                                                                                                                                                                              \n",
      " timestamp           | 2024-09-13 14:54:50.321                                                                                                                                                                                                                                                                                                        \n",
      " userId              | NULL                                                                                                                                                                                                                                                                                                                           \n",
      " userName            | NULL                                                                                                                                                                                                                                                                                                                           \n",
      " operation           | UPDATE                                                                                                                                                                                                                                                                                                                         \n",
      " operationParameters | {predicate -> [\"(product_name#346 = Product A)\"]}                                                                                                                                                                                                                                                                              \n",
      " job                 | NULL                                                                                                                                                                                                                                                                                                                           \n",
      " notebook            | NULL                                                                                                                                                                                                                                                                                                                           \n",
      " clusterId           | NULL                                                                                                                                                                                                                                                                                                                           \n",
      " readVersion         | 0                                                                                                                                                                                                                                                                                                                              \n",
      " isolationLevel      | Serializable                                                                                                                                                                                                                                                                                                                   \n",
      " isBlindAppend       | false                                                                                                                                                                                                                                                                                                                          \n",
      " operationMetrics    | {numRemovedFiles -> 1, numRemovedBytes -> 1740, numCopiedRows -> 6, numDeletionVectorsAdded -> 0, numDeletionVectorsRemoved -> 0, numAddedChangeFiles -> 0, executionTimeMs -> 4954, numDeletionVectorsUpdated -> 0, scanTimeMs -> 4488, numAddedFiles -> 1, numUpdatedRows -> 4, numAddedBytes -> 1734, rewriteTimeMs -> 463} \n",
      " userMetadata        | NULL                                                                                                                                                                                                                                                                                                                           \n",
      " engineInfo          | Apache-Spark/3.5.2 Delta-Lake/3.2.0                                                                                                                                                                                                                                                                                            \n",
      "-RECORD 1---------------------------------------------------------------------------------------------------------------------------------------------------------------------------------------------------------------------------------------------------------------------------------------------------------------------------------------------\n",
      " version             | 0                                                                                                                                                                                                                                                                                                                              \n",
      " timestamp           | 2024-09-13 14:43:03.09                                                                                                                                                                                                                                                                                                         \n",
      " userId              | NULL                                                                                                                                                                                                                                                                                                                           \n",
      " userName            | NULL                                                                                                                                                                                                                                                                                                                           \n",
      " operation           | WRITE                                                                                                                                                                                                                                                                                                                          \n",
      " operationParameters | {mode -> Overwrite, partitionBy -> []}                                                                                                                                                                                                                                                                                         \n",
      " job                 | NULL                                                                                                                                                                                                                                                                                                                           \n",
      " notebook            | NULL                                                                                                                                                                                                                                                                                                                           \n",
      " clusterId           | NULL                                                                                                                                                                                                                                                                                                                           \n",
      " readVersion         | NULL                                                                                                                                                                                                                                                                                                                           \n",
      " isolationLevel      | Serializable                                                                                                                                                                                                                                                                                                                   \n",
      " isBlindAppend       | false                                                                                                                                                                                                                                                                                                                          \n",
      " operationMetrics    | {numFiles -> 1, numOutputRows -> 10, numOutputBytes -> 1740}                                                                                                                                                                                                                                                                   \n",
      " userMetadata        | NULL                                                                                                                                                                                                                                                                                                                           \n",
      " engineInfo          | Apache-Spark/3.5.2 Delta-Lake/3.2.0                                                                                                                                                                                                                                                                                            \n"
     ]
    }
   ],
   "source": [
    "delta_table.history().show(truncate = False, vertical=True)\n"
   ],
   "metadata": {
    "collapsed": false,
    "ExecuteTime": {
     "end_time": "2024-09-13T12:54:59.549534500Z",
     "start_time": "2024-09-13T12:54:57.813270100Z"
    }
   }
  },
  {
   "cell_type": "markdown",
   "source": [],
   "metadata": {
    "collapsed": false
   }
  },
  {
   "cell_type": "markdown",
   "source": [
    "# Delete all transactions from customer 101\n",
    "You canw write an delete statement on the delta table with spark.sql(). This is not supported without the use of delta table"
   ],
   "metadata": {
    "collapsed": false
   }
  },
  {
   "cell_type": "code",
   "execution_count": 13,
   "outputs": [
    {
     "name": "stdout",
     "output_type": "stream",
     "text": [
      "+-----------------+\n",
      "|num_affected_rows|\n",
      "+-----------------+\n",
      "|                3|\n",
      "+-----------------+\n"
     ]
    }
   ],
   "source": [
    "#Delete all transactions from customer 101\n",
    "spark.sql(\"DELETE from transactions where customer_id=101\").show()"
   ],
   "metadata": {
    "collapsed": false,
    "ExecuteTime": {
     "end_time": "2024-09-13T12:57:17.294387900Z",
     "start_time": "2024-09-13T12:57:08.942647900Z"
    }
   }
  },
  {
   "cell_type": "markdown",
   "source": [
    "# Consult the history of the Delta table again to see what is changed"
   ],
   "metadata": {
    "collapsed": false
   }
  },
  {
   "cell_type": "code",
   "execution_count": 14,
   "outputs": [
    {
     "name": "stdout",
     "output_type": "stream",
     "text": [
      "+--------------+-----------+-------------+------------+--------+\n",
      "|transaction_id|customer_id|purchase_date|product_name|quantity|\n",
      "+--------------+-----------+-------------+------------+--------+\n",
      "|             2|        102|   2023-06-02|   Product B|       5|\n",
      "|             3|        103|   2023-06-03|   Product A|       4|\n",
      "|             5|        104|   2023-06-05|   Product B|       4|\n",
      "|             6|        102|   2023-06-06|   Product A|       3|\n",
      "|             7|        103|   2023-06-07|   Product C|       3|\n",
      "|             9|        104|   2023-06-09|   Product A|       3|\n",
      "|            10|        103|   2023-06-10|   Product B|       3|\n",
      "+--------------+-----------+-------------+------------+--------+\n",
      "-RECORD 0---------------------------------------------------------------------------------------------------------------------------------------------------------------------------------------------------------------------------------------------------------------------------------------------------------------------------------------------\n",
      " version             | 2                                                                                                                                                                                                                                                                                                                              \n",
      " timestamp           | 2024-09-13 14:57:16.419                                                                                                                                                                                                                                                                                                        \n",
      " userId              | NULL                                                                                                                                                                                                                                                                                                                           \n",
      " userName            | NULL                                                                                                                                                                                                                                                                                                                           \n",
      " operation           | DELETE                                                                                                                                                                                                                                                                                                                         \n",
      " operationParameters | {predicate -> [\"(customer_id#344 = 101)\"]}                                                                                                                                                                                                                                                                                     \n",
      " job                 | NULL                                                                                                                                                                                                                                                                                                                           \n",
      " notebook            | NULL                                                                                                                                                                                                                                                                                                                           \n",
      " clusterId           | NULL                                                                                                                                                                                                                                                                                                                           \n",
      " readVersion         | 1                                                                                                                                                                                                                                                                                                                              \n",
      " isolationLevel      | Serializable                                                                                                                                                                                                                                                                                                                   \n",
      " isBlindAppend       | false                                                                                                                                                                                                                                                                                                                          \n",
      " operationMetrics    | {numRemovedFiles -> 1, numRemovedBytes -> 1734, numCopiedRows -> 7, numDeletionVectorsAdded -> 0, numDeletionVectorsRemoved -> 0, numAddedChangeFiles -> 0, executionTimeMs -> 7384, numDeletionVectorsUpdated -> 0, numDeletedRows -> 3, scanTimeMs -> 6921, numAddedFiles -> 1, numAddedBytes -> 1688, rewriteTimeMs -> 462} \n",
      " userMetadata        | NULL                                                                                                                                                                                                                                                                                                                           \n",
      " engineInfo          | Apache-Spark/3.5.2 Delta-Lake/3.2.0                                                                                                                                                                                                                                                                                            \n",
      "-RECORD 1---------------------------------------------------------------------------------------------------------------------------------------------------------------------------------------------------------------------------------------------------------------------------------------------------------------------------------------------\n",
      " version             | 1                                                                                                                                                                                                                                                                                                                              \n",
      " timestamp           | 2024-09-13 14:54:50.321                                                                                                                                                                                                                                                                                                        \n",
      " userId              | NULL                                                                                                                                                                                                                                                                                                                           \n",
      " userName            | NULL                                                                                                                                                                                                                                                                                                                           \n",
      " operation           | UPDATE                                                                                                                                                                                                                                                                                                                         \n",
      " operationParameters | {predicate -> [\"(product_name#346 = Product A)\"]}                                                                                                                                                                                                                                                                              \n",
      " job                 | NULL                                                                                                                                                                                                                                                                                                                           \n",
      " notebook            | NULL                                                                                                                                                                                                                                                                                                                           \n",
      " clusterId           | NULL                                                                                                                                                                                                                                                                                                                           \n",
      " readVersion         | 0                                                                                                                                                                                                                                                                                                                              \n",
      " isolationLevel      | Serializable                                                                                                                                                                                                                                                                                                                   \n",
      " isBlindAppend       | false                                                                                                                                                                                                                                                                                                                          \n",
      " operationMetrics    | {numRemovedFiles -> 1, numRemovedBytes -> 1740, numCopiedRows -> 6, numDeletionVectorsAdded -> 0, numDeletionVectorsRemoved -> 0, numAddedChangeFiles -> 0, executionTimeMs -> 4954, numDeletionVectorsUpdated -> 0, scanTimeMs -> 4488, numAddedFiles -> 1, numUpdatedRows -> 4, numAddedBytes -> 1734, rewriteTimeMs -> 463} \n",
      " userMetadata        | NULL                                                                                                                                                                                                                                                                                                                           \n",
      " engineInfo          | Apache-Spark/3.5.2 Delta-Lake/3.2.0                                                                                                                                                                                                                                                                                            \n",
      "-RECORD 2---------------------------------------------------------------------------------------------------------------------------------------------------------------------------------------------------------------------------------------------------------------------------------------------------------------------------------------------\n",
      " version             | 0                                                                                                                                                                                                                                                                                                                              \n",
      " timestamp           | 2024-09-13 14:43:03.09                                                                                                                                                                                                                                                                                                         \n",
      " userId              | NULL                                                                                                                                                                                                                                                                                                                           \n",
      " userName            | NULL                                                                                                                                                                                                                                                                                                                           \n",
      " operation           | WRITE                                                                                                                                                                                                                                                                                                                          \n",
      " operationParameters | {mode -> Overwrite, partitionBy -> []}                                                                                                                                                                                                                                                                                         \n",
      " job                 | NULL                                                                                                                                                                                                                                                                                                                           \n",
      " notebook            | NULL                                                                                                                                                                                                                                                                                                                           \n",
      " clusterId           | NULL                                                                                                                                                                                                                                                                                                                           \n",
      " readVersion         | NULL                                                                                                                                                                                                                                                                                                                           \n",
      " isolationLevel      | Serializable                                                                                                                                                                                                                                                                                                                   \n",
      " isBlindAppend       | false                                                                                                                                                                                                                                                                                                                          \n",
      " operationMetrics    | {numFiles -> 1, numOutputRows -> 10, numOutputBytes -> 1740}                                                                                                                                                                                                                                                                   \n",
      " userMetadata        | NULL                                                                                                                                                                                                                                                                                                                           \n",
      " engineInfo          | Apache-Spark/3.5.2 Delta-Lake/3.2.0                                                                                                                                                                                                                                                                                            \n"
     ]
    }
   ],
   "source": [
    "spark.sql(\"select * from transactions\").show()\n",
    "delta_table.history().show(truncate=False,vertical=True)"
   ],
   "metadata": {
    "collapsed": false,
    "ExecuteTime": {
     "end_time": "2024-09-13T12:57:28.967141900Z",
     "start_time": "2024-09-13T12:57:23.260278200Z"
    }
   }
  },
  {
   "cell_type": "markdown",
   "source": [],
   "metadata": {
    "collapsed": false
   }
  },
  {
   "cell_type": "markdown",
   "source": [
    "# Perform an merge operation\n",
    "Get info on merge operations: https://docs.delta.io/latest/delta-update.html#upsert-into-a-table-using-merge&language-sql\n",
    "1. Create a new dataframe original_df that reads the original transaction data from the CSV file and create a temporary view 'original_transactions'\n",
    "2. Perform a merge of  'original_transactions' into 'transactions'\n",
    "3. When a match is found, update the quantity for that row to 0\n",
    "4. When no match is found, insert the row from the new dataframe"
   ],
   "metadata": {
    "collapsed": false
   }
  },
  {
   "cell_type": "code",
   "execution_count": 15,
   "outputs": [
    {
     "data": {
      "text/plain": "DataFrame[num_affected_rows: bigint, num_updated_rows: bigint, num_deleted_rows: bigint, num_inserted_rows: bigint]"
     },
     "execution_count": 15,
     "metadata": {},
     "output_type": "execute_result"
    }
   ],
   "source": [
    "# Step 6: Perform an upsert\n",
    "original_df =spark.read.format(\"csv\").options(header=\"true\", inferSchema=\"true\").load(transaction_data_path)\n",
    "original_df.createOrReplaceTempView(\"original_transactions\")\n",
    "\n",
    "spark.sql(\"MERGE INTO transactions AS target \\\n",
    "          using original_transactions AS source ON target.transaction_id = source.transaction_id \\\n",
    "          WHEN MATCHED THEN UPDATE SET quantity = 0 \\\n",
    "          WHEN NOT MATCHED THEN INSERT *\")"
   ],
   "metadata": {
    "collapsed": false,
    "ExecuteTime": {
     "end_time": "2024-09-13T12:59:47.344799400Z",
     "start_time": "2024-09-13T12:59:41.715294200Z"
    }
   }
  },
  {
   "cell_type": "markdown",
   "source": [
    "# Show the detla table and detla table history\n",
    "Is the result what you expected?"
   ],
   "metadata": {
    "collapsed": false
   }
  },
  {
   "cell_type": "code",
   "execution_count": 17,
   "outputs": [
    {
     "name": "stdout",
     "output_type": "stream",
     "text": [
      "+--------------+-----------+-------------+------------+--------+\n",
      "|transaction_id|customer_id|purchase_date|product_name|quantity|\n",
      "+--------------+-----------+-------------+------------+--------+\n",
      "|             1|        101|   2023-06-01|   Product A|       2|\n",
      "|             2|        102|   2023-06-02|   Product B|       0|\n",
      "|             3|        103|   2023-06-03|   Product A|       0|\n",
      "|             4|        101|   2023-06-04|   Product C|       1|\n",
      "|             5|        104|   2023-06-05|   Product B|       0|\n",
      "|             6|        102|   2023-06-06|   Product A|       0|\n",
      "|             7|        103|   2023-06-07|   Product C|       0|\n",
      "|             8|        101|   2023-06-08|   Product B|       5|\n",
      "|             9|        104|   2023-06-09|   Product A|       0|\n",
      "|            10|        103|   2023-06-10|   Product B|       0|\n",
      "+--------------+-----------+-------------+------------+--------+\n",
      "-RECORD 0------------------------------------------------------------------------------------------------------------------------------------------------------------------------------------------------------------------------------------------------------------------------------------------------------------------------------------------------------------------------------------------------------------------------------------------------------------------------------------------------------------------------------------------------------------------------------------------------------------------------------------------------------------------------\n",
      " version             | 3                                                                                                                                                                                                                                                                                                                                                                                                                                                                                                                                                                                                                                                         \n",
      " timestamp           | 2024-09-13 14:59:46.432                                                                                                                                                                                                                                                                                                                                                                                                                                                                                                                                                                                                                                   \n",
      " userId              | NULL                                                                                                                                                                                                                                                                                                                                                                                                                                                                                                                                                                                                                                                      \n",
      " userName            | NULL                                                                                                                                                                                                                                                                                                                                                                                                                                                                                                                                                                                                                                                      \n",
      " operation           | MERGE                                                                                                                                                                                                                                                                                                                                                                                                                                                                                                                                                                                                                                                     \n",
      " operationParameters | {predicate -> [\"(transaction_id#343 = transaction_id#4862)\"], matchedPredicates -> [{\"actionType\":\"update\"}], notMatchedPredicates -> [{\"actionType\":\"insert\"}], notMatchedBySourcePredicates -> []}                                                                                                                                                                                                                                                                                                                                                                                                                                                      \n",
      " job                 | NULL                                                                                                                                                                                                                                                                                                                                                                                                                                                                                                                                                                                                                                                      \n",
      " notebook            | NULL                                                                                                                                                                                                                                                                                                                                                                                                                                                                                                                                                                                                                                                      \n",
      " clusterId           | NULL                                                                                                                                                                                                                                                                                                                                                                                                                                                                                                                                                                                                                                                      \n",
      " readVersion         | 2                                                                                                                                                                                                                                                                                                                                                                                                                                                                                                                                                                                                                                                         \n",
      " isolationLevel      | Serializable                                                                                                                                                                                                                                                                                                                                                                                                                                                                                                                                                                                                                                              \n",
      " isBlindAppend       | false                                                                                                                                                                                                                                                                                                                                                                                                                                                                                                                                                                                                                                                     \n",
      " operationMetrics    | {numTargetRowsCopied -> 0, numTargetRowsDeleted -> 0, numTargetFilesAdded -> 1, numTargetBytesAdded -> 1734, numTargetBytesRemoved -> 1688, numTargetDeletionVectorsAdded -> 0, numTargetRowsMatchedUpdated -> 7, executionTimeMs -> 3218, numTargetRowsInserted -> 3, numTargetRowsMatchedDeleted -> 0, numTargetDeletionVectorsUpdated -> 0, scanTimeMs -> 1862, numTargetRowsUpdated -> 7, numOutputRows -> 10, numTargetDeletionVectorsRemoved -> 0, numTargetRowsNotMatchedBySourceUpdated -> 0, numTargetChangeFilesAdded -> 0, numSourceRows -> 10, numTargetFilesRemoved -> 1, numTargetRowsNotMatchedBySourceDeleted -> 0, rewriteTimeMs -> 774} \n",
      " userMetadata        | NULL                                                                                                                                                                                                                                                                                                                                                                                                                                                                                                                                                                                                                                                      \n",
      " engineInfo          | Apache-Spark/3.5.2 Delta-Lake/3.2.0                                                                                                                                                                                                                                                                                                                                                                                                                                                                                                                                                                                                                       \n",
      "-RECORD 1------------------------------------------------------------------------------------------------------------------------------------------------------------------------------------------------------------------------------------------------------------------------------------------------------------------------------------------------------------------------------------------------------------------------------------------------------------------------------------------------------------------------------------------------------------------------------------------------------------------------------------------------------------------------\n",
      " version             | 2                                                                                                                                                                                                                                                                                                                                                                                                                                                                                                                                                                                                                                                         \n",
      " timestamp           | 2024-09-13 14:57:16.419                                                                                                                                                                                                                                                                                                                                                                                                                                                                                                                                                                                                                                   \n",
      " userId              | NULL                                                                                                                                                                                                                                                                                                                                                                                                                                                                                                                                                                                                                                                      \n",
      " userName            | NULL                                                                                                                                                                                                                                                                                                                                                                                                                                                                                                                                                                                                                                                      \n",
      " operation           | DELETE                                                                                                                                                                                                                                                                                                                                                                                                                                                                                                                                                                                                                                                    \n",
      " operationParameters | {predicate -> [\"(customer_id#344 = 101)\"]}                                                                                                                                                                                                                                                                                                                                                                                                                                                                                                                                                                                                                \n",
      " job                 | NULL                                                                                                                                                                                                                                                                                                                                                                                                                                                                                                                                                                                                                                                      \n",
      " notebook            | NULL                                                                                                                                                                                                                                                                                                                                                                                                                                                                                                                                                                                                                                                      \n",
      " clusterId           | NULL                                                                                                                                                                                                                                                                                                                                                                                                                                                                                                                                                                                                                                                      \n",
      " readVersion         | 1                                                                                                                                                                                                                                                                                                                                                                                                                                                                                                                                                                                                                                                         \n",
      " isolationLevel      | Serializable                                                                                                                                                                                                                                                                                                                                                                                                                                                                                                                                                                                                                                              \n",
      " isBlindAppend       | false                                                                                                                                                                                                                                                                                                                                                                                                                                                                                                                                                                                                                                                     \n",
      " operationMetrics    | {numRemovedFiles -> 1, numRemovedBytes -> 1734, numCopiedRows -> 7, numDeletionVectorsAdded -> 0, numDeletionVectorsRemoved -> 0, numAddedChangeFiles -> 0, executionTimeMs -> 7384, numDeletionVectorsUpdated -> 0, numDeletedRows -> 3, scanTimeMs -> 6921, numAddedFiles -> 1, numAddedBytes -> 1688, rewriteTimeMs -> 462}                                                                                                                                                                                                                                                                                                                            \n",
      " userMetadata        | NULL                                                                                                                                                                                                                                                                                                                                                                                                                                                                                                                                                                                                                                                      \n",
      " engineInfo          | Apache-Spark/3.5.2 Delta-Lake/3.2.0                                                                                                                                                                                                                                                                                                                                                                                                                                                                                                                                                                                                                       \n",
      "-RECORD 2------------------------------------------------------------------------------------------------------------------------------------------------------------------------------------------------------------------------------------------------------------------------------------------------------------------------------------------------------------------------------------------------------------------------------------------------------------------------------------------------------------------------------------------------------------------------------------------------------------------------------------------------------------------------\n",
      " version             | 1                                                                                                                                                                                                                                                                                                                                                                                                                                                                                                                                                                                                                                                         \n",
      " timestamp           | 2024-09-13 14:54:50.321                                                                                                                                                                                                                                                                                                                                                                                                                                                                                                                                                                                                                                   \n",
      " userId              | NULL                                                                                                                                                                                                                                                                                                                                                                                                                                                                                                                                                                                                                                                      \n",
      " userName            | NULL                                                                                                                                                                                                                                                                                                                                                                                                                                                                                                                                                                                                                                                      \n",
      " operation           | UPDATE                                                                                                                                                                                                                                                                                                                                                                                                                                                                                                                                                                                                                                                    \n",
      " operationParameters | {predicate -> [\"(product_name#346 = Product A)\"]}                                                                                                                                                                                                                                                                                                                                                                                                                                                                                                                                                                                                         \n",
      " job                 | NULL                                                                                                                                                                                                                                                                                                                                                                                                                                                                                                                                                                                                                                                      \n",
      " notebook            | NULL                                                                                                                                                                                                                                                                                                                                                                                                                                                                                                                                                                                                                                                      \n",
      " clusterId           | NULL                                                                                                                                                                                                                                                                                                                                                                                                                                                                                                                                                                                                                                                      \n",
      " readVersion         | 0                                                                                                                                                                                                                                                                                                                                                                                                                                                                                                                                                                                                                                                         \n",
      " isolationLevel      | Serializable                                                                                                                                                                                                                                                                                                                                                                                                                                                                                                                                                                                                                                              \n",
      " isBlindAppend       | false                                                                                                                                                                                                                                                                                                                                                                                                                                                                                                                                                                                                                                                     \n",
      " operationMetrics    | {numRemovedFiles -> 1, numRemovedBytes -> 1740, numCopiedRows -> 6, numDeletionVectorsAdded -> 0, numDeletionVectorsRemoved -> 0, numAddedChangeFiles -> 0, executionTimeMs -> 4954, numDeletionVectorsUpdated -> 0, scanTimeMs -> 4488, numAddedFiles -> 1, numUpdatedRows -> 4, numAddedBytes -> 1734, rewriteTimeMs -> 463}                                                                                                                                                                                                                                                                                                                            \n",
      " userMetadata        | NULL                                                                                                                                                                                                                                                                                                                                                                                                                                                                                                                                                                                                                                                      \n",
      " engineInfo          | Apache-Spark/3.5.2 Delta-Lake/3.2.0                                                                                                                                                                                                                                                                                                                                                                                                                                                                                                                                                                                                                       \n",
      "-RECORD 3------------------------------------------------------------------------------------------------------------------------------------------------------------------------------------------------------------------------------------------------------------------------------------------------------------------------------------------------------------------------------------------------------------------------------------------------------------------------------------------------------------------------------------------------------------------------------------------------------------------------------------------------------------------------\n",
      " version             | 0                                                                                                                                                                                                                                                                                                                                                                                                                                                                                                                                                                                                                                                         \n",
      " timestamp           | 2024-09-13 14:43:03.09                                                                                                                                                                                                                                                                                                                                                                                                                                                                                                                                                                                                                                    \n",
      " userId              | NULL                                                                                                                                                                                                                                                                                                                                                                                                                                                                                                                                                                                                                                                      \n",
      " userName            | NULL                                                                                                                                                                                                                                                                                                                                                                                                                                                                                                                                                                                                                                                      \n",
      " operation           | WRITE                                                                                                                                                                                                                                                                                                                                                                                                                                                                                                                                                                                                                                                     \n",
      " operationParameters | {mode -> Overwrite, partitionBy -> []}                                                                                                                                                                                                                                                                                                                                                                                                                                                                                                                                                                                                                    \n",
      " job                 | NULL                                                                                                                                                                                                                                                                                                                                                                                                                                                                                                                                                                                                                                                      \n",
      " notebook            | NULL                                                                                                                                                                                                                                                                                                                                                                                                                                                                                                                                                                                                                                                      \n",
      " clusterId           | NULL                                                                                                                                                                                                                                                                                                                                                                                                                                                                                                                                                                                                                                                      \n",
      " readVersion         | NULL                                                                                                                                                                                                                                                                                                                                                                                                                                                                                                                                                                                                                                                      \n",
      " isolationLevel      | Serializable                                                                                                                                                                                                                                                                                                                                                                                                                                                                                                                                                                                                                                              \n",
      " isBlindAppend       | false                                                                                                                                                                                                                                                                                                                                                                                                                                                                                                                                                                                                                                                     \n",
      " operationMetrics    | {numFiles -> 1, numOutputRows -> 10, numOutputBytes -> 1740}                                                                                                                                                                                                                                                                                                                                                                                                                                                                                                                                                                                              \n",
      " userMetadata        | NULL                                                                                                                                                                                                                                                                                                                                                                                                                                                                                                                                                                                                                                                      \n",
      " engineInfo          | Apache-Spark/3.5.2 Delta-Lake/3.2.0                                                                                                                                                                                                                                                                                                                                                                                                                                                                                                                                                                                                                       \n"
     ]
    }
   ],
   "source": [
    "\n",
    "delta_table.toDF().show()\n",
    "delta_table.history().show(vertical=True, truncate=False)\n"
   ],
   "metadata": {
    "collapsed": false,
    "ExecuteTime": {
     "end_time": "2024-09-13T13:00:20.064455700Z",
     "start_time": "2024-09-13T13:00:17.447161400Z"
    }
   }
  },
  {
   "cell_type": "markdown",
   "source": [
    "# Perform a select on the delta table on the second version\n",
    "Use option versionAsOf when reading (spark.read) the delta table from disk\n",
    "You can also travel back in time with option timestampAsOf"
   ],
   "metadata": {
    "collapsed": false
   }
  },
  {
   "cell_type": "code",
   "execution_count": 20,
   "outputs": [
    {
     "name": "stdout",
     "output_type": "stream",
     "text": [
      "+--------------+-----------+-------------+------------+--------+\n",
      "|transaction_id|customer_id|purchase_date|product_name|quantity|\n",
      "+--------------+-----------+-------------+------------+--------+\n",
      "|             1|        101|   2023-06-01|   Product A|       3|\n",
      "|             2|        102|   2023-06-02|   Product B|       5|\n",
      "|             3|        103|   2023-06-03|   Product A|       4|\n",
      "|             4|        101|   2023-06-04|   Product C|       1|\n",
      "|             5|        104|   2023-06-05|   Product B|       4|\n",
      "|             6|        102|   2023-06-06|   Product A|       3|\n",
      "|             7|        103|   2023-06-07|   Product C|       3|\n",
      "|             8|        101|   2023-06-08|   Product B|       5|\n",
      "|             9|        104|   2023-06-09|   Product A|       3|\n",
      "|            10|        103|   2023-06-10|   Product B|       3|\n",
      "+--------------+-----------+-------------+------------+--------+\n"
     ]
    }
   ],
   "source": [
    "\n",
    "df = spark.read.format(\"delta\").option(\"versionAsOf\", 1).load(\"./spark-warehouse/transaction_data_delta\")\n",
    "df.show()"
   ],
   "metadata": {
    "collapsed": false,
    "ExecuteTime": {
     "end_time": "2024-09-13T13:02:41.594810500Z",
     "start_time": "2024-09-13T13:02:37.927151300Z"
    }
   }
  },
  {
   "cell_type": "code",
   "execution_count": null,
   "outputs": [],
   "source": [],
   "metadata": {
    "collapsed": false,
    "ExecuteTime": {
     "start_time": "2024-09-10T09:41:47.978071200Z"
    }
   }
  }
 ],
 "metadata": {
  "kernelspec": {
   "display_name": "Python 3",
   "language": "python",
   "name": "python3"
  },
  "language_info": {
   "codemirror_mode": {
    "name": "ipython",
    "version": 2
   },
   "file_extension": ".py",
   "mimetype": "text/x-python",
   "name": "python",
   "nbconvert_exporter": "python",
   "pygments_lexer": "ipython2",
   "version": "2.7.6"
  }
 },
 "nbformat": 4,
 "nbformat_minor": 0
}
