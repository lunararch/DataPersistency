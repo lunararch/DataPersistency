{
 "cells": [
  {
   "cell_type": "code",
   "id": "6796910a62ab8f37",
   "metadata": {
    "ExecuteTime": {
     "end_time": "2024-10-20T11:40:50.871650Z",
     "start_time": "2024-10-20T11:40:50.760983Z"
    }
   },
   "source": [
    "import ConnectionConfig as cc\n",
    "from pyspark.sql.functions import arrays_overlap, split, when, col\n",
    "from delta import DeltaTable\n",
    "\n",
    "cc.setupEnvironment()"
   ],
   "outputs": [],
   "execution_count": 1
  },
  {
   "metadata": {
    "collapsed": true,
    "ExecuteTime": {
     "end_time": "2024-10-20T11:40:57.661897Z",
     "start_time": "2024-10-20T11:40:50.877163Z"
    }
   },
   "cell_type": "code",
   "source": [
    "spark = cc.startLocalCluster(\"mongo_iets\", 4)\n",
    "spark.getActiveSession()"
   ],
   "id": "initial_id",
   "outputs": [
    {
     "data": {
      "text/plain": [
       "<pyspark.sql.session.SparkSession at 0x1d72f318a90>"
      ],
      "text/html": [
       "\n",
       "            <div>\n",
       "                <p><b>SparkSession - in-memory</b></p>\n",
       "                \n",
       "        <div>\n",
       "            <p><b>SparkContext</b></p>\n",
       "\n",
       "            <p><a href=\"http://192.168.1.54:4040\">Spark UI</a></p>\n",
       "\n",
       "            <dl>\n",
       "              <dt>Version</dt>\n",
       "                <dd><code>v3.5.2</code></dd>\n",
       "              <dt>Master</dt>\n",
       "                <dd><code>local[*]</code></dd>\n",
       "              <dt>AppName</dt>\n",
       "                <dd><code>mongo_iets</code></dd>\n",
       "            </dl>\n",
       "        </div>\n",
       "        \n",
       "            </div>\n",
       "        "
      ]
     },
     "execution_count": 2,
     "metadata": {},
     "output_type": "execute_result"
    }
   ],
   "execution_count": 2
  },
  {
   "metadata": {
    "ExecuteTime": {
     "end_time": "2024-10-20T11:40:59.773013Z",
     "start_time": "2024-10-20T11:40:58.618362Z"
    }
   },
   "cell_type": "code",
   "source": [
    "cc.set_connectionProfile(\"velodb\")\n",
    "\n",
    "rides_src_df = spark.read \\\n",
    "    .format(\"jdbc\") \\\n",
    "    .option(\"driver\", cc.get_Property(\"driver\")) \\\n",
    "    .option(\"url\", cc.create_jdbc()) \\\n",
    "    .option(\"dbtable\", \"rides\") \\\n",
    "    .option(\"user\", cc.get_Property(\"username\")) \\\n",
    "    .option(\"password\", cc.get_Property(\"password\")) \\\n",
    "    .option(\"partitionColumn\", \"rideid\") \\\n",
    "    .option(\"numPartitions\", 100) \\\n",
    "    .option(\"lowerBound\", 0) \\\n",
    "    .option(\"upperBound\", 4138255) \\\n",
    "    .load()\n",
    "\n",
    "rides_src_df.createOrReplaceTempView(\"rides\")\n",
    "\n",
    "vehicles_src_df = spark.read \\\n",
    "    .format(\"jdbc\") \\\n",
    "    .option(\"driver\", cc.get_Property(\"driver\")) \\\n",
    "    .option(\"url\", cc.create_jdbc()) \\\n",
    "    .option(\"dbtable\", \"vehicles\") \\\n",
    "    .option(\"user\", cc.get_Property(\"username\")) \\\n",
    "    .option(\"password\", cc.get_Property(\"password\")) \\\n",
    "    .option(\"partitionColumn\", \"vehicleid\") \\\n",
    "    .option(\"numPartitions\", 100) \\\n",
    "    .option(\"lowerBound\", 0) \\\n",
    "    .option(\"upperBound\", 301) \\\n",
    "    .load()\n",
    "\n",
    "vehicles_src_df.createOrReplaceTempView(\"vehicles\")\n",
    "\n"
   ],
   "id": "13e1745084acaee2",
   "outputs": [],
   "execution_count": 3
  },
  {
   "metadata": {
    "ExecuteTime": {
     "end_time": "2024-10-20T11:41:01.540407Z",
     "start_time": "2024-10-20T11:40:59.820636Z"
    }
   },
   "cell_type": "code",
   "source": "spark.sql(\"SELECT * FROM vehicles\").show()",
   "id": "6c2e97b5a762e0ec",
   "outputs": [
    {
     "name": "stdout",
     "output_type": "stream",
     "text": [
      "+---------+------------+---------+-------------------+------+-----------------+\n",
      "|vehicleid|serialnumber|bikelotid|  lastmaintenanceon|lockid|         position|\n",
      "+---------+------------+---------+-------------------+------+-----------------+\n",
      "|        1|        1000|        1|2020-01-19 02:14:57|  NULL|(51.1968,4.40579)|\n",
      "|        2|        2000|        1|2020-03-08 01:49:24|  NULL|(51.2177,4.42075)|\n",
      "|        3|        3000|        1|2020-06-01 12:37:26|  1568|(51.1926,4.42151)|\n",
      "|        4|        4000|        1|2020-02-27 03:13:56|  NULL|(51.2311,4.41267)|\n",
      "|        5|        5000|        1|2021-03-21 03:38:31|  NULL|(51.2177,4.42075)|\n",
      "|        6|        6000|        1|2020-06-16 21:44:19|  NULL|(51.2195,4.41169)|\n",
      "|        7|        7000|        1|2019-10-01 10:29:21|  1556| (51.2273,4.4307)|\n",
      "|        8|        8000|        1|2019-12-06 17:09:49|  NULL|(51.2047,4.39625)|\n",
      "|        9|        9000|        1|2020-01-01 10:06:51|  NULL|(51.2058,4.41837)|\n",
      "|       10|       10000|        1|2019-12-12 09:04:02|  NULL|(51.2008,4.39421)|\n",
      "|       11|       11000|        1|2019-12-22 10:20:54|  NULL|(51.2148,4.39632)|\n",
      "|       12|       12000|        1|2019-10-21 17:55:13|  NULL|(51.2195,4.41169)|\n",
      "|       13|       13000|        1|2019-10-01 19:15:22|  NULL|(51.1968,4.40579)|\n",
      "|       14|       14000|        1|2020-08-10 20:43:37|  NULL|(51.2088,4.40834)|\n",
      "|       15|       15000|        1|2020-10-30 21:35:40|  NULL|(51.2224,4.43004)|\n",
      "|       16|       16000|        1|2023-09-12 17:14:09|  6840|(51.1692,4.36344)|\n",
      "|       17|       17000|        1|2019-10-09 11:54:35|  NULL|  (51.2281,4.409)|\n",
      "|       18|       18000|        1|2019-12-20 21:25:39|  NULL|(51.2104,4.38767)|\n",
      "|       19|       19000|        1|2023-09-05 19:27:31|  2142| (51.211,4.39035)|\n",
      "|       20|       20000|        1|2019-10-01 15:38:59|  NULL|(51.2047,4.39625)|\n",
      "+---------+------------+---------+-------------------+------+-----------------+\n",
      "only showing top 20 rows\n",
      "\n"
     ]
    }
   ],
   "execution_count": 4
  },
  {
   "metadata": {
    "ExecuteTime": {
     "end_time": "2024-10-20T11:41:01.565537Z",
     "start_time": "2024-10-20T11:41:01.561698Z"
    }
   },
   "cell_type": "code",
   "source": "rides_src_df.printSchema()",
   "id": "6ea27cd1163b4dd1",
   "outputs": [
    {
     "name": "stdout",
     "output_type": "stream",
     "text": [
      "root\n",
      " |-- rideid: integer (nullable = true)\n",
      " |-- startpoint: string (nullable = true)\n",
      " |-- endpoint: string (nullable = true)\n",
      " |-- starttime: timestamp (nullable = true)\n",
      " |-- endtime: timestamp (nullable = true)\n",
      " |-- vehicleid: integer (nullable = true)\n",
      " |-- subscriptionid: integer (nullable = true)\n",
      " |-- startlockid: integer (nullable = true)\n",
      " |-- endlockid: integer (nullable = true)\n",
      "\n"
     ]
    }
   ],
   "execution_count": 5
  },
  {
   "metadata": {
    "ExecuteTime": {
     "end_time": "2024-10-20T11:41:01.699176Z",
     "start_time": "2024-10-20T11:41:01.696178Z"
    }
   },
   "cell_type": "code",
   "source": "vehicles_src_df.printSchema()",
   "id": "dc7c54094b333116",
   "outputs": [
    {
     "name": "stdout",
     "output_type": "stream",
     "text": [
      "root\n",
      " |-- vehicleid: integer (nullable = true)\n",
      " |-- serialnumber: string (nullable = true)\n",
      " |-- bikelotid: integer (nullable = true)\n",
      " |-- lastmaintenanceon: timestamp (nullable = true)\n",
      " |-- lockid: integer (nullable = true)\n",
      " |-- position: string (nullable = true)\n",
      "\n"
     ]
    }
   ],
   "execution_count": 6
  },
  {
   "metadata": {
    "ExecuteTime": {
     "end_time": "2024-10-20T11:41:02.104826Z",
     "start_time": "2024-10-20T11:41:01.759454Z"
    }
   },
   "cell_type": "code",
   "source": "vehicles_src_df.show()",
   "id": "bd0da18229964a64",
   "outputs": [
    {
     "name": "stdout",
     "output_type": "stream",
     "text": [
      "+---------+------------+---------+-------------------+------+-----------------+\n",
      "|vehicleid|serialnumber|bikelotid|  lastmaintenanceon|lockid|         position|\n",
      "+---------+------------+---------+-------------------+------+-----------------+\n",
      "|        1|        1000|        1|2020-01-19 02:14:57|  NULL|(51.1968,4.40579)|\n",
      "|        2|        2000|        1|2020-03-08 01:49:24|  NULL|(51.2177,4.42075)|\n",
      "|        3|        3000|        1|2020-06-01 12:37:26|  1568|(51.1926,4.42151)|\n",
      "|        4|        4000|        1|2020-02-27 03:13:56|  NULL|(51.2311,4.41267)|\n",
      "|        5|        5000|        1|2021-03-21 03:38:31|  NULL|(51.2177,4.42075)|\n",
      "|        6|        6000|        1|2020-06-16 21:44:19|  NULL|(51.2195,4.41169)|\n",
      "|        7|        7000|        1|2019-10-01 10:29:21|  1556| (51.2273,4.4307)|\n",
      "|        8|        8000|        1|2019-12-06 17:09:49|  NULL|(51.2047,4.39625)|\n",
      "|        9|        9000|        1|2020-01-01 10:06:51|  NULL|(51.2058,4.41837)|\n",
      "|       10|       10000|        1|2019-12-12 09:04:02|  NULL|(51.2008,4.39421)|\n",
      "|       11|       11000|        1|2019-12-22 10:20:54|  NULL|(51.2148,4.39632)|\n",
      "|       12|       12000|        1|2019-10-21 17:55:13|  NULL|(51.2195,4.41169)|\n",
      "|       13|       13000|        1|2019-10-01 19:15:22|  NULL|(51.1968,4.40579)|\n",
      "|       14|       14000|        1|2020-08-10 20:43:37|  NULL|(51.2088,4.40834)|\n",
      "|       15|       15000|        1|2020-10-30 21:35:40|  NULL|(51.2224,4.43004)|\n",
      "|       16|       16000|        1|2023-09-12 17:14:09|  6840|(51.1692,4.36344)|\n",
      "|       17|       17000|        1|2019-10-09 11:54:35|  NULL|  (51.2281,4.409)|\n",
      "|       18|       18000|        1|2019-12-20 21:25:39|  NULL|(51.2104,4.38767)|\n",
      "|       19|       19000|        1|2023-09-05 19:27:31|  2142| (51.211,4.39035)|\n",
      "|       20|       20000|        1|2019-10-01 15:38:59|  NULL|(51.2047,4.39625)|\n",
      "+---------+------------+---------+-------------------+------+-----------------+\n",
      "only showing top 20 rows\n",
      "\n"
     ]
    }
   ],
   "execution_count": 7
  },
  {
   "metadata": {
    "ExecuteTime": {
     "end_time": "2024-10-20T11:50:29.757256Z",
     "start_time": "2024-10-20T11:50:27.859657Z"
    }
   },
   "cell_type": "code",
   "source": [
    "# Use Spark SQL to create a nested structure\n",
    "nested_df = spark.sql(\"\"\"\n",
    "SELECT r.rideid, r.starttime, r.endtime, r.startpoint, r.endpoint, r.vehicleid,\n",
    "    struct(v.vehicleid, v.serialnumber) as vehicles\n",
    "FROM rides r\n",
    "JOIN vehicles v ON r.vehicleid = v.vehicleid\n",
    "\"\"\")\n",
    "\n",
    "nested_df.show(truncate=False)"
   ],
   "id": "d79a2e1c1b176504",
   "outputs": [
    {
     "name": "stdout",
     "output_type": "stream",
     "text": [
      "+------+-------------------+-------------------+-----------------+-----------------+---------+---------------+\n",
      "|rideid|starttime          |endtime            |startpoint       |endpoint         |vehicleid|vehicles       |\n",
      "+------+-------------------+-------------------+-----------------+-----------------+---------+---------------+\n",
      "|19    |2019-09-22 08:50:08|2019-09-22 09:09:02|(51.1888,4.45039)|(51.2221,4.40467)|5536     |{5536, 5536000}|\n",
      "|20    |2019-09-22 08:29:42|2019-09-22 08:31:40|(51.2159,4.41073)|(51.2191,4.41596)|6336     |{6336, 6336000}|\n",
      "|29    |2019-09-22 08:25:19|2019-09-22 08:28:33|(51.2011,4.439)  |(51.2069,4.43013)|1925     |{1925, 1925000}|\n",
      "|30    |2019-09-22 08:03:47|2019-09-22 08:05:09|(51.2214,4.41756)|(51.2168,4.41572)|5840     |{5840, 5840000}|\n",
      "|32    |2019-09-22 08:12:54|2019-09-22 08:18:24|(51.2155,4.42551)|(51.228,4.41899) |3572     |{3572, 3572000}|\n",
      "|38    |2019-09-22 08:07:25|2019-09-22 08:15:33|(51.1925,4.42158)|(51.2183,4.41409)|4032     |{4032, 4032000}|\n",
      "|39    |2019-09-22 08:54:16|2019-09-22 08:54:50|(51.2167,4.41404)|(51.2154,4.41488)|4815     |{4815, 4815000}|\n",
      "|40    |2019-09-22 08:52:17|2019-09-22 09:03:52|(51.2261,4.42638)|(51.2043,4.46124)|1920     |{1920, 1920000}|\n",
      "|48    |2019-09-22 08:05:38|2019-09-22 08:12:39|(51.2272,4.42228)|(51.2016,4.42358)|2733     |{2733, 2733000}|\n",
      "|52    |2019-09-22 08:08:29|2019-09-22 08:08:35|(51.2174,4.41408)|(51.2177,4.414)  |5862     |{5862, 5862000}|\n",
      "|60    |2019-09-22 08:30:39|2019-09-22 08:31:27|(51.2169,4.41099)|(51.2169,4.40871)|6282     |{6282, 6282000}|\n",
      "|62    |2019-09-22 08:36:59|2019-09-22 08:48:01|(51.2201,4.43269)|(51.1999,4.41879)|3412     |{3412, 3412000}|\n",
      "|72    |2019-09-22 08:05:40|2019-09-22 08:19:33|(51.1975,4.44373)|(51.2314,4.40357)|1969     |{1969, 1969000}|\n",
      "|79    |2019-09-22 08:17:29|2019-09-22 08:30:41|(51.2191,4.44437)|(51.2054,4.41352)|1681     |{1681, 1681000}|\n",
      "|82    |2019-09-22 08:16:55|2019-09-22 08:19:31|(51.2157,4.41467)|(51.2248,4.41619)|5190     |{5190, 5190000}|\n",
      "|85    |2019-09-22 08:54:31|2019-09-22 09:02:37|(51.228,4.40221) |(51.2134,4.41328)|5567     |{5567, 5567000}|\n",
      "|86    |2019-09-22 08:42:03|2019-09-22 08:52:50|(51.1968,4.39632)|(51.1682,4.39444)|1485     |{1485, 1485000}|\n",
      "|89    |2019-09-22 08:33:28|2019-09-22 08:38:22|(51.2055,4.39933)|(51.2191,4.3949) |3424     |{3424, 3424000}|\n",
      "|94    |2019-09-22 08:04:27|2019-09-22 08:09:07|(51.2164,4.40598)|(51.228,4.40221) |3681     |{3681, 3681000}|\n",
      "|95    |2019-09-22 08:37:24|2019-09-22 08:51:39|(51.1984,4.4022) |(51.2291,4.42473)|3533     |{3533, 3533000}|\n",
      "+------+-------------------+-------------------+-----------------+-----------------+---------+---------------+\n",
      "only showing top 20 rows\n",
      "\n"
     ]
    }
   ],
   "execution_count": 17
  },
  {
   "metadata": {
    "ExecuteTime": {
     "end_time": "2024-10-20T11:50:40.741665Z",
     "start_time": "2024-10-20T11:50:39.357844Z"
    }
   },
   "cell_type": "code",
   "source": "nested_df.count()",
   "id": "822eaecf3ff29406",
   "outputs": [
    {
     "data": {
      "text/plain": [
       "4138241"
      ]
     },
     "execution_count": 18,
     "metadata": {},
     "output_type": "execute_result"
    }
   ],
   "execution_count": 18
  },
  {
   "metadata": {
    "ExecuteTime": {
     "end_time": "2024-10-20T11:50:47.165332Z",
     "start_time": "2024-10-20T11:50:43.190426Z"
    }
   },
   "cell_type": "code",
   "source": [
    "# schrijf weg naar een json file\n",
    "nested_df.write.format(\"json\").mode(\"overwrite\").save(\"spark-warehouse/rides_vehicles\")"
   ],
   "id": "ea42e992e91a044f",
   "outputs": [],
   "execution_count": 19
  }
 ],
 "metadata": {
  "kernelspec": {
   "display_name": "Python 3",
   "language": "python",
   "name": "python3"
  },
  "language_info": {
   "codemirror_mode": {
    "name": "ipython",
    "version": 2
   },
   "file_extension": ".py",
   "mimetype": "text/x-python",
   "name": "python",
   "nbconvert_exporter": "python",
   "pygments_lexer": "ipython2",
   "version": "2.7.6"
  }
 },
 "nbformat": 4,
 "nbformat_minor": 5
}
