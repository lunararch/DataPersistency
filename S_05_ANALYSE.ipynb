{
 "cells": [
  {
   "cell_type": "code",
   "id": "initial_id",
   "metadata": {
    "collapsed": true,
    "ExecuteTime": {
     "end_time": "2024-11-03T12:03:00.210344Z",
     "start_time": "2024-11-03T12:03:00.104826Z"
    }
   },
   "source": [
    "import ConnectionConfig as cc\n",
    "from pyspark.sql.functions import arrays_overlap, split, when, col, expr\n",
    "from pyspark.sql.functions import date_format\n",
    "import math\n",
    "from pyspark.sql.functions import udf\n",
    "from pyspark.sql.types import DoubleType\n",
    "from delta import DeltaTable\n",
    "\n",
    "cc.setupEnvironment()"
   ],
   "outputs": [],
   "execution_count": 1
  },
  {
   "cell_type": "code",
   "source": [
    "spark = cc.startLocalCluster(\"analyse\", 4)\n",
    "spark.getActiveSession()"
   ],
   "metadata": {
    "collapsed": false,
    "ExecuteTime": {
     "end_time": "2024-11-03T12:03:11.786146Z",
     "start_time": "2024-11-03T12:03:00.215292Z"
    }
   },
   "id": "d3960df3ef41517a",
   "outputs": [
    {
     "data": {
      "text/plain": [
       "<pyspark.sql.session.SparkSession at 0x199bd359150>"
      ],
      "text/html": [
       "\n",
       "            <div>\n",
       "                <p><b>SparkSession - in-memory</b></p>\n",
       "                \n",
       "        <div>\n",
       "            <p><b>SparkContext</b></p>\n",
       "\n",
       "            <p><a href=\"http://192.168.1.43:4040\">Spark UI</a></p>\n",
       "\n",
       "            <dl>\n",
       "              <dt>Version</dt>\n",
       "                <dd><code>v3.5.2</code></dd>\n",
       "              <dt>Master</dt>\n",
       "                <dd><code>local[*]</code></dd>\n",
       "              <dt>AppName</dt>\n",
       "                <dd><code>analyse</code></dd>\n",
       "            </dl>\n",
       "        </div>\n",
       "        \n",
       "            </div>\n",
       "        "
      ]
     },
     "execution_count": 2,
     "metadata": {},
     "output_type": "execute_result"
    }
   ],
   "execution_count": 2
  },
  {
   "cell_type": "code",
   "source": [
    "# EXTRACT\n",
    "\n",
    "factRide = spark.read.format(\"delta\").load(\"./spark-warehouse/fact_rit\")\n",
    "\n",
    "dim_weather = spark.read.format(\"delta\").load(\"spark-warehouse/dim_weather\")\n",
    "dim_klant = spark.read.format(\"delta\").load(\"spark-warehouse/dim_klant\")\n",
    "dim_slot = spark.read.format(\"delta\").load(\"spark-warehouse/dim_slot\")\n",
    "dim_date = spark.read.format(\"delta\").load(\"spark-warehouse/dimdate\")\n",
    "\n",
    "factRide.createOrReplaceTempView(\"viewRide\")\n",
    "dim_weather.createOrReplaceTempView(\"viewWeather\")\n",
    "dim_klant.createOrReplaceTempView(\"viewKlant\")\n",
    "dim_slot.createOrReplaceTempView(\"viewSlot\")\n",
    "dim_date.createOrReplaceTempView(\"viewDate\")"
   ],
   "metadata": {
    "collapsed": false,
    "ExecuteTime": {
     "end_time": "2024-11-03T12:03:17.394626Z",
     "start_time": "2024-11-03T12:03:12.649158Z"
    }
   },
   "id": "c3163d36bec822e4",
   "outputs": [],
   "execution_count": 3
  },
  {
   "metadata": {},
   "cell_type": "markdown",
   "source": [
    "#  Wat zijn de drukke momenten (op dagbasis) in de week t.o.v. het weekend? "
   ],
   "id": "73d744ba6f19931a"
  },
  {
   "cell_type": "code",
   "source": [
    "# TRANSFORM\n",
    "\n",
    "druk = spark.sql(\"\"\"\n",
    "select count(*) as count, d.CalendarDate, date_format(d.CalendarDate, 'EEEE') as CalendarDay from viewRide r\n",
    "inner join viewDate d on r.date_SK = d.date_SK\n",
    "group by d.CalendarDate order by count desc\n",
    "\"\"\")\n",
    "druk.show()"
   ],
   "metadata": {
    "collapsed": false,
    "ExecuteTime": {
     "end_time": "2024-11-03T12:03:23.944825Z",
     "start_time": "2024-11-03T12:03:17.418068Z"
    }
   },
   "id": "34325acd527b9128",
   "outputs": [
    {
     "name": "stdout",
     "output_type": "stream",
     "text": [
      "+-----+------------+-----------+\n",
      "|count|CalendarDate|CalendarDay|\n",
      "+-----+------------+-----------+\n",
      "| 7891|  2022-06-21|    Tuesday|\n",
      "| 7891|  2021-02-14|     Sunday|\n",
      "| 7407|  2020-10-13|    Tuesday|\n",
      "| 7084|  2023-01-30|     Monday|\n",
      "| 7058|  2022-09-12|     Monday|\n",
      "| 7030|  2020-08-04|    Tuesday|\n",
      "| 6871|  2022-08-01|     Monday|\n",
      "| 6761|  2020-07-27|     Monday|\n",
      "| 6688|  2021-11-23|    Tuesday|\n",
      "| 6505|  2022-01-11|    Tuesday|\n",
      "| 6366|  2021-02-28|     Sunday|\n",
      "| 6332|  2020-07-20|     Monday|\n",
      "| 6330|  2023-07-30|     Sunday|\n",
      "| 6221|  2020-04-21|    Tuesday|\n",
      "| 6179|  2021-05-24|     Monday|\n",
      "| 6139|  2022-12-06|    Tuesday|\n",
      "| 6139|  2023-07-09|     Sunday|\n",
      "| 6126|  2021-05-18|    Tuesday|\n",
      "| 6053|  2022-05-15|     Sunday|\n",
      "| 6022|  2021-09-12|     Sunday|\n",
      "+-----+------------+-----------+\n",
      "only showing top 20 rows\n",
      "\n"
     ]
    }
   ],
   "execution_count": 4
  },
  {
   "cell_type": "code",
   "source": [
    "\n",
    "\n",
    "druk.write.format(\"delta\").mode(\"overwrite\").save(\"spark-warehouse/analyse/drukke_momenten_per_dag\")"
   ],
   "metadata": {
    "collapsed": false,
    "ExecuteTime": {
     "end_time": "2024-11-03T12:03:26.315996Z",
     "start_time": "2024-11-03T12:03:24.048513Z"
    }
   },
   "id": "4de5de78c8c45171",
   "outputs": [],
   "execution_count": 5
  },
  {
   "cell_type": "markdown",
   "source": [
    "#### De drukste momenten zijn op maandag en dinsdag in week en zondag in het weekend."
   ],
   "metadata": {
    "collapsed": false
   },
   "id": "6512453fe79bfbc6"
  },
  {
   "cell_type": "markdown",
   "source": [
    "# Hebben datumparameters invloed op de afgelegde afstand?"
   ],
   "metadata": {
    "collapsed": false
   },
   "id": "a115c5c1eb9226f6"
  },
  {
   "cell_type": "code",
   "source": [
    "distance_traveled = spark.sql(\"\"\"\n",
    "select sum(distance_km) as distance, d.CalendarDate, date_format(d.CalendarDate, 'EEEE') as CalendarDay from viewRide r\n",
    "inner join viewDate d on r.date_SK = d.date_SK\n",
    "group by d.CalendarDate\n",
    "order by distance desc\n",
    "\"\"\")\n",
    "distance_traveled.show()"
   ],
   "metadata": {
    "collapsed": false,
    "ExecuteTime": {
     "end_time": "2024-11-03T12:03:27.030613Z",
     "start_time": "2024-11-03T12:03:26.362776Z"
    }
   },
   "id": "77476ebb0b596d6d",
   "outputs": [
    {
     "name": "stdout",
     "output_type": "stream",
     "text": [
      "+------------------+------------+-----------+\n",
      "|          distance|CalendarDate|CalendarDay|\n",
      "+------------------+------------+-----------+\n",
      "|21576.858531696795|  2022-06-21|    Tuesday|\n",
      "|21185.390099687498|  2021-02-14|     Sunday|\n",
      "| 20341.04235682846|  2020-10-13|    Tuesday|\n",
      "|19528.076133437404|  2020-08-04|    Tuesday|\n",
      "|18925.975675413167|  2022-09-12|     Monday|\n",
      "|18557.910692016463|  2021-11-23|    Tuesday|\n",
      "| 18453.26930116918|  2023-01-30|     Monday|\n",
      "|  18236.3413793343|  2020-07-27|     Monday|\n",
      "|18230.477983224206|  2022-08-01|     Monday|\n",
      "|18020.809159663004|  2022-01-11|    Tuesday|\n",
      "| 17357.25206993964|  2020-07-20|     Monday|\n",
      "|  17248.8494071148|  2021-02-28|     Sunday|\n",
      "|16890.022233199972|  2020-04-21|    Tuesday|\n",
      "|16852.087513168794|  2022-12-06|    Tuesday|\n",
      "|16784.411539023462|  2020-01-12|     Sunday|\n",
      "|16759.522001199268|  2022-04-25|     Monday|\n",
      "| 16739.50464120908|  2023-07-30|     Sunday|\n",
      "| 16737.26978563482|  2021-05-18|    Tuesday|\n",
      "| 16658.61235561652|  2021-05-24|     Monday|\n",
      "|16444.795936869763|  2021-09-12|     Sunday|\n",
      "+------------------+------------+-----------+\n",
      "only showing top 20 rows\n",
      "\n"
     ]
    }
   ],
   "execution_count": 6
  },
  {
   "cell_type": "code",
   "source": [
    "distance_traveled.write.format(\"delta\").mode(\"overwrite\").save(\"spark-warehouse/analyse/afgelegde_afstand_per_dag\")"
   ],
   "metadata": {
    "collapsed": false,
    "ExecuteTime": {
     "end_time": "2024-11-03T12:03:28.126613Z",
     "start_time": "2024-11-03T12:03:27.042017Z"
    }
   },
   "id": "b51061b71acb598a",
   "outputs": [],
   "execution_count": 7
  },
  {
   "cell_type": "markdown",
   "source": [
    "#### De afgelegde afstand is het grootst op maandag en dinsdag in de week en zondag in het weekend."
   ],
   "metadata": {
    "collapsed": false
   },
   "id": "a24951cb41ea627c"
  },
  {
   "cell_type": "markdown",
   "source": [
    "# Heeft weer invloed op ritten?"
   ],
   "metadata": {
    "collapsed": false
   },
   "id": "22fe210966fd67b1"
  },
  {
   "cell_type": "code",
   "source": [
    "weer = spark.sql(\"\"\"\n",
    "select count(*) as count, weather_descriptor_SK from viewRide\n",
    "group by weather_descriptor_SK\n",
    "\"\"\")\n",
    "weer.show()"
   ],
   "metadata": {
    "collapsed": false,
    "ExecuteTime": {
     "end_time": "2024-11-03T12:03:53.256550Z",
     "start_time": "2024-11-03T12:03:52.050735Z"
    }
   },
   "id": "aac1530d240963b6",
   "outputs": [
    {
     "name": "stdout",
     "output_type": "stream",
     "text": [
      "+-------+---------------------+\n",
      "|  count|weather_descriptor_SK|\n",
      "+-------+---------------------+\n",
      "|3828645|    weertype onbekend|\n",
      "|    129|            aangenaam|\n",
      "|    159|          onaangenaam|\n",
      "|    154|             neutraal|\n",
      "+-------+---------------------+\n",
      "\n"
     ]
    }
   ],
   "execution_count": 10
  },
  {
   "cell_type": "code",
   "source": [
    "weer.write.format(\"delta\").mode(\"overwrite\").save(\"spark-warehouse/analyse/weer_invloed_op_ritten\")"
   ],
   "metadata": {
    "collapsed": false,
    "ExecuteTime": {
     "end_time": "2024-11-03T12:03:56.287282Z",
     "start_time": "2024-11-03T12:03:55.574132Z"
    }
   },
   "id": "a37eefd2f2803064",
   "outputs": [],
   "execution_count": 11
  },
  {
   "cell_type": "markdown",
   "source": [
    "#### Het weer heeft geen invloed op de ritten. (bij ons)"
   ],
   "metadata": {
    "collapsed": false
   },
   "id": "d8508d24fed5d1e5"
  },
  {
   "cell_type": "markdown",
   "source": [
    "# Wat is de invloed van de woonplaats van de gebruikers op het gebruik van de vehicles?"
   ],
   "metadata": {
    "collapsed": false
   },
   "id": "fe3fc1b1657f5b1a"
  },
  {
   "cell_type": "code",
   "source": [
    "invloed = spark.sql(\"\"\"\n",
    "select count(*) as count, r.klant_id_SK, k.address from viewRide r\n",
    "inner join viewKlant k on r.klant_id_SK = k.userid\n",
    "group by r.klant_id_SK, k.address\n",
    "order by count desc\n",
    "\"\"\")\n",
    "invloed.show()"
   ],
   "metadata": {
    "collapsed": false,
    "ExecuteTime": {
     "end_time": "2024-11-03T12:04:16.531698Z",
     "start_time": "2024-11-03T12:04:15.084230Z"
    }
   },
   "id": "8bbdf68c68dea1e",
   "outputs": [
    {
     "name": "stdout",
     "output_type": "stream",
     "text": [
      "+-----+-----------+--------------------+\n",
      "|count|klant_id_SK|             address|\n",
      "+-----+-----------+--------------------+\n",
      "| 2672|      43968|Oudesteenweg 108 ...|\n",
      "| 2552|      19109|Levergem 150 0005...|\n",
      "| 2456|      15229|Marnix Gijsenlaan...|\n",
      "| 2432|        355|Kapeldijkstraat 1...|\n",
      "| 2392|      37367|Mexicobruggen 120...|\n",
      "| 2376|      28331|Raapstraat 62 , 2...|\n",
      "| 2360|      37660|Kunstambachtslaan...|\n",
      "| 2352|      29289|Blokkersdijkstraa...|\n",
      "| 2344|       9344|Haantjeslei 155 ,...|\n",
      "| 2328|      54381|Jan van de Wervel...|\n",
      "| 2320|       6859|Salamander 47 , 2...|\n",
      "| 2280|      54620|Stokerijstraat 12...|\n",
      "| 2264|      25607|Kloetstraat 52 , ...|\n",
      "| 2256|       5750|Kattendijkbrug 14...|\n",
      "| 2248|      26437|Hazarddam 156 , 9...|\n",
      "| 2232|      48252|Kapellenboslei 10...|\n",
      "| 2192|      25327|Melgesdreef 70 , ...|\n",
      "| 2184|      51860|Laurentia Poststr...|\n",
      "| 2144|      34805|De Winkelhaak 194...|\n",
      "| 2080|      19475|Eiermarkt 17 0105...|\n",
      "+-----+-----------+--------------------+\n",
      "only showing top 20 rows\n",
      "\n"
     ]
    }
   ],
   "execution_count": 12
  },
  {
   "cell_type": "code",
   "source": [
    "# LOAD\n",
    "\n",
    "invloed.write.format(\"delta\").mode(\"overwrite\").save(\"spark-warehouse/analyse/invloed_woonplaats_adres\")"
   ],
   "metadata": {
    "collapsed": false,
    "ExecuteTime": {
     "end_time": "2024-11-03T12:04:20.720974Z",
     "start_time": "2024-11-03T12:04:19.424626Z"
    }
   },
   "id": "8b211411d8f69ca1",
   "outputs": [],
   "execution_count": 13
  },
  {
   "cell_type": "markdown",
   "source": [
    "### User 43968 pakt de meeste ritten."
   ],
   "metadata": {
    "collapsed": false
   },
   "id": "6fcda3949c9ed3e5"
  },
  {
   "cell_type": "markdown",
   "source": [
    "# We willen voorspellen welke sloten preventief onderhoud nodig hebben. Bekijk hoe vaak slotnummers relatief gezien gebruikt worden."
   ],
   "metadata": {
    "collapsed": false
   },
   "id": "462ee1cd1b089409"
  },
  {
   "cell_type": "code",
   "source": [
    "# TRANSFORM\n",
    "\n",
    "onderhoud = spark.sql(\"\"\"\n",
    "select count(*) as count, r.start_slot_id_SK from viewRide r\n",
    "group by r.start_slot_id_SK\n",
    "order by count desc\n",
    "\"\"\")\n",
    "onderhoud.show()"
   ],
   "metadata": {
    "collapsed": false,
    "ExecuteTime": {
     "end_time": "2024-11-03T12:04:36.959238Z",
     "start_time": "2024-11-03T12:04:36.597170Z"
    }
   },
   "id": "5fbb476d523dfd4e",
   "outputs": [
    {
     "name": "stdout",
     "output_type": "stream",
     "text": [
      "+-----+----------------+\n",
      "|count|start_slot_id_SK|\n",
      "+-----+----------------+\n",
      "|12078|            1548|\n",
      "|11996|            3258|\n",
      "|11956|            3024|\n",
      "|11939|             270|\n",
      "|11928|            2682|\n",
      "|11899|            2772|\n",
      "|11890|            2718|\n",
      "|11873|            2790|\n",
      "|11867|            2825|\n",
      "|11863|             738|\n",
      "|11858|             774|\n",
      "|11856|            2538|\n",
      "|11840|            2969|\n",
      "|11825|            2988|\n",
      "|11825|            2358|\n",
      "|11824|            2430|\n",
      "|11813|            1530|\n",
      "|11804|             809|\n",
      "|11799|             702|\n",
      "|11793|            1926|\n",
      "+-----+----------------+\n",
      "only showing top 20 rows\n",
      "\n"
     ]
    }
   ],
   "execution_count": 14
  },
  {
   "cell_type": "code",
   "source": [
    "# LOAD\n",
    "\n",
    "onderhoud.write.format(\"delta\").mode(\"overwrite\").save(\"spark-warehouse/analyse/slot_onderhoud\")"
   ],
   "metadata": {
    "collapsed": false,
    "ExecuteTime": {
     "end_time": "2024-11-03T12:04:44.086675Z",
     "start_time": "2024-11-03T12:04:43.382692Z"
    }
   },
   "id": "4729484e6d0a2bc2",
   "outputs": [],
   "execution_count": 15
  },
  {
   "cell_type": "markdown",
   "source": [
    "#### Slot 1548 wordt het meest gebruikt."
   ],
   "metadata": {
    "collapsed": false
   },
   "id": "1cfc197cdcb59932"
  },
  {
   "cell_type": "markdown",
   "source": [
    "# Als een klant zijn abonnement stopzet, willen we kunnen voorspellen op welke stations dit het meeste effect zal hebben."
   ],
   "metadata": {
    "collapsed": false
   },
   "id": "7da38fee8b17dc01"
  },
  {
   "cell_type": "code",
   "source": [
    "# TRANSFORM\n",
    "\n",
    "stop = spark.sql(\"\"\"\n",
    "select count(r.klant_id_SK) as count, s.zipcode from viewRide r\n",
    "inner join viewKlant k on r.klant_id_SK = k.userid\n",
    "inner join viewSlot s on r.start_slot_id_SK = s.lockid\n",
    "group by s.zipcode\n",
    "order by count desc\n",
    "\"\"\")\n",
    "stop.show()"
   ],
   "metadata": {
    "collapsed": false,
    "ExecuteTime": {
     "end_time": "2024-11-03T12:05:01.504621Z",
     "start_time": "2024-11-03T12:05:00.287101Z"
    }
   },
   "id": "643391a1f4251f1",
   "outputs": [
    {
     "name": "stdout",
     "output_type": "stream",
     "text": [
      "+-------+-------+\n",
      "|  count|zipcode|\n",
      "+-------+-------+\n",
      "|1070672|   2000|\n",
      "| 727079|   2018|\n",
      "| 408388|   2060|\n",
      "| 342507|   2600|\n",
      "| 263608|   2140|\n",
      "| 239664|   2100|\n",
      "| 198620|   2030|\n",
      "| 179201|   2660|\n",
      "| 127082|   2610|\n",
      "| 103545|   2050|\n",
      "|  96081|   2170|\n",
      "|  67579|   2020|\n",
      "+-------+-------+\n",
      "\n"
     ]
    }
   ],
   "execution_count": 16
  },
  {
   "cell_type": "code",
   "source": [
    "# LOAD\n",
    "\n",
    "stop.write.format(\"delta\").mode(\"overwrite\").save(\"spark-warehouse/analyse/stop_abonnement_station\")"
   ],
   "metadata": {
    "collapsed": false,
    "ExecuteTime": {
     "end_time": "2024-11-03T12:05:05.347571Z",
     "start_time": "2024-11-03T12:05:04.377185Z"
    }
   },
   "id": "d4d6af634cec5f53",
   "outputs": [],
   "execution_count": 17
  },
  {
   "cell_type": "markdown",
   "source": [
    "#### Het meeste effect zal het hebben op 2020."
   ],
   "metadata": {
    "collapsed": false
   },
   "id": "7b577d6bc0ce25e9"
  },
  {
   "cell_type": "markdown",
   "source": [
    "# Eigen Analyse Vragen"
   ],
   "metadata": {
    "collapsed": false
   },
   "id": "5ec832ab9d349c51"
  },
  {
   "cell_type": "markdown",
   "source": [
    "# Welk abonnementstype wordt het meest gebruikt?"
   ],
   "metadata": {
    "collapsed": false
   },
   "id": "f4654ac45d7ec583"
  },
  {
   "cell_type": "code",
   "source": [
    "# TRANSFORM\n",
    "\n",
    "abo = spark.sql(\"\"\"\n",
    "select count(*) as count, subscriptiontypeid from viewKlant group by subscriptiontypeid order by count desc\n",
    "\"\"\")\n",
    "abo.show()"
   ],
   "metadata": {
    "collapsed": false,
    "ExecuteTime": {
     "end_time": "2024-11-03T12:05:16.058600Z",
     "start_time": "2024-11-03T12:05:15.555338Z"
    }
   },
   "id": "b13dae9658032423",
   "outputs": [
    {
     "name": "stdout",
     "output_type": "stream",
     "text": [
      "+-----+------------------+\n",
      "|count|subscriptiontypeid|\n",
      "+-----+------------------+\n",
      "|43037|                 3|\n",
      "| 8724|                 2|\n",
      "| 8507|                 1|\n",
      "+-----+------------------+\n",
      "\n"
     ]
    }
   ],
   "execution_count": 18
  },
  {
   "cell_type": "code",
   "source": [
    "# LOAD\n",
    "\n",
    "abo.write.format(\"delta\").mode(\"overwrite\").save(\"spark-warehouse/analyse/pop_subscription_type\")"
   ],
   "metadata": {
    "collapsed": false,
    "ExecuteTime": {
     "end_time": "2024-11-03T12:05:18.282901Z",
     "start_time": "2024-11-03T12:05:17.653230Z"
    }
   },
   "id": "d267d783b6aa64ca",
   "outputs": [],
   "execution_count": 19
  },
  {
   "cell_type": "markdown",
   "source": [
    "#### Het abonnementstype 3 wordt veruit het meest gebruikt."
   ],
   "metadata": {
    "collapsed": false
   },
   "id": "250e9f6d80f04d32"
  },
  {
   "cell_type": "markdown",
   "source": [
    "# Welke stations worden het meest gebruikt?"
   ],
   "metadata": {
    "collapsed": false
   },
   "id": "2a9898b385b4035c"
  },
  {
   "cell_type": "code",
   "source": [
    "# TRANSFORM\n",
    "\n",
    "pop = spark.sql(\"\"\"\n",
    "select count(*) as count, s.stationnr from viewRide r\n",
    "inner join viewSlot s on r.start_slot_id_SK = s.lockid\n",
    "group by stationnr\n",
    "order by count desc\n",
    "\"\"\")\n",
    "pop.show()"
   ],
   "metadata": {
    "collapsed": false,
    "ExecuteTime": {
     "end_time": "2024-11-03T12:06:34.668051Z",
     "start_time": "2024-11-03T12:06:34.113357Z"
    }
   },
   "id": "f5a578d4c4dff52b",
   "outputs": [
    {
     "name": "stdout",
     "output_type": "stream",
     "text": [
      "+-----+---------+\n",
      "|count|stationnr|\n",
      "+-----+---------+\n",
      "|41558|      227|\n",
      "|41406|      305|\n",
      "|41370|      225|\n",
      "|40062|      307|\n",
      "|39893|      033|\n",
      "|38919|      123|\n",
      "|38767|      043|\n",
      "|38660|      059|\n",
      "|38447|      061|\n",
      "|38252|      055|\n",
      "|38179|      137|\n",
      "|38162|      203|\n",
      "|38156|      050|\n",
      "|38088|      105|\n",
      "|38030|      038|\n",
      "|38023|      127|\n",
      "|37910|      133|\n",
      "|37910|      224|\n",
      "|37870|      051|\n",
      "|37558|      048|\n",
      "+-----+---------+\n",
      "only showing top 20 rows\n",
      "\n"
     ]
    }
   ],
   "execution_count": 20
  },
  {
   "cell_type": "code",
   "source": [
    "# LOAD\n",
    "\n",
    "pop.write.format(\"delta\").mode(\"overwrite\").save(\"spark-warehouse/analyse/station_usage\")"
   ],
   "metadata": {
    "collapsed": false,
    "ExecuteTime": {
     "end_time": "2024-11-03T12:06:37.534123Z",
     "start_time": "2024-11-03T12:06:36.755075Z"
    }
   },
   "id": "ed3f2bcfed4fcd07",
   "outputs": [],
   "execution_count": 21
  },
  {
   "cell_type": "markdown",
   "source": [
    "#### Het station met nummer 227 wordt het meest gebruikt."
   ],
   "metadata": {
    "collapsed": false
   },
   "id": "c8852b7da109edac"
  },
  {
   "cell_type": "markdown",
   "source": [
    "# In welke straat wonen de meeste mensen?"
   ],
   "metadata": {
    "collapsed": false
   },
   "id": "484a053cb17fa43c"
  },
  {
   "cell_type": "code",
   "source": [
    "# TRANSFORM\n",
    "\n",
    "street = spark.sql(\"\"\"\n",
    "select count(*) as count, \n",
    "    trim(trailing ' 1234567890 ,' from substr(address, 0, instr(address, ','))) as street, \n",
    "    substr(address, instr(address, ',')+2, 4) as postcode \n",
    "from viewKlant \n",
    "group by street, postcode \n",
    "order by count desc\n",
    "\"\"\")\n",
    "street.show()"
   ],
   "metadata": {
    "collapsed": false,
    "ExecuteTime": {
     "end_time": "2024-11-03T12:06:46.204616Z",
     "start_time": "2024-11-03T12:06:45.811967Z"
    }
   },
   "id": "793d98ad4272a7d8",
   "outputs": [
    {
     "name": "stdout",
     "output_type": "stream",
     "text": [
      "+-----+--------------------+--------+\n",
      "|count|              street|postcode|\n",
      "+-----+--------------------+--------+\n",
      "|   36|                Wijk|    2530|\n",
      "|   28|         Reepkenslei|    2550|\n",
      "|   28| Prins Boudewijnlaan|    2650|\n",
      "|   26|         Kanaaldok B|    2040|\n",
      "|   25|          Liersebaan|    2240|\n",
      "|   25|         Heidestraat|    2070|\n",
      "|   24|          Krijgsbaan|    2640|\n",
      "|   24|         Toeffelhoek|    2530|\n",
      "|   23|Jozef de Veusters...|    2650|\n",
      "|   23|          Sint Jozef|    2520|\n",
      "|   22|     Antwerpsestraat|    2640|\n",
      "|   21|           Koggelaan|    2050|\n",
      "|   21|            Keerbaan|    2520|\n",
      "|   21|  Broechemsesteenweg|    2520|\n",
      "|   21|         Binnenbeemd|    2550|\n",
      "|   21|Frans De Vriendts...|    2140|\n",
      "|   21|         Van Eycklei|    2018|\n",
      "|   20|       Melselestraat|    9120|\n",
      "|   20|                Wijk|    2531|\n",
      "|   20|      Boereveldseweg|    2070|\n",
      "+-----+--------------------+--------+\n",
      "only showing top 20 rows\n",
      "\n"
     ]
    }
   ],
   "execution_count": 22
  },
  {
   "cell_type": "code",
   "source": [
    "# LOAD\n",
    "\n",
    "street.write.format(\"delta\").mode(\"overwrite\").save(\"spark-warehouse/analyse/street_population\")"
   ],
   "metadata": {
    "collapsed": false,
    "ExecuteTime": {
     "end_time": "2024-11-03T12:06:49.092225Z",
     "start_time": "2024-11-03T12:06:48.436961Z"
    }
   },
   "id": "ce8f14d92baf1d4f",
   "outputs": [],
   "execution_count": 23
  },
  {
   "cell_type": "markdown",
   "source": [
    "#### De meeste mensen wonen in Wijk van 2530"
   ],
   "metadata": {
    "collapsed": false
   },
   "id": "e960bfc0a3021ed4"
  },
  {
   "cell_type": "markdown",
   "source": [
    "# Hoeveel ritten worden er per maand gemaakt?"
   ],
   "metadata": {
    "collapsed": false
   },
   "id": "cd106e0b454da03f"
  },
  {
   "cell_type": "code",
   "source": [
    "# TRANSFORM\n",
    "\n",
    "monthly = spark.sql(\"\"\"\n",
    "    SELECT \n",
    "        YEAR(d.CalendarDate) as year,\n",
    "        MONTH(d.CalendarDate) as month,\n",
    "        COUNT(*) as monthly_rides\n",
    "    FROM viewRide r\n",
    "    INNER JOIN viewDate d ON r.date_SK = d.date_SK\n",
    "    GROUP BY year, month\n",
    "    ORDER BY year, month\n",
    "\"\"\")\n",
    "monthly.show()"
   ],
   "metadata": {
    "collapsed": false,
    "ExecuteTime": {
     "end_time": "2024-11-03T12:06:56.796028Z",
     "start_time": "2024-11-03T12:06:56.122998Z"
    }
   },
   "id": "50da166933e541b0",
   "outputs": [
    {
     "name": "stdout",
     "output_type": "stream",
     "text": [
      "+----+-----+-------------+\n",
      "|year|month|monthly_rides|\n",
      "+----+-----+-------------+\n",
      "|2019|    9|        35241|\n",
      "|2019|   10|        86627|\n",
      "|2019|   11|        84729|\n",
      "|2019|   12|        80170|\n",
      "|2020|    1|        80265|\n",
      "|2020|    2|        68930|\n",
      "|2020|    3|        83958|\n",
      "|2020|    4|        73587|\n",
      "|2020|    5|        78325|\n",
      "|2020|    6|        71876|\n",
      "|2020|    7|        90183|\n",
      "|2020|    8|        72259|\n",
      "|2020|    9|        74006|\n",
      "|2020|   10|        84996|\n",
      "|2020|   11|        81580|\n",
      "|2020|   12|        76010|\n",
      "|2021|    1|        76534|\n",
      "|2021|    2|        80567|\n",
      "|2021|    3|        87935|\n",
      "|2021|    4|        79074|\n",
      "+----+-----+-------------+\n",
      "only showing top 20 rows\n",
      "\n"
     ]
    }
   ],
   "execution_count": 24
  },
  {
   "cell_type": "code",
   "source": [
    "# LOAD\n",
    "\n",
    "monthly.write.format(\"delta\").mode(\"overwrite\").save(\"spark-warehouse/analyse/monthly_rides\")"
   ],
   "metadata": {
    "collapsed": false,
    "ExecuteTime": {
     "end_time": "2024-11-03T12:06:59.998509Z",
     "start_time": "2024-11-03T12:06:59.234296Z"
    }
   },
   "id": "11a88a7a41d710db",
   "outputs": [],
   "execution_count": 25
  },
  {
   "cell_type": "markdown",
   "source": [
    "#### In september 2019 worden meer dan 35000 ritten gemaakt terwijl in oktober van hetzelfde jaar worden meer dan 86000 ritten gemaakt"
   ],
   "metadata": {
    "collapsed": false
   },
   "id": "b90f737cf3217cc1"
  },
  {
   "cell_type": "code",
   "source": [
    "spark.stop()"
   ],
   "metadata": {
    "collapsed": false,
    "ExecuteTime": {
     "end_time": "2024-11-03T12:07:01.883821Z",
     "start_time": "2024-11-03T12:07:01.619976Z"
    }
   },
   "id": "8b5d8db3f3da1816",
   "outputs": [],
   "execution_count": 26
  },
  {
   "cell_type": "markdown",
   "source": [],
   "metadata": {
    "collapsed": false
   },
   "id": "4ac7adb038f175a4"
  }
 ],
 "metadata": {
  "kernelspec": {
   "display_name": "Python 3",
   "language": "python",
   "name": "python3"
  },
  "language_info": {
   "codemirror_mode": {
    "name": "ipython",
    "version": 2
   },
   "file_extension": ".py",
   "mimetype": "text/x-python",
   "name": "python",
   "nbconvert_exporter": "python",
   "pygments_lexer": "ipython2",
   "version": "2.7.6"
  }
 },
 "nbformat": 4,
 "nbformat_minor": 5
}
