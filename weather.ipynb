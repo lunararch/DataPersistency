{
 "cells": [
  {
   "cell_type": "code",
   "execution_count": 2,
   "id": "initial_id",
   "metadata": {
    "collapsed": true,
    "ExecuteTime": {
     "end_time": "2024-09-30T08:11:01.849069300Z",
     "start_time": "2024-09-30T08:11:01.842739Z"
    }
   },
   "outputs": [],
   "source": [
    "from pyspark.sql import SparkSession\n",
    "from delta import configure_spark_with_delta_pip\n",
    "import ConnectionConfig as cc\n",
    "\n",
    "cc.setupEnvironment()"
   ]
  },
  {
   "cell_type": "code",
   "outputs": [
    {
     "data": {
      "text/plain": "<pyspark.sql.session.SparkSession at 0x200b5e24390>",
      "text/html": "\n            <div>\n                <p><b>SparkSession - in-memory</b></p>\n                \n        <div>\n            <p><b>SparkContext</b></p>\n\n            <p><a href=\"http://10.140.98.154:4040\">Spark UI</a></p>\n\n            <dl>\n              <dt>Version</dt>\n                <dd><code>v3.5.2</code></dd>\n              <dt>Master</dt>\n                <dd><code>local[*]</code></dd>\n              <dt>AppName</dt>\n                <dd><code>FACT_RIT</code></dd>\n            </dl>\n        </div>\n        \n            </div>\n        "
     },
     "execution_count": 3,
     "metadata": {},
     "output_type": "execute_result"
    }
   ],
   "source": [
    "spark = cc.startLocalCluster(\"FACT_RIT\", 4)\n",
    "spark.getActiveSession()"
   ],
   "metadata": {
    "collapsed": false,
    "ExecuteTime": {
     "end_time": "2024-09-30T08:11:21.734727800Z",
     "start_time": "2024-09-30T08:11:03.750879200Z"
    }
   },
   "id": "eab846326f80c54f",
   "execution_count": 3
  },
  {
   "cell_type": "code",
   "outputs": [],
   "source": [
    "# Extract\n",
    "cc.set_connectionProfile(\"velodb\")\n",
    "\n",
    "df_stations = spark.read \\\n",
    "    .format(\"jdbc\") \\\n",
    "    .option(\"driver\" , cc.get_Property(\"driver\")) \\\n",
    "    .option(\"url\", cc.create_jdbc()) \\\n",
    "    .option(\"dbtable\", \"stations\") \\\n",
    "    .option(\"user\", cc.get_Property(\"username\")) \\\n",
    "    .option(\"password\", cc.get_Property(\"password\")) \\\n",
    "    .option(\"partitionColumn\", \"stationid\") \\\n",
    "    .option(\"numPartitions\", 4) \\\n",
    "    .option(\"lowerBound\", 0) \\\n",
    "    .option(\"upperBound\", 20) \\\n",
    "    .load()"
   ],
   "metadata": {
    "collapsed": false,
    "ExecuteTime": {
     "end_time": "2024-09-30T08:11:31.245418400Z",
     "start_time": "2024-09-30T08:11:29.872823600Z"
    }
   },
   "id": "312f5a58c21dd9d",
   "execution_count": 4
  },
  {
   "cell_type": "code",
   "outputs": [],
   "source": [
    "df_rides = spark.read \\\n",
    "    .format(\"jdbc\") \\\n",
    "    .option(\"driver\" , cc.get_Property(\"driver\")) \\\n",
    "    .option(\"url\", cc.create_jdbc()) \\\n",
    "    .option(\"dbtable\", \"rides\") \\\n",
    "    .option(\"user\", cc.get_Property(\"username\")) \\\n",
    "    .option(\"password\", cc.get_Property(\"password\")) \\\n",
    "    .option(\"partitionColumn\", \"rideid\") \\\n",
    "    .option(\"numPartitions\", 100) \\\n",
    "    .option(\"lowerBound\", 0) \\\n",
    "    .option(\"upperBound\", 4138255) \\\n",
    "    .load()"
   ],
   "metadata": {
    "collapsed": false,
    "ExecuteTime": {
     "end_time": "2024-09-30T08:11:32.456013100Z",
     "start_time": "2024-09-30T08:11:32.313890700Z"
    }
   },
   "id": "ce060073eb8191fa",
   "execution_count": 5
  },
  {
   "cell_type": "code",
   "outputs": [],
   "source": [
    "df_stations.createOrReplaceTempView(\"stations\")\n",
    "df_rides.createOrReplaceTempView(\"rides\")"
   ],
   "metadata": {
    "collapsed": false,
    "ExecuteTime": {
     "end_time": "2024-09-30T08:11:36.564271400Z",
     "start_time": "2024-09-30T08:11:35.902256700Z"
    }
   },
   "id": "620fb670c54c8681",
   "execution_count": 6
  },
  {
   "cell_type": "code",
   "outputs": [],
   "source": [
    "df_stations = df_stations.select(\"zipcode\", \"gpscoord\", \"stationid\", \"zipcode\")\n",
    "df_zipcodes = df_stations.select(\"zipcode\").distinct()\n",
    "df_rides = df_rides.select(\"startpoint\", \"starttime\")"
   ],
   "metadata": {
    "collapsed": false,
    "ExecuteTime": {
     "end_time": "2024-09-30T08:11:37.651093100Z",
     "start_time": "2024-09-30T08:11:37.566362500Z"
    }
   },
   "id": "1f4de86364ae526b",
   "execution_count": 7
  },
  {
   "cell_type": "code",
   "outputs": [
    {
     "name": "stdout",
     "output_type": "stream",
     "text": [
      "{'coord': {'lon': 4.4167, 'lat': 51.2167}, 'weather': [{'id': 300, 'main': 'Drizzle', 'description': 'light intensity drizzle', 'icon': '09d'}, {'id': 500, 'main': 'Rain', 'description': 'light rain', 'icon': '10d'}], 'base': 'stations', 'main': {'temp': 285.7, 'feels_like': 285.49, 'temp_min': 285.11, 'temp_max': 286.46, 'pressure': 1008, 'humidity': 95, 'sea_level': 1008, 'grnd_level': 1007}, 'visibility': 8000, 'wind': {'speed': 4.12, 'deg': 130}, 'rain': {'1h': 0.34}, 'clouds': {'all': 75}, 'dt': 1727689398, 'sys': {'type': 2, 'id': 2006860, 'country': 'BE', 'sunrise': 1727674896, 'sunset': 1727716963}, 'timezone': 7200, 'id': 0, 'name': 'Antwerpen', 'cod': 200}\n",
      "{'coord': {'lon': 4.4167, 'lat': 51.2167}, 'weather': [{'id': 300, 'main': 'Drizzle', 'description': 'light intensity drizzle', 'icon': '09d'}, {'id': 500, 'main': 'Rain', 'description': 'light rain', 'icon': '10d'}], 'base': 'stations', 'main': {'temp': 285.7, 'feels_like': 285.49, 'temp_min': 285.11, 'temp_max': 286.46, 'pressure': 1008, 'humidity': 95, 'sea_level': 1008, 'grnd_level': 1007}, 'visibility': 8000, 'wind': {'speed': 4.12, 'deg': 130}, 'rain': {'1h': 0.34}, 'clouds': {'all': 75}, 'dt': 1727689398, 'sys': {'type': 2, 'id': 2006860, 'country': 'BE', 'sunrise': 1727674896, 'sunset': 1727716963}, 'timezone': 7200, 'id': 0, 'name': 'Antwerpen', 'cod': 200}\n",
      "{'coord': {'lon': 4.4167, 'lat': 51.2167}, 'weather': [{'id': 300, 'main': 'Drizzle', 'description': 'light intensity drizzle', 'icon': '09d'}, {'id': 500, 'main': 'Rain', 'description': 'light rain', 'icon': '10d'}], 'base': 'stations', 'main': {'temp': 285.7, 'feels_like': 285.49, 'temp_min': 285.11, 'temp_max': 286.46, 'pressure': 1008, 'humidity': 95, 'sea_level': 1008, 'grnd_level': 1007}, 'visibility': 8000, 'wind': {'speed': 4.12, 'deg': 130}, 'rain': {'1h': 0.34}, 'clouds': {'all': 75}, 'dt': 1727689398, 'sys': {'type': 2, 'id': 2006860, 'country': 'BE', 'sunrise': 1727674896, 'sunset': 1727716963}, 'timezone': 7200, 'id': 0, 'name': 'Antwerpen', 'cod': 200}\n",
      "{'coord': {'lon': 4.4167, 'lat': 51.2167}, 'weather': [{'id': 300, 'main': 'Drizzle', 'description': 'light intensity drizzle', 'icon': '09d'}, {'id': 500, 'main': 'Rain', 'description': 'light rain', 'icon': '10d'}], 'base': 'stations', 'main': {'temp': 285.7, 'feels_like': 285.49, 'temp_min': 285.11, 'temp_max': 286.46, 'pressure': 1008, 'humidity': 95, 'sea_level': 1008, 'grnd_level': 1007}, 'visibility': 8000, 'wind': {'speed': 4.12, 'deg': 130}, 'rain': {'1h': 0.34}, 'clouds': {'all': 75}, 'dt': 1727689398, 'sys': {'type': 2, 'id': 2006860, 'country': 'BE', 'sunrise': 1727674896, 'sunset': 1727716963}, 'timezone': 7200, 'id': 0, 'name': 'Antwerpen', 'cod': 200}\n",
      "{'coord': {'lon': 4.4167, 'lat': 51.2167}, 'weather': [{'id': 300, 'main': 'Drizzle', 'description': 'light intensity drizzle', 'icon': '09d'}, {'id': 500, 'main': 'Rain', 'description': 'light rain', 'icon': '10d'}], 'base': 'stations', 'main': {'temp': 285.7, 'feels_like': 285.49, 'temp_min': 285.11, 'temp_max': 286.46, 'pressure': 1008, 'humidity': 95, 'sea_level': 1008, 'grnd_level': 1007}, 'visibility': 8000, 'wind': {'speed': 4.12, 'deg': 130}, 'rain': {'1h': 0.34}, 'clouds': {'all': 75}, 'dt': 1727689398, 'sys': {'type': 2, 'id': 2006860, 'country': 'BE', 'sunrise': 1727674896, 'sunset': 1727716963}, 'timezone': 7200, 'id': 0, 'name': 'Antwerpen', 'cod': 200}\n",
      "{'coord': {'lon': 4.4167, 'lat': 51.2167}, 'weather': [{'id': 300, 'main': 'Drizzle', 'description': 'light intensity drizzle', 'icon': '09d'}, {'id': 500, 'main': 'Rain', 'description': 'light rain', 'icon': '10d'}], 'base': 'stations', 'main': {'temp': 285.7, 'feels_like': 285.49, 'temp_min': 285.11, 'temp_max': 286.46, 'pressure': 1008, 'humidity': 95, 'sea_level': 1008, 'grnd_level': 1007}, 'visibility': 8000, 'wind': {'speed': 4.12, 'deg': 130}, 'rain': {'1h': 0.34}, 'clouds': {'all': 75}, 'dt': 1727689398, 'sys': {'type': 2, 'id': 2006860, 'country': 'BE', 'sunrise': 1727674896, 'sunset': 1727716963}, 'timezone': 7200, 'id': 0, 'name': 'Antwerpen', 'cod': 200}\n",
      "{'coord': {'lon': 4.4167, 'lat': 51.2167}, 'weather': [{'id': 300, 'main': 'Drizzle', 'description': 'light intensity drizzle', 'icon': '09d'}, {'id': 500, 'main': 'Rain', 'description': 'light rain', 'icon': '10d'}], 'base': 'stations', 'main': {'temp': 285.7, 'feels_like': 285.49, 'temp_min': 285.11, 'temp_max': 286.46, 'pressure': 1008, 'humidity': 95, 'sea_level': 1008, 'grnd_level': 1007}, 'visibility': 8000, 'wind': {'speed': 4.12, 'deg': 130}, 'rain': {'1h': 0.33}, 'clouds': {'all': 75}, 'dt': 1727689425, 'sys': {'type': 2, 'id': 2006860, 'country': 'BE', 'sunrise': 1727674896, 'sunset': 1727716963}, 'timezone': 7200, 'id': 0, 'name': 'Antwerpen', 'cod': 200}\n",
      "{'coord': {'lon': 4.4167, 'lat': 51.2167}, 'weather': [{'id': 300, 'main': 'Drizzle', 'description': 'light intensity drizzle', 'icon': '09d'}, {'id': 500, 'main': 'Rain', 'description': 'light rain', 'icon': '10d'}], 'base': 'stations', 'main': {'temp': 285.71, 'feels_like': 285.5, 'temp_min': 285.11, 'temp_max': 286.52, 'pressure': 1008, 'humidity': 95, 'sea_level': 1008, 'grnd_level': 1007}, 'visibility': 8000, 'wind': {'speed': 4.12, 'deg': 130}, 'rain': {'1h': 0.32}, 'clouds': {'all': 75}, 'dt': 1727689510, 'sys': {'type': 2, 'id': 2006860, 'country': 'BE', 'sunrise': 1727674896, 'sunset': 1727716963}, 'timezone': 7200, 'id': 0, 'name': 'Antwerpen', 'cod': 200}\n",
      "{'coord': {'lon': 4.4167, 'lat': 51.2167}, 'weather': [{'id': 300, 'main': 'Drizzle', 'description': 'light intensity drizzle', 'icon': '09d'}, {'id': 500, 'main': 'Rain', 'description': 'light rain', 'icon': '10d'}], 'base': 'stations', 'main': {'temp': 285.7, 'feels_like': 285.49, 'temp_min': 285.11, 'temp_max': 286.46, 'pressure': 1008, 'humidity': 95, 'sea_level': 1008, 'grnd_level': 1007}, 'visibility': 8000, 'wind': {'speed': 4.12, 'deg': 130}, 'rain': {'1h': 0.33}, 'clouds': {'all': 75}, 'dt': 1727689425, 'sys': {'type': 2, 'id': 2006860, 'country': 'BE', 'sunrise': 1727674896, 'sunset': 1727716963}, 'timezone': 7200, 'id': 0, 'name': 'Antwerpen', 'cod': 200}\n",
      "{'coord': {'lon': 4.4167, 'lat': 51.2167}, 'weather': [{'id': 300, 'main': 'Drizzle', 'description': 'light intensity drizzle', 'icon': '09d'}, {'id': 500, 'main': 'Rain', 'description': 'light rain', 'icon': '10d'}], 'base': 'stations', 'main': {'temp': 285.71, 'feels_like': 285.5, 'temp_min': 285.11, 'temp_max': 286.52, 'pressure': 1008, 'humidity': 95, 'sea_level': 1008, 'grnd_level': 1007}, 'visibility': 8000, 'wind': {'speed': 4.12, 'deg': 130}, 'rain': {'1h': 0.32}, 'clouds': {'all': 75}, 'dt': 1727689510, 'sys': {'type': 2, 'id': 2006860, 'country': 'BE', 'sunrise': 1727674896, 'sunset': 1727716963}, 'timezone': 7200, 'id': 0, 'name': 'Antwerpen', 'cod': 200}\n",
      "{'coord': {'lon': 4.4167, 'lat': 51.2167}, 'weather': [{'id': 300, 'main': 'Drizzle', 'description': 'light intensity drizzle', 'icon': '09d'}, {'id': 500, 'main': 'Rain', 'description': 'light rain', 'icon': '10d'}], 'base': 'stations', 'main': {'temp': 285.7, 'feels_like': 285.49, 'temp_min': 285.11, 'temp_max': 286.46, 'pressure': 1008, 'humidity': 95, 'sea_level': 1008, 'grnd_level': 1007}, 'visibility': 8000, 'wind': {'speed': 4.12, 'deg': 130}, 'rain': {'1h': 0.34}, 'clouds': {'all': 75}, 'dt': 1727689398, 'sys': {'type': 2, 'id': 2006860, 'country': 'BE', 'sunrise': 1727674896, 'sunset': 1727716963}, 'timezone': 7200, 'id': 0, 'name': 'Antwerpen Borgerhout', 'cod': 200}\n",
      "{'coord': {'lon': 4.4167, 'lat': 51.2167}, 'weather': [{'id': 300, 'main': 'Drizzle', 'description': 'light intensity drizzle', 'icon': '09d'}, {'id': 500, 'main': 'Rain', 'description': 'light rain', 'icon': '10d'}], 'base': 'stations', 'main': {'temp': 285.71, 'feels_like': 285.5, 'temp_min': 285.11, 'temp_max': 286.52, 'pressure': 1008, 'humidity': 95, 'sea_level': 1008, 'grnd_level': 1007}, 'visibility': 8000, 'wind': {'speed': 4.12, 'deg': 130}, 'rain': {'1h': 0.32}, 'clouds': {'all': 75}, 'dt': 1727689510, 'sys': {'type': 2, 'id': 2006860, 'country': 'BE', 'sunrise': 1727674896, 'sunset': 1727716963}, 'timezone': 7200, 'id': 0, 'name': 'Antwerpen', 'cod': 200}\n",
      "{'coord': {'lon': 4.4167, 'lat': 51.2167}, 'weather': [{'id': 300, 'main': 'Drizzle', 'description': 'light intensity drizzle', 'icon': '09d'}, {'id': 500, 'main': 'Rain', 'description': 'light rain', 'icon': '10d'}], 'base': 'stations', 'main': {'temp': 285.7, 'feels_like': 285.49, 'temp_min': 285.11, 'temp_max': 286.46, 'pressure': 1008, 'humidity': 95, 'sea_level': 1008, 'grnd_level': 1007}, 'visibility': 8000, 'wind': {'speed': 4.12, 'deg': 130}, 'rain': {'1h': 0.33}, 'clouds': {'all': 75}, 'dt': 1727689425, 'sys': {'type': 2, 'id': 2006860, 'country': 'BE', 'sunrise': 1727674896, 'sunset': 1727716963}, 'timezone': 7200, 'id': 0, 'name': 'Antwerpen', 'cod': 200}\n",
      "{'coord': {'lon': 4.4333, 'lat': 51.2}, 'weather': [{'id': 300, 'main': 'Drizzle', 'description': 'light intensity drizzle', 'icon': '09d'}, {'id': 500, 'main': 'Rain', 'description': 'light rain', 'icon': '10d'}], 'base': 'stations', 'main': {'temp': 285.79, 'feels_like': 285.59, 'temp_min': 285.15, 'temp_max': 286.56, 'pressure': 1008, 'humidity': 95, 'sea_level': 1008, 'grnd_level': 1007}, 'visibility': 8000, 'wind': {'speed': 4.12, 'deg': 130}, 'rain': {'1h': 0.32}, 'clouds': {'all': 75}, 'dt': 1727689511, 'sys': {'type': 2, 'id': 2006860, 'country': 'BE', 'sunrise': 1727674891, 'sunset': 1727716959}, 'timezone': 7200, 'id': 0, 'name': 'Antwerpen Berchem', 'cod': 200}\n",
      "{'coord': {'lon': 4.4333, 'lat': 51.2}, 'weather': [{'id': 300, 'main': 'Drizzle', 'description': 'light intensity drizzle', 'icon': '09d'}, {'id': 500, 'main': 'Rain', 'description': 'light rain', 'icon': '10d'}], 'base': 'stations', 'main': {'temp': 285.79, 'feels_like': 285.59, 'temp_min': 285.15, 'temp_max': 286.56, 'pressure': 1008, 'humidity': 95, 'sea_level': 1008, 'grnd_level': 1007}, 'visibility': 8000, 'wind': {'speed': 4.12, 'deg': 130}, 'rain': {'1h': 0.32}, 'clouds': {'all': 75}, 'dt': 1727689511, 'sys': {'type': 2, 'id': 2006860, 'country': 'BE', 'sunrise': 1727674891, 'sunset': 1727716959}, 'timezone': 7200, 'id': 0, 'name': 'Antwerpen Berchem', 'cod': 200}\n",
      "{'coord': {'lon': 4.4333, 'lat': 51.2}, 'weather': [{'id': 300, 'main': 'Drizzle', 'description': 'light intensity drizzle', 'icon': '09d'}, {'id': 500, 'main': 'Rain', 'description': 'light rain', 'icon': '10d'}], 'base': 'stations', 'main': {'temp': 285.79, 'feels_like': 285.59, 'temp_min': 285.15, 'temp_max': 286.56, 'pressure': 1008, 'humidity': 95, 'sea_level': 1008, 'grnd_level': 1007}, 'visibility': 8000, 'wind': {'speed': 4.12, 'deg': 130}, 'rain': {'1h': 0.32}, 'clouds': {'all': 75}, 'dt': 1727689511, 'sys': {'type': 2, 'id': 2006860, 'country': 'BE', 'sunrise': 1727674891, 'sunset': 1727716959}, 'timezone': 7200, 'id': 0, 'name': 'Antwerpen Berchem', 'cod': 200}\n",
      "{'coord': {'lon': 4.4167, 'lat': 51.2167}, 'weather': [{'id': 300, 'main': 'Drizzle', 'description': 'light intensity drizzle', 'icon': '09d'}, {'id': 500, 'main': 'Rain', 'description': 'light rain', 'icon': '10d'}], 'base': 'stations', 'main': {'temp': 285.7, 'feels_like': 285.49, 'temp_min': 285.11, 'temp_max': 286.46, 'pressure': 1008, 'humidity': 95, 'sea_level': 1008, 'grnd_level': 1007}, 'visibility': 8000, 'wind': {'speed': 4.12, 'deg': 130}, 'rain': {'1h': 0.34}, 'clouds': {'all': 75}, 'dt': 1727689398, 'sys': {'type': 2, 'id': 2006860, 'country': 'BE', 'sunrise': 1727674896, 'sunset': 1727716963}, 'timezone': 7200, 'id': 0, 'name': 'Antwerpen Borgerhout', 'cod': 200}\n",
      "{'coord': {'lon': 4.4167, 'lat': 51.2167}, 'weather': [{'id': 300, 'main': 'Drizzle', 'description': 'light intensity drizzle', 'icon': '09d'}, {'id': 500, 'main': 'Rain', 'description': 'light rain', 'icon': '10d'}], 'base': 'stations', 'main': {'temp': 285.7, 'feels_like': 285.49, 'temp_min': 285.11, 'temp_max': 286.46, 'pressure': 1008, 'humidity': 95, 'sea_level': 1008, 'grnd_level': 1007}, 'visibility': 8000, 'wind': {'speed': 4.12, 'deg': 130}, 'rain': {'1h': 0.34}, 'clouds': {'all': 75}, 'dt': 1727689398, 'sys': {'type': 2, 'id': 2006860, 'country': 'BE', 'sunrise': 1727674896, 'sunset': 1727716963}, 'timezone': 7200, 'id': 0, 'name': 'Antwerpen Borgerhout', 'cod': 200}\n",
      "{'coord': {'lon': 4.4167, 'lat': 51.2167}, 'weather': [{'id': 300, 'main': 'Drizzle', 'description': 'light intensity drizzle', 'icon': '09d'}, {'id': 500, 'main': 'Rain', 'description': 'light rain', 'icon': '10d'}], 'base': 'stations', 'main': {'temp': 285.71, 'feels_like': 285.5, 'temp_min': 285.11, 'temp_max': 286.52, 'pressure': 1008, 'humidity': 95, 'sea_level': 1008, 'grnd_level': 1007}, 'visibility': 8000, 'wind': {'speed': 4.12, 'deg': 130}, 'rain': {'1h': 0.32}, 'clouds': {'all': 75}, 'dt': 1727689511, 'sys': {'type': 2, 'id': 2006860, 'country': 'BE', 'sunrise': 1727674896, 'sunset': 1727716963}, 'timezone': 7200, 'id': 0, 'name': 'Antwerpen', 'cod': 200}\n",
      "{'coord': {'lon': 4.4167, 'lat': 51.2167}, 'weather': [{'id': 300, 'main': 'Drizzle', 'description': 'light intensity drizzle', 'icon': '09d'}, {'id': 500, 'main': 'Rain', 'description': 'light rain', 'icon': '10d'}], 'base': 'stations', 'main': {'temp': 285.7, 'feels_like': 285.49, 'temp_min': 285.11, 'temp_max': 286.46, 'pressure': 1008, 'humidity': 95, 'sea_level': 1008, 'grnd_level': 1007}, 'visibility': 8000, 'wind': {'speed': 4.12, 'deg': 130}, 'rain': {'1h': 0.33}, 'clouds': {'all': 75}, 'dt': 1727689425, 'sys': {'type': 2, 'id': 2006860, 'country': 'BE', 'sunrise': 1727674896, 'sunset': 1727716963}, 'timezone': 7200, 'id': 0, 'name': 'Antwerpen Merksem', 'cod': 200}\n",
      "{'coord': {'lon': 4.4167, 'lat': 51.2167}, 'weather': [{'id': 300, 'main': 'Drizzle', 'description': 'light intensity drizzle', 'icon': '09d'}, {'id': 500, 'main': 'Rain', 'description': 'light rain', 'icon': '10d'}], 'base': 'stations', 'main': {'temp': 285.7, 'feels_like': 285.49, 'temp_min': 285.11, 'temp_max': 286.46, 'pressure': 1008, 'humidity': 95, 'sea_level': 1008, 'grnd_level': 1007}, 'visibility': 8000, 'wind': {'speed': 4.12, 'deg': 130}, 'rain': {'1h': 0.33}, 'clouds': {'all': 75}, 'dt': 1727689425, 'sys': {'type': 2, 'id': 2006860, 'country': 'BE', 'sunrise': 1727674896, 'sunset': 1727716963}, 'timezone': 7200, 'id': 0, 'name': 'Antwerpen Merksem', 'cod': 200}\n",
      "{'coord': {'lon': 4.4167, 'lat': 51.2167}, 'weather': [{'id': 300, 'main': 'Drizzle', 'description': 'light intensity drizzle', 'icon': '09d'}, {'id': 500, 'main': 'Rain', 'description': 'light rain', 'icon': '10d'}], 'base': 'stations', 'main': {'temp': 285.7, 'feels_like': 285.49, 'temp_min': 285.11, 'temp_max': 286.46, 'pressure': 1008, 'humidity': 95, 'sea_level': 1008, 'grnd_level': 1007}, 'visibility': 8000, 'wind': {'speed': 4.12, 'deg': 130}, 'rain': {'1h': 0.33}, 'clouds': {'all': 75}, 'dt': 1727689425, 'sys': {'type': 2, 'id': 2006860, 'country': 'BE', 'sunrise': 1727674896, 'sunset': 1727716963}, 'timezone': 7200, 'id': 0, 'name': 'Antwerpen Merksem', 'cod': 200}\n",
      "{'coord': {'lon': 4.4167, 'lat': 51.2167}, 'weather': [{'id': 300, 'main': 'Drizzle', 'description': 'light intensity drizzle', 'icon': '09d'}, {'id': 500, 'main': 'Rain', 'description': 'light rain', 'icon': '10d'}], 'base': 'stations', 'main': {'temp': 285.71, 'feels_like': 285.5, 'temp_min': 285.11, 'temp_max': 286.52, 'pressure': 1008, 'humidity': 95, 'sea_level': 1008, 'grnd_level': 1007}, 'visibility': 8000, 'wind': {'speed': 4.12, 'deg': 130}, 'rain': {'1h': 0.32}, 'clouds': {'all': 75}, 'dt': 1727689511, 'sys': {'type': 2, 'id': 2006860, 'country': 'BE', 'sunrise': 1727674896, 'sunset': 1727716963}, 'timezone': 7200, 'id': 0, 'name': 'Antwerpen', 'cod': 200}\n",
      "{'coord': {'lon': 4.4167, 'lat': 51.2167}, 'weather': [{'id': 300, 'main': 'Drizzle', 'description': 'light intensity drizzle', 'icon': '09d'}, {'id': 500, 'main': 'Rain', 'description': 'light rain', 'icon': '10d'}], 'base': 'stations', 'main': {'temp': 285.71, 'feels_like': 285.5, 'temp_min': 285.11, 'temp_max': 286.52, 'pressure': 1008, 'humidity': 95, 'sea_level': 1008, 'grnd_level': 1007}, 'visibility': 8000, 'wind': {'speed': 4.12, 'deg': 130}, 'rain': {'1h': 0.32}, 'clouds': {'all': 75}, 'dt': 1727689511, 'sys': {'type': 2, 'id': 2006860, 'country': 'BE', 'sunrise': 1727674896, 'sunset': 1727716963}, 'timezone': 7200, 'id': 0, 'name': 'Antwerpen', 'cod': 200}\n",
      "{'coord': {'lon': 4.4167, 'lat': 51.2167}, 'weather': [{'id': 300, 'main': 'Drizzle', 'description': 'light intensity drizzle', 'icon': '09d'}, {'id': 500, 'main': 'Rain', 'description': 'light rain', 'icon': '10d'}], 'base': 'stations', 'main': {'temp': 285.71, 'feels_like': 285.5, 'temp_min': 285.11, 'temp_max': 286.52, 'pressure': 1008, 'humidity': 95, 'sea_level': 1008, 'grnd_level': 1007}, 'visibility': 8000, 'wind': {'speed': 4.12, 'deg': 130}, 'rain': {'1h': 0.32}, 'clouds': {'all': 75}, 'dt': 1727689511, 'sys': {'type': 2, 'id': 2006860, 'country': 'BE', 'sunrise': 1727674896, 'sunset': 1727716963}, 'timezone': 7200, 'id': 0, 'name': 'Antwerpen', 'cod': 200}\n",
      "{'coord': {'lon': 4.4167, 'lat': 51.2167}, 'weather': [{'id': 300, 'main': 'Drizzle', 'description': 'light intensity drizzle', 'icon': '09d'}, {'id': 500, 'main': 'Rain', 'description': 'light rain', 'icon': '10d'}], 'base': 'stations', 'main': {'temp': 285.71, 'feels_like': 285.5, 'temp_min': 285.11, 'temp_max': 286.52, 'pressure': 1008, 'humidity': 95, 'sea_level': 1008, 'grnd_level': 1007}, 'visibility': 8000, 'wind': {'speed': 4.12, 'deg': 130}, 'rain': {'1h': 0.32}, 'clouds': {'all': 75}, 'dt': 1727689511, 'sys': {'type': 2, 'id': 2006860, 'country': 'BE', 'sunrise': 1727674896, 'sunset': 1727716963}, 'timezone': 7200, 'id': 0, 'name': 'Antwerpen', 'cod': 200}\n",
      "{'coord': {'lon': 4.4167, 'lat': 51.2167}, 'weather': [{'id': 300, 'main': 'Drizzle', 'description': 'light intensity drizzle', 'icon': '09d'}, {'id': 500, 'main': 'Rain', 'description': 'light rain', 'icon': '10d'}], 'base': 'stations', 'main': {'temp': 285.7, 'feels_like': 285.49, 'temp_min': 285.11, 'temp_max': 286.46, 'pressure': 1008, 'humidity': 95, 'sea_level': 1008, 'grnd_level': 1007}, 'visibility': 8000, 'wind': {'speed': 4.12, 'deg': 130}, 'rain': {'1h': 0.34}, 'clouds': {'all': 75}, 'dt': 1727689398, 'sys': {'type': 2, 'id': 2006860, 'country': 'BE', 'sunrise': 1727674896, 'sunset': 1727716963}, 'timezone': 7200, 'id': 0, 'name': 'Antwerpen', 'cod': 200}\n",
      "{'coord': {'lon': 4.4167, 'lat': 51.2167}, 'weather': [{'id': 300, 'main': 'Drizzle', 'description': 'light intensity drizzle', 'icon': '09d'}, {'id': 500, 'main': 'Rain', 'description': 'light rain', 'icon': '10d'}], 'base': 'stations', 'main': {'temp': 285.7, 'feels_like': 285.49, 'temp_min': 285.11, 'temp_max': 286.46, 'pressure': 1008, 'humidity': 95, 'sea_level': 1008, 'grnd_level': 1007}, 'visibility': 8000, 'wind': {'speed': 4.12, 'deg': 130}, 'rain': {'1h': 0.34}, 'clouds': {'all': 75}, 'dt': 1727689398, 'sys': {'type': 2, 'id': 2006860, 'country': 'BE', 'sunrise': 1727674896, 'sunset': 1727716963}, 'timezone': 7200, 'id': 0, 'name': 'Antwerpen', 'cod': 200}\n",
      "{'coord': {'lon': 4.4167, 'lat': 51.2167}, 'weather': [{'id': 300, 'main': 'Drizzle', 'description': 'light intensity drizzle', 'icon': '09d'}, {'id': 500, 'main': 'Rain', 'description': 'light rain', 'icon': '10d'}], 'base': 'stations', 'main': {'temp': 285.7, 'feels_like': 285.49, 'temp_min': 285.11, 'temp_max': 286.46, 'pressure': 1008, 'humidity': 95, 'sea_level': 1008, 'grnd_level': 1007}, 'visibility': 8000, 'wind': {'speed': 4.12, 'deg': 130}, 'rain': {'1h': 0.34}, 'clouds': {'all': 75}, 'dt': 1727689398, 'sys': {'type': 2, 'id': 2006860, 'country': 'BE', 'sunrise': 1727674896, 'sunset': 1727716963}, 'timezone': 7200, 'id': 0, 'name': 'Antwerpen', 'cod': 200}\n",
      "{'coord': {'lon': 4.4167, 'lat': 51.2167}, 'weather': [{'id': 300, 'main': 'Drizzle', 'description': 'light intensity drizzle', 'icon': '09d'}, {'id': 500, 'main': 'Rain', 'description': 'light rain', 'icon': '10d'}], 'base': 'stations', 'main': {'temp': 285.71, 'feels_like': 285.5, 'temp_min': 285.11, 'temp_max': 286.52, 'pressure': 1008, 'humidity': 95, 'sea_level': 1008, 'grnd_level': 1007}, 'visibility': 8000, 'wind': {'speed': 4.12, 'deg': 130}, 'rain': {'1h': 0.32}, 'clouds': {'all': 75}, 'dt': 1727689511, 'sys': {'type': 2, 'id': 2006860, 'country': 'BE', 'sunrise': 1727674896, 'sunset': 1727716963}, 'timezone': 7200, 'id': 0, 'name': 'Antwerpen', 'cod': 200}\n",
      "{'coord': {'lon': 4.4167, 'lat': 51.2167}, 'weather': [{'id': 300, 'main': 'Drizzle', 'description': 'light intensity drizzle', 'icon': '09d'}, {'id': 500, 'main': 'Rain', 'description': 'light rain', 'icon': '10d'}], 'base': 'stations', 'main': {'temp': 285.71, 'feels_like': 285.5, 'temp_min': 285.11, 'temp_max': 286.52, 'pressure': 1008, 'humidity': 95, 'sea_level': 1008, 'grnd_level': 1007}, 'visibility': 8000, 'wind': {'speed': 4.12, 'deg': 130}, 'rain': {'1h': 0.32}, 'clouds': {'all': 75}, 'dt': 1727689511, 'sys': {'type': 2, 'id': 2006860, 'country': 'BE', 'sunrise': 1727674896, 'sunset': 1727716963}, 'timezone': 7200, 'id': 0, 'name': 'Antwerpen', 'cod': 200}\n",
      "{'coord': {'lon': 4.4167, 'lat': 51.2167}, 'weather': [{'id': 300, 'main': 'Drizzle', 'description': 'light intensity drizzle', 'icon': '09d'}, {'id': 500, 'main': 'Rain', 'description': 'light rain', 'icon': '10d'}], 'base': 'stations', 'main': {'temp': 285.71, 'feels_like': 285.5, 'temp_min': 285.11, 'temp_max': 286.52, 'pressure': 1008, 'humidity': 95, 'sea_level': 1008, 'grnd_level': 1007}, 'visibility': 8000, 'wind': {'speed': 4.12, 'deg': 130}, 'rain': {'1h': 0.32}, 'clouds': {'all': 75}, 'dt': 1727689511, 'sys': {'type': 2, 'id': 2006860, 'country': 'BE', 'sunrise': 1727674896, 'sunset': 1727716963}, 'timezone': 7200, 'id': 0, 'name': 'Antwerpen', 'cod': 200}\n",
      "{'coord': {'lon': 4.4167, 'lat': 51.2167}, 'weather': [{'id': 300, 'main': 'Drizzle', 'description': 'light intensity drizzle', 'icon': '09d'}, {'id': 500, 'main': 'Rain', 'description': 'light rain', 'icon': '10d'}], 'base': 'stations', 'main': {'temp': 285.71, 'feels_like': 285.5, 'temp_min': 285.11, 'temp_max': 286.52, 'pressure': 1008, 'humidity': 95, 'sea_level': 1008, 'grnd_level': 1007}, 'visibility': 8000, 'wind': {'speed': 4.12, 'deg': 130}, 'rain': {'1h': 0.32}, 'clouds': {'all': 75}, 'dt': 1727689511, 'sys': {'type': 2, 'id': 2006860, 'country': 'BE', 'sunrise': 1727674896, 'sunset': 1727716963}, 'timezone': 7200, 'id': 0, 'name': 'Antwerpen', 'cod': 200}\n",
      "{'coord': {'lon': 4.4167, 'lat': 51.2167}, 'weather': [{'id': 300, 'main': 'Drizzle', 'description': 'light intensity drizzle', 'icon': '09d'}, {'id': 500, 'main': 'Rain', 'description': 'light rain', 'icon': '10d'}], 'base': 'stations', 'main': {'temp': 285.71, 'feels_like': 285.5, 'temp_min': 285.11, 'temp_max': 286.52, 'pressure': 1008, 'humidity': 95, 'sea_level': 1008, 'grnd_level': 1007}, 'visibility': 8000, 'wind': {'speed': 4.12, 'deg': 130}, 'rain': {'1h': 0.32}, 'clouds': {'all': 75}, 'dt': 1727689511, 'sys': {'type': 2, 'id': 2006860, 'country': 'BE', 'sunrise': 1727674896, 'sunset': 1727716963}, 'timezone': 7200, 'id': 0, 'name': 'Antwerpen', 'cod': 200}\n",
      "{'coord': {'lon': 4.4167, 'lat': 51.2167}, 'weather': [{'id': 300, 'main': 'Drizzle', 'description': 'light intensity drizzle', 'icon': '09d'}, {'id': 500, 'main': 'Rain', 'description': 'light rain', 'icon': '10d'}], 'base': 'stations', 'main': {'temp': 285.71, 'feels_like': 285.5, 'temp_min': 285.11, 'temp_max': 286.52, 'pressure': 1008, 'humidity': 95, 'sea_level': 1008, 'grnd_level': 1007}, 'visibility': 8000, 'wind': {'speed': 4.12, 'deg': 130}, 'rain': {'1h': 0.32}, 'clouds': {'all': 75}, 'dt': 1727689511, 'sys': {'type': 2, 'id': 2006860, 'country': 'BE', 'sunrise': 1727674896, 'sunset': 1727716963}, 'timezone': 7200, 'id': 0, 'name': 'Antwerpen', 'cod': 200}\n",
      "{'coord': {'lon': 4.4167, 'lat': 51.2167}, 'weather': [{'id': 300, 'main': 'Drizzle', 'description': 'light intensity drizzle', 'icon': '09d'}, {'id': 500, 'main': 'Rain', 'description': 'light rain', 'icon': '10d'}], 'base': 'stations', 'main': {'temp': 285.71, 'feels_like': 285.5, 'temp_min': 285.11, 'temp_max': 286.52, 'pressure': 1008, 'humidity': 95, 'sea_level': 1008, 'grnd_level': 1007}, 'visibility': 8000, 'wind': {'speed': 4.12, 'deg': 130}, 'rain': {'1h': 0.32}, 'clouds': {'all': 75}, 'dt': 1727689511, 'sys': {'type': 2, 'id': 2006860, 'country': 'BE', 'sunrise': 1727674896, 'sunset': 1727716963}, 'timezone': 7200, 'id': 0, 'name': 'Antwerpen', 'cod': 200}\n"
     ]
    }
   ],
   "source": [
    "import requests\n",
    "import json\n",
    "\n",
    "base_url = \"http://api.openweathermap.org/data/2.5/weather\"\n",
    "api_key = \"b6c3cf9ed2f94044caaa7376dfcfef9a\"\n",
    "\n",
    "zipcodes_calls = {} \n",
    "\n",
    "for row in df_stations.distinct().collect():\n",
    "\n",
    "    zip = row[\"zipcode\"]+\",be\"\n",
    "\n",
    "    if zipcodes_calls.get(zip, 0) < 3:\n",
    "        params = {\n",
    "            \"zip\": zip,\n",
    "            \"appid\": api_key\n",
    "        }\n",
    "\n",
    "        response = requests.get(base_url, params=params)\n",
    "\n",
    "        if response.status_code == 200:\n",
    "            data = json.loads(response.text)\n",
    "            print(data)\n",
    "            zipcodes_calls[zip] = zipcodes_calls.get(zip, 0) + 1\n",
    "            with open(f\"./FileStore/weather/weather_{row['zipcode']}_{zipcodes_calls[zip]}.json\", \"w\") as f:\n",
    "                json.dump(data, f)\n",
    "        else:\n",
    "            print(\"Error\")\n",
    "            print(response.text)\n",
    "            break"
   ],
   "metadata": {
    "collapsed": false,
    "ExecuteTime": {
     "end_time": "2024-09-30T09:45:12.478440200Z",
     "start_time": "2024-09-30T09:45:10.452775Z"
    }
   },
   "id": "a383cf117f01371e",
   "execution_count": 17
  }
 ],
 "metadata": {
  "kernelspec": {
   "display_name": "Python 3",
   "language": "python",
   "name": "python3"
  },
  "language_info": {
   "codemirror_mode": {
    "name": "ipython",
    "version": 2
   },
   "file_extension": ".py",
   "mimetype": "text/x-python",
   "name": "python",
   "nbconvert_exporter": "python",
   "pygments_lexer": "ipython2",
   "version": "2.7.6"
  }
 },
 "nbformat": 4,
 "nbformat_minor": 5
}
