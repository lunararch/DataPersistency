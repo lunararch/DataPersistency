{
 "cells": [
  {
   "cell_type": "code",
   "id": "initial_id",
   "metadata": {
    "collapsed": true,
    "ExecuteTime": {
     "end_time": "2024-10-29T13:44:36.752428Z",
     "start_time": "2024-10-29T13:44:36.416305Z"
    }
   },
   "source": [
    "import ConnectionConfig as cc\n",
    "from pyspark.sql.functions import arrays_overlap, split, when, col, expr\n",
    "from pyspark.sql.functions import date_format\n",
    "import math\n",
    "from pyspark.sql.functions import udf\n",
    "from pyspark.sql.types import DoubleType\n",
    "from delta import DeltaTable\n",
    "\n",
    "cc.setupEnvironment()"
   ],
   "outputs": [],
   "execution_count": 1
  },
  {
   "metadata": {
    "ExecuteTime": {
     "end_time": "2024-10-29T13:45:12.682075Z",
     "start_time": "2024-10-29T13:44:40.124656Z"
    }
   },
   "cell_type": "code",
   "source": [
    "spark = cc.startLocalCluster(\"analyse\", 4)\n",
    "spark.getActiveSession()"
   ],
   "id": "91d529aab96697ae",
   "outputs": [
    {
     "data": {
      "text/plain": [
       "<pyspark.sql.session.SparkSession at 0x267ee3b34d0>"
      ],
      "text/html": [
       "\n",
       "            <div>\n",
       "                <p><b>SparkSession - in-memory</b></p>\n",
       "                \n",
       "        <div>\n",
       "            <p><b>SparkContext</b></p>\n",
       "\n",
       "            <p><a href=\"http://192.168.0.212:4040\">Spark UI</a></p>\n",
       "\n",
       "            <dl>\n",
       "              <dt>Version</dt>\n",
       "                <dd><code>v3.5.2</code></dd>\n",
       "              <dt>Master</dt>\n",
       "                <dd><code>local[*]</code></dd>\n",
       "              <dt>AppName</dt>\n",
       "                <dd><code>analyse</code></dd>\n",
       "            </dl>\n",
       "        </div>\n",
       "        \n",
       "            </div>\n",
       "        "
      ]
     },
     "execution_count": 2,
     "metadata": {},
     "output_type": "execute_result"
    }
   ],
   "execution_count": 2
  },
  {
   "metadata": {
    "ExecuteTime": {
     "end_time": "2024-10-29T14:01:42.073082Z",
     "start_time": "2024-10-29T14:01:41.386901Z"
    }
   },
   "cell_type": "code",
   "source": [
    "cc.set_connectionProfile(\"velodb\")\n",
    "\n",
    "rides_src_df = spark.read \\\n",
    "    .format(\"jdbc\") \\\n",
    "    .option(\"driver\", cc.get_Property(\"driver\")) \\\n",
    "    .option(\"url\", cc.create_jdbc()) \\\n",
    "    .option(\"dbtable\", \"rides\") \\\n",
    "    .option(\"user\", cc.get_Property(\"username\")) \\\n",
    "    .option(\"password\", cc.get_Property(\"password\")) \\\n",
    "    .option(\"partitionColumn\", \"rideid\") \\\n",
    "    .option(\"numPartitions\", 100) \\\n",
    "    .option(\"lowerBound\", 0) \\\n",
    "    .option(\"upperBound\", 4138255) \\\n",
    "    .load()\n",
    "\n",
    "rides_src_df.createOrReplaceTempView(\"rides\")\n",
    "\n",
    "vehicles = spark.read \\\n",
    "    .format(\"jdbc\") \\\n",
    "    .option(\"driver\", cc.get_Property(\"driver\")) \\\n",
    "    .option(\"url\", cc.create_jdbc()) \\\n",
    "    .option(\"dbtable\", \"vehicles\") \\\n",
    "    .option(\"user\", cc.get_Property(\"username\")) \\\n",
    "    .option(\"password\", cc.get_Property(\"password\")) \\\n",
    "    .option(\"partitionColumn\", \"vehicleid\") \\\n",
    "    .option(\"numPartitions\", 100) \\\n",
    "    .option(\"lowerBound\", 0) \\\n",
    "    .option(\"upperBound\", 4138255) \\\n",
    "    .load()\n",
    "\n",
    "vehicles.createOrReplaceTempView(\"vehicles\")\n",
    "\n",
    "bikelots = spark.read \\\n",
    "    .format(\"jdbc\") \\\n",
    "    .option(\"driver\", cc.get_Property(\"driver\")) \\\n",
    "    .option(\"url\", cc.create_jdbc()) \\\n",
    "    .option(\"dbtable\", \"bikelots\") \\\n",
    "    .option(\"user\", cc.get_Property(\"username\")) \\\n",
    "    .option(\"password\", cc.get_Property(\"password\")) \\\n",
    "    .option(\"partitionColumn\", \"bikelotid\") \\\n",
    "    .option(\"numPartitions\", 100) \\\n",
    "    .option(\"lowerBound\", 0) \\\n",
    "    .option(\"upperBound\", 4138255) \\\n",
    "    .load()\n",
    "\n",
    "bikelots.createOrReplaceTempView(\"bikelots\")\n",
    "\n",
    "biketypes = spark.read \\\n",
    "    .format(\"jdbc\") \\\n",
    "    .option(\"driver\", cc.get_Property(\"driver\")) \\\n",
    "    .option(\"url\", cc.create_jdbc()) \\\n",
    "    .option(\"dbtable\", \"bike_types\") \\\n",
    "    .option(\"user\", cc.get_Property(\"username\")) \\\n",
    "    .option(\"password\", cc.get_Property(\"password\")) \\\n",
    "    .option(\"partitionColumn\", \"biketypeid\") \\\n",
    "    .option(\"numPartitions\", 100) \\\n",
    "    .option(\"lowerBound\", 0) \\\n",
    "    .option(\"upperBound\", 4138255) \\\n",
    "    .load()\n",
    "\n",
    "biketypes.createOrReplaceTempView(\"biketypes\")"
   ],
   "id": "ccc51caa2fca96c8",
   "outputs": [],
   "execution_count": 15
  },
  {
   "metadata": {
    "ExecuteTime": {
     "end_time": "2024-10-29T13:45:27.232211Z",
     "start_time": "2024-10-29T13:45:18.008574Z"
    }
   },
   "cell_type": "code",
   "source": [
    "factRide = spark.read.format(\"delta\").load(\"./spark-warehouse/fact_rit\")\n",
    "\n",
    "#distance = spark.read.format(\"delta\").load(\"./spark-warehouse/distance\")\n",
    "dim_weather = spark.read.format(\"delta\").load(\"spark-warehouse/dim_weather\")\n",
    "dim_klant = spark.read.format(\"delta\").load(\"spark-warehouse/dim_klant\")\n",
    "dim_slot = spark.read.format(\"delta\").load(\"spark-warehouse/dim_slot\")\n",
    "dim_date = spark.read.format(\"delta\").load(\"spark-warehouse/dimdate\")\n",
    "\n",
    "factRide.createOrReplaceTempView(\"viewRide\")\n",
    "dim_weather.createOrReplaceTempView(\"viewWeather\")\n",
    "dim_klant.createOrReplaceTempView(\"viewKlant\")\n",
    "dim_slot.createOrReplaceTempView(\"viewSlot\")\n",
    "dim_date.createOrReplaceTempView(\"viewDate\")"
   ],
   "id": "70cb7bff877b63d7",
   "outputs": [],
   "execution_count": 3
  },
  {
   "metadata": {
    "ExecuteTime": {
     "end_time": "2024-10-29T14:01:44.377086Z",
     "start_time": "2024-10-29T14:01:44.369575Z"
    }
   },
   "cell_type": "code",
   "source": "bikelots.printSchema()",
   "id": "b88f6c22eb403d11",
   "outputs": [
    {
     "name": "stdout",
     "output_type": "stream",
     "text": [
      "root\n",
      " |-- bikelotid: integer (nullable = true)\n",
      " |-- deliverydate: date (nullable = true)\n",
      " |-- biketypeid: integer (nullable = true)\n",
      "\n"
     ]
    }
   ],
   "execution_count": 16
  },
  {
   "metadata": {
    "ExecuteTime": {
     "end_time": "2024-10-29T14:42:42.543166Z",
     "start_time": "2024-10-29T14:42:42.503419Z"
    }
   },
   "cell_type": "code",
   "source": [
    "main = spark.sql(\"\"\"\n",
    "select r.rideid, r_src.starttime, r_src.endtime, v_src.*,\n",
    "s_start.lockid as startlockid, s_start.stationlocknr as startstationlocknr, s_start.stationid as startstationid, s_start.objectid as startobjectid,\n",
    "s_start.type as startstationtype, s_start.number as startnumber, s_start.zipcode as startzipcode, s_start.gpscoord as startgpscoord,\n",
    "s_end.lockid as endlockid, s_end.stationlocknr as endstationlocknr, s_end.stationid as endstationid, s_end.objectid as endobjectid,\n",
    "s_end.type as endstationtype, s_end.number as endnumber, s_end.zipcode as endzipcode, s_end.gpscoord as endgpscoord,\n",
    "d.CalendarDate, k.* from viewRide r\n",
    "inner join rides r_src on r.rideid = r_src.rideid\n",
    "inner join vehicles v_src on r_src.vehicleid = v_src.vehicleid\n",
    "inner join bikelots b_src on v_src.bikelotid = b_src.bikelotid\n",
    "inner join biketypes bt_src on b_src.biketypeid = bt_src.biketypeid\n",
    "inner join viewSlot s_start on r.start_slot_id = s_start.lockid\n",
    "inner join viewSlot s_end on r.end_slot_id = s_end.lockid\n",
    "inner join viewDate d on r.date_SK = d.date_SK\n",
    "inner join viewKlant k on r.klant_id = k.userid\n",
    "where r.date_SK in (2601, 3093)\n",
    "\"\"\")\n",
    "\n"
   ],
   "id": "b7154fc8050714ea",
   "outputs": [],
   "execution_count": 36
  },
  {
   "metadata": {
    "ExecuteTime": {
     "end_time": "2024-10-29T14:05:58.144914Z",
     "start_time": "2024-10-29T14:05:55.641906Z"
    }
   },
   "cell_type": "code",
   "source": [
    "spark.sql(\"\"\"\n",
    "select count(*) as count, date_SK from viewRide\n",
    "group by date_SK order by count desc\n",
    "\"\"\").show()"
   ],
   "id": "63baa0393ff0f77b",
   "outputs": [
    {
     "name": "stdout",
     "output_type": "stream",
     "text": [
      "+-----+-------+\n",
      "|count|date_SK|\n",
      "+-----+-------+\n",
      "| 7891|   2601|\n",
      "| 7891|   3093|\n",
      "| 7407|   2477|\n",
      "| 7084|   3316|\n",
      "| 7058|   3176|\n",
      "| 7030|   2407|\n",
      "| 6871|   3134|\n",
      "| 6761|   2399|\n",
      "| 6688|   2883|\n",
      "| 6505|   2932|\n",
      "| 6366|   2615|\n",
      "| 6332|   2392|\n",
      "| 6330|   3497|\n",
      "| 6221|   2302|\n",
      "| 6179|   2700|\n",
      "| 6139|   3476|\n",
      "| 6139|   3261|\n",
      "| 6126|   2694|\n",
      "| 6053|   3056|\n",
      "| 6022|   2811|\n",
      "+-----+-------+\n",
      "only showing top 20 rows\n",
      "\n"
     ]
    }
   ],
   "execution_count": 25
  },
  {
   "metadata": {
    "ExecuteTime": {
     "end_time": "2024-10-29T14:43:13.531796Z",
     "start_time": "2024-10-29T14:42:54.653710Z"
    }
   },
   "cell_type": "code",
   "source": "main.show(2)",
   "id": "92977ff279d21c58",
   "outputs": [
    {
     "name": "stdout",
     "output_type": "stream",
     "text": [
      "+-------+-------------------+-------------------+---------+------------+---------+-------------------+------+-----------------+-----------+------------------+--------------+-------------+----------------+-----------+------------+-----------------+---------+----------------+------------+-----------+--------------+---------+----------+-----------------+------------+------+--------------------+------------------+-----------+-------------------+-------------------+--------------------+-------+\n",
      "| rideid|          starttime|            endtime|vehicleid|serialnumber|bikelotid|  lastmaintenanceon|lockid|         position|startlockid|startstationlocknr|startstationid|startobjectid|startstationtype|startnumber|startzipcode|    startgpscoord|endlockid|endstationlocknr|endstationid|endobjectid|endstationtype|endnumber|endzipcode|      endgpscoord|CalendarDate|userid|             address|subscriptiontypeid|   klant_SK|          scd_start|            scd_end|            md5_hash|current|\n",
      "+-------+-------------------+-------------------+---------+------------+---------+-------------------+------+-----------------+-----------+------------------+--------------+-------------+----------------+-----------+------------+-----------------+---------+----------------+------------+-----------+--------------+---------+----------+-----------------+------------+------+--------------------+------------------+-----------+-------------------+-------------------+--------------------+-------+\n",
      "|1442053|2021-02-14 00:53:09|2021-02-14 00:59:23|     5426|     5426000|       10|2023-08-29 12:02:44|  4715|(51.2104,4.45252)|        775|                 1|            39|        33240|     ENKELZIJDIG|        157|        2018|(51.2036,4.41517)|     2897|              35|         139|      33340|  DUBBELZIJDIG|         |      2000|(51.2281,4.40572)|  2021-02-14| 33229|Sus Van den Eynde...|                 3|25769836990|1999-01-01 00:00:00|2100-12-12 00:00:00|93a9a69502d867c2c...|   true|\n",
      "|1442078|2021-02-14 00:41:44|2021-02-14 00:57:53|     5622|     5622000|       10|2023-09-07 14:21:13|  7416|(51.1689,4.37632)|       1476|                18|            69|        33270|     ENKELZIJDIG|          7|        2000| (51.2189,4.4012)|     4572|              36|         193|      33394|   ENKELZIJDIG|      549|      2100|(51.2212,4.47959)|  2021-02-14| 50287|Marie-Josélaan 45...|                 3|25769854049|1999-01-01 00:00:00|2100-12-12 00:00:00|af911cd6e30aaf1cd...|   true|\n",
      "+-------+-------------------+-------------------+---------+------------+---------+-------------------+------+-----------------+-----------+------------------+--------------+-------------+----------------+-----------+------------+-----------------+---------+----------------+------------+-----------+--------------+---------+----------+-----------------+------------+------+--------------------+------------------+-----------+-------------------+-------------------+--------------------+-------+\n",
      "only showing top 2 rows\n",
      "\n"
     ]
    }
   ],
   "execution_count": 37
  },
  {
   "metadata": {
    "ExecuteTime": {
     "end_time": "2024-10-29T14:10:38.943063Z",
     "start_time": "2024-10-29T14:10:22.031545Z"
    }
   },
   "cell_type": "code",
   "source": "main.count()",
   "id": "828f31d82bfdead9",
   "outputs": [
    {
     "data": {
      "text/plain": [
       "15927"
      ]
     },
     "execution_count": 31,
     "metadata": {},
     "output_type": "execute_result"
    }
   ],
   "execution_count": 31
  },
  {
   "metadata": {
    "ExecuteTime": {
     "end_time": "2024-10-29T14:43:40.983681Z",
     "start_time": "2024-10-29T14:43:23.225780Z"
    }
   },
   "cell_type": "code",
   "source": "main.write.json(\"spark-warehouse/jsonFilesSmallV3\")",
   "id": "64d1fe090e63df4e",
   "outputs": [],
   "execution_count": 38
  }
 ],
 "metadata": {
  "kernelspec": {
   "display_name": "Python 3",
   "language": "python",
   "name": "python3"
  },
  "language_info": {
   "codemirror_mode": {
    "name": "ipython",
    "version": 2
   },
   "file_extension": ".py",
   "mimetype": "text/x-python",
   "name": "python",
   "nbconvert_exporter": "python",
   "pygments_lexer": "ipython2",
   "version": "2.7.6"
  }
 },
 "nbformat": 4,
 "nbformat_minor": 5
}
