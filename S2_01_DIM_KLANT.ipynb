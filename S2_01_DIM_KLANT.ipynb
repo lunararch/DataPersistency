{
 "cells": [
  {
   "cell_type": "code",
   "id": "initial_id",
   "metadata": {
    "collapsed": true,
    "ExecuteTime": {
     "end_time": "2024-10-28T12:49:05.272544100Z",
     "start_time": "2024-10-28T12:49:04.997209100Z"
    }
   },
   "source": [
    "from pyspark.sql import SparkSession\n",
    "from delta import configure_spark_with_delta_pip\n",
    "\n",
    "import ConnectionConfig as cc\n",
    "\n",
    "cc.setupEnvironment()"
   ],
   "outputs": [],
   "execution_count": 1
  },
  {
   "cell_type": "code",
   "source": [
    "spark = cc.startLocalCluster(\"DIM_KLANT\", 4)\n",
    "spark.getActiveSession()"
   ],
   "metadata": {
    "collapsed": false,
    "ExecuteTime": {
     "end_time": "2024-10-28T12:49:37.622120100Z",
     "start_time": "2024-10-28T12:49:05.275548100Z"
    }
   },
   "id": "1cc9ecd158cd49b",
   "outputs": [
    {
     "data": {
      "text/plain": "<pyspark.sql.session.SparkSession at 0x217e09bf6d0>",
      "text/html": "\n            <div>\n                <p><b>SparkSession - in-memory</b></p>\n                \n        <div>\n            <p><b>SparkContext</b></p>\n\n            <p><a href=\"http://192.168.0.212:4041\">Spark UI</a></p>\n\n            <dl>\n              <dt>Version</dt>\n                <dd><code>v3.5.2</code></dd>\n              <dt>Master</dt>\n                <dd><code>local[*]</code></dd>\n              <dt>AppName</dt>\n                <dd><code>DIM_KLANT</code></dd>\n            </dl>\n        </div>\n        \n            </div>\n        "
     },
     "execution_count": 2,
     "metadata": {},
     "output_type": "execute_result"
    }
   ],
   "execution_count": 2
  },
  {
   "cell_type": "code",
   "source": [
    "# EXTRACT\n",
    "\n",
    "cc.set_connectionProfile(\"velodb\")\n",
    "\n",
    "df_velo_users = spark.read \\\n",
    "    .format(\"jdbc\") \\\n",
    "    .option(\"driver\" , cc.get_Property(\"driver\")) \\\n",
    "    .option(\"url\", cc.create_jdbc()) \\\n",
    "    .option(\"dbtable\", \"velo_users\") \\\n",
    "    .option(\"user\", cc.get_Property(\"username\")) \\\n",
    "    .option(\"password\", cc.get_Property(\"password\")) \\\n",
    "    .option(\"partitionColumn\", \"userid\") \\\n",
    "    .option(\"numPartitions\", 4) \\\n",
    "    .option(\"lowerBound\", 0) \\\n",
    "    .option(\"upperBound\", 20) \\\n",
    "    .load()\n",
    "\n",
    "df_velo_users.createOrReplaceTempView(\"df_velo_users\")\n",
    "\n",
    "df_subscription = spark.read \\\n",
    "    .format(\"jdbc\") \\\n",
    "    .option(\"driver\" , cc.get_Property(\"driver\")) \\\n",
    "    .option(\"url\", cc.create_jdbc()) \\\n",
    "        .option(\"dbtable\", \"subscriptions\") \\\n",
    "    .option(\"user\", cc.get_Property(\"username\")) \\\n",
    "    .option(\"password\", cc.get_Property(\"password\")) \\\n",
    "    .option(\"partitionColumn\", \"userid\") \\\n",
    "    .option(\"numPartitions\", 4) \\\n",
    "    .option(\"lowerBound\", 0) \\\n",
    "    .option(\"upperBound\", 20) \\\n",
    "    .load()\n",
    "\n",
    "df_subscription.createOrReplaceTempView(\"df_subscription\")"
   ],
   "metadata": {
    "collapsed": false,
    "ExecuteTime": {
     "end_time": "2024-10-28T12:49:39.537057600Z",
     "start_time": "2024-10-28T12:49:37.606999100Z"
    }
   },
   "id": "5d52240584249f45",
   "outputs": [],
   "execution_count": 3
  },
  {
   "cell_type": "code",
   "source": [
    "# TRANSFORM\n",
    "\n",
    "address_df = spark.sql(\"\"\"\n",
    "    select userid, street || ' ' || number || ', ' || zipcode || ' ' || city || ' ' || country_code as address, monotonically_increasing_id() as klant_SK,\n",
    "    to_timestamp('1999-01-01','yyyy-MM-dd') as scd_start, to_timestamp('2100-12-12','yyyy-MM-dd') as scd_end, md5(address) as md5_hash, True as current\n",
    "    from df_velo_users\n",
    "\"\"\")\n",
    "\n",
    "subscription_df = spark.sql(\"\"\"\n",
    "    SELECT s.userid, s.subscriptiontypeid, s.validfrom\n",
    "    FROM (\n",
    "        SELECT userid, MAX(validfrom) AS max_validfrom\n",
    "        FROM df_subscription\n",
    "        GROUP BY userid\n",
    "    ) AS r\n",
    "    JOIN df_subscription s ON s.userid = r.userid AND s.validfrom = r.max_validfrom\n",
    "\"\"\")"
   ],
   "metadata": {
    "collapsed": false,
    "ExecuteTime": {
     "end_time": "2024-10-28T12:49:41.136929100Z",
     "start_time": "2024-10-28T12:49:40.478107800Z"
    }
   },
   "id": "b2f1702c538120a9",
   "outputs": [],
   "execution_count": 7
  },
  {
   "cell_type": "code",
   "source": [
    "# TRANSFORM\n",
    "joined_df = address_df.join(subscription_df, on='userid')\n",
    "\n",
    "dim_klant = joined_df.select('userid', 'address', 'subscriptiontypeid', 'klant_SK', 'scd_start', 'scd_end', 'md5_hash','current')"
   ],
   "metadata": {
    "collapsed": false,
    "ExecuteTime": {
     "end_time": "2024-10-28T12:49:41.262747800Z",
     "start_time": "2024-10-28T12:49:41.139443500Z"
    }
   },
   "id": "d44c5b29435bbfb2",
   "outputs": [],
   "execution_count": 8
  },
  {
   "cell_type": "code",
   "source": [
    "# LOAD\n",
    "dim_klant.write.format(\"delta\").mode(\"overwrite\").saveAsTable(\"DIM_KLANT\")"
   ],
   "metadata": {
    "collapsed": false
   },
   "id": "f42aa761e08e2d7a",
   "outputs": [],
   "execution_count": null
  },
  {
   "cell_type": "code",
   "source": [
    "spark.stop()"
   ],
   "metadata": {
    "collapsed": false,
    "ExecuteTime": {
     "end_time": "2024-10-28T12:49:58.168794400Z",
     "start_time": "2024-10-28T12:49:57.434256100Z"
    }
   },
   "id": "a8c1736e55da7455",
   "outputs": [],
   "execution_count": 10
  }
 ],
 "metadata": {
  "kernelspec": {
   "display_name": "Python 3",
   "language": "python",
   "name": "python3"
  },
  "language_info": {
   "codemirror_mode": {
    "name": "ipython",
    "version": 2
   },
   "file_extension": ".py",
   "mimetype": "text/x-python",
   "name": "python",
   "nbconvert_exporter": "python",
   "pygments_lexer": "ipython2",
   "version": "2.7.6"
  }
 },
 "nbformat": 4,
 "nbformat_minor": 5
}
