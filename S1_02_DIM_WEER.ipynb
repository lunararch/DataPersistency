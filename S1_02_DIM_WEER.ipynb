{
 "cells": [
  {
   "cell_type": "code",
   "id": "initial_id",
   "metadata": {
    "collapsed": true,
    "ExecuteTime": {
     "end_time": "2024-10-28T14:38:51.676142900Z",
     "start_time": "2024-10-28T14:38:51.321821600Z"
    }
   },
   "source": [
    "\n",
    "from pyspark.sql import SparkSession\n",
    "from delta import configure_spark_with_delta_pip\n",
    "from pyspark.sql.functions import arrays_overlap, split, when, col\n",
    "\n",
    "import ConnectionConfig as cc\n",
    "cc.setupEnvironment()"
   ],
   "outputs": [],
   "execution_count": 1
  },
  {
   "metadata": {},
   "cell_type": "markdown",
   "source": [
    "## Start the cluster\n",
    "Look at the getActiveSession() method in the ConnectionConfig.py file. It will return the active session. It will also add the delta package to the session and add extra jars to the session. The jars are needed to connect to the SQL Server database."
   ],
   "id": "48b6471f940a6204"
  },
  {
   "metadata": {
    "ExecuteTime": {
     "end_time": "2024-10-28T14:39:21.649007200Z",
     "start_time": "2024-10-28T14:38:51.673625900Z"
    }
   },
   "cell_type": "code",
   "source": [
    "spark = cc.startLocalCluster(\"DIM_WEER\",4)\n",
    "spark.getActiveSession()"
   ],
   "id": "4d02f53b542b692e",
   "outputs": [
    {
     "data": {
      "text/plain": "<pyspark.sql.session.SparkSession at 0x17dadf5fe90>",
      "text/html": "\n            <div>\n                <p><b>SparkSession - in-memory</b></p>\n                \n        <div>\n            <p><b>SparkContext</b></p>\n\n            <p><a href=\"http://192.168.0.212:4040\">Spark UI</a></p>\n\n            <dl>\n              <dt>Version</dt>\n                <dd><code>v3.5.2</code></dd>\n              <dt>Master</dt>\n                <dd><code>local[*]</code></dd>\n              <dt>AppName</dt>\n                <dd><code>DIM_WEER</code></dd>\n            </dl>\n        </div>\n        \n            </div>\n        "
     },
     "execution_count": 2,
     "metadata": {},
     "output_type": "execute_result"
    }
   ],
   "execution_count": 2
  },
  {
   "cell_type": "code",
   "source": [
    "weather_csv = spark.read.format(\"csv\").option(\"header\", \"true\").option(\"inferSchema\", \"true\").load(\"FileStore/tables/weather_types.csv\")\n",
    "weather_csv.createOrReplaceTempView(\"weathercsv\")"
   ],
   "metadata": {
    "collapsed": false,
    "ExecuteTime": {
     "end_time": "2024-10-28T14:39:26.822770800Z",
     "start_time": "2024-10-28T14:39:21.640154100Z"
    }
   },
   "id": "8a98e1517e1ff909",
   "outputs": [],
   "execution_count": 3
  },
  {
   "cell_type": "code",
   "source": [
    "weather_csv.printSchema()"
   ],
   "metadata": {
    "collapsed": false,
    "ExecuteTime": {
     "end_time": "2024-10-28T14:39:26.841093300Z",
     "start_time": "2024-10-28T14:39:26.822770800Z"
    }
   },
   "id": "64715b06cdd59a08",
   "outputs": [
    {
     "name": "stdout",
     "output_type": "stream",
     "text": [
      "root\n",
      " |-- weatherTypeID: integer (nullable = true)\n",
      " |-- weatherType: string (nullable = true)\n"
     ]
    }
   ],
   "execution_count": 4
  },
  {
   "cell_type": "code",
   "source": [
    "weather_json = spark.read.option(\"multiline\",\"true\").json(\"./Filestore/weather/*.json\")\n",
    "weather_json.createOrReplaceTempView(\"weatherjson\")"
   ],
   "metadata": {
    "collapsed": false,
    "ExecuteTime": {
     "end_time": "2024-10-28T14:39:28.278932300Z",
     "start_time": "2024-10-28T14:39:26.833997300Z"
    }
   },
   "id": "aacc9ce1a213937b",
   "outputs": [],
   "execution_count": 5
  },
  {
   "metadata": {
    "ExecuteTime": {
     "end_time": "2024-10-28T14:39:28.297857900Z",
     "start_time": "2024-10-28T14:39:28.279935800Z"
    }
   },
   "cell_type": "code",
   "source": [
    "weather_json.printSchema()"
   ],
   "id": "a64df765c13f78cd",
   "outputs": [
    {
     "name": "stdout",
     "output_type": "stream",
     "text": [
      "root\n",
      " |-- base: string (nullable = true)\n",
      " |-- clouds: struct (nullable = true)\n",
      " |    |-- all: long (nullable = true)\n",
      " |-- cod: long (nullable = true)\n",
      " |-- coord: struct (nullable = true)\n",
      " |    |-- lat: double (nullable = true)\n",
      " |    |-- lon: double (nullable = true)\n",
      " |-- dt: long (nullable = true)\n",
      " |-- id: long (nullable = true)\n",
      " |-- main: struct (nullable = true)\n",
      " |    |-- feels_like: double (nullable = true)\n",
      " |    |-- grnd_level: long (nullable = true)\n",
      " |    |-- humidity: long (nullable = true)\n",
      " |    |-- pressure: long (nullable = true)\n",
      " |    |-- sea_level: long (nullable = true)\n",
      " |    |-- temp: double (nullable = true)\n",
      " |    |-- temp_max: double (nullable = true)\n",
      " |    |-- temp_min: double (nullable = true)\n",
      " |-- name: string (nullable = true)\n",
      " |-- rain: struct (nullable = true)\n",
      " |    |-- 1h: double (nullable = true)\n",
      " |-- snow: struct (nullable = true)\n",
      " |    |-- 1h: double (nullable = true)\n",
      " |-- sys: struct (nullable = true)\n",
      " |    |-- country: string (nullable = true)\n",
      " |    |-- id: long (nullable = true)\n",
      " |    |-- sunrise: long (nullable = true)\n",
      " |    |-- sunset: long (nullable = true)\n",
      " |    |-- type: long (nullable = true)\n",
      " |-- timezone: long (nullable = true)\n",
      " |-- visibility: long (nullable = true)\n",
      " |-- weather: array (nullable = true)\n",
      " |    |-- element: struct (containsNull = true)\n",
      " |    |    |-- description: string (nullable = true)\n",
      " |    |    |-- icon: string (nullable = true)\n",
      " |    |    |-- id: long (nullable = true)\n",
      " |    |    |-- main: string (nullable = true)\n",
      " |-- wind: struct (nullable = true)\n",
      " |    |-- deg: long (nullable = true)\n",
      " |    |-- speed: double (nullable = true)\n",
      " |-- zipcode: string (nullable = true)\n"
     ]
    }
   ],
   "execution_count": 6
  },
  {
   "cell_type": "code",
   "source": [
    "weather_json = spark.sql(\"\"\"\n",
    "select weather.main, zipcode, main.temp, dt, name, rain from weatherjson\n",
    "\"\"\")\n",
    "weather_json.createOrReplaceTempView(\"weatherjson\")"
   ],
   "metadata": {
    "collapsed": false,
    "ExecuteTime": {
     "end_time": "2024-10-28T14:39:28.481851800Z",
     "start_time": "2024-10-28T14:39:28.285556200Z"
    }
   },
   "id": "6a97137d1adb4a5c",
   "outputs": [],
   "execution_count": 7
  },
  {
   "cell_type": "markdown",
   "source": [
    "### ridesFactFromSource = ridesFactFromSource.withColumn(\"feeling\", when(col(\"feeling\").isNull(), \"weertype onbekend\").otherwise(col(\"feeling\")))\n"
   ],
   "metadata": {
    "collapsed": false
   },
   "id": "2eb1e5bef48ecb7a"
  },
  {
   "cell_type": "code",
   "source": [
    "weather_json = weather_json.withColumn(\n",
    "    \"weather_descriptor\",\n",
    "    when(col(\"rain\").isNull() & (col(\"temp\") >= 288.15), \"aangenaam\") # aanpassen TODO no hardcoded values (done!)\n",
    "    .when(col(\"rain\").isNull() & (col(\"temp\") < 288.15), \"neutraal\")\n",
    "    .otherwise(\"onaangenaam\")\n",
    ")"
   ],
   "metadata": {
    "collapsed": false,
    "ExecuteTime": {
     "end_time": "2024-10-28T14:39:28.533275900Z",
     "start_time": "2024-10-28T14:39:28.480849Z"
    }
   },
   "id": "5a4d7d5a02d7515a",
   "outputs": [],
   "execution_count": 8
  },
  {
   "cell_type": "code",
   "source": "weather_json = weather_json.drop(\"main\",\"name\", \"temp\", \"rain\")",
   "metadata": {
    "collapsed": false,
    "ExecuteTime": {
     "end_time": "2024-10-28T14:39:28.554697400Z",
     "start_time": "2024-10-28T14:39:28.533275900Z"
    }
   },
   "id": "568f98e6de6fcd2",
   "outputs": [],
   "execution_count": 9
  },
  {
   "cell_type": "code",
   "source": [
    "weather_json.show(36)"
   ],
   "metadata": {
    "collapsed": false,
    "ExecuteTime": {
     "end_time": "2024-10-28T14:39:29.129896400Z",
     "start_time": "2024-10-28T14:39:28.552328700Z"
    }
   },
   "id": "80bb821c3b85fec8",
   "outputs": [
    {
     "name": "stdout",
     "output_type": "stream",
     "text": [
      "+-------+----------+------------------+\n",
      "|zipcode|        dt|weather_descriptor|\n",
      "+-------+----------+------------------+\n",
      "|   2060|1580711134|       onaangenaam|\n",
      "|   2060|1580936892|       onaangenaam|\n",
      "|   2140|1727689398|       onaangenaam|\n",
      "|   2140|1727689398|       onaangenaam|\n",
      "|   2140|1727689398|       onaangenaam|\n",
      "|   2170|1727689425|       onaangenaam|\n",
      "|   2170|1727689425|       onaangenaam|\n",
      "|   2170|1727689425|       onaangenaam|\n",
      "|   2660|1595608826|         aangenaam|\n",
      "|   2600|1587845201|       onaangenaam|\n",
      "|   2018|1577124744|       onaangenaam|\n",
      "|   2020|1577045792|       onaangenaam|\n",
      "|   2100|1583248713|       onaangenaam|\n",
      "|   2018|1577131973|       onaangenaam|\n",
      "|   2050|1579113249|       onaangenaam|\n",
      "|   2000|1577134598|       onaangenaam|\n",
      "|   2050|1577790936|       onaangenaam|\n",
      "|   2610|1590106342|       onaangenaam|\n",
      "|   2610|1590490186|       onaangenaam|\n",
      "|   2610|1590947279|         aangenaam|\n",
      "|   2600|1584365486|         aangenaam|\n",
      "|   2030|1577040467|          neutraal|\n",
      "|   2000|1577045792|          neutraal|\n",
      "|   2018|1577172430|          neutraal|\n",
      "|   2000|1577098742|         aangenaam|\n",
      "|   2060|1580997779|         aangenaam|\n",
      "|   2660|1594482384|         aangenaam|\n",
      "|   2100|1582747883|         aangenaam|\n",
      "|   2660|1594789729|         aangenaam|\n",
      "|   2100|1582925453|         aangenaam|\n",
      "|   2030|1573644222|          neutraal|\n",
      "|   2030|1572093377|          neutraal|\n",
      "|   2600|1583247769|          neutraal|\n",
      "|   2020|1577045792|       onaangenaam|\n",
      "|   2050|1577213709|         aangenaam|\n",
      "|   2020|1577045792|         aangenaam|\n",
      "+-------+----------+------------------+\n"
     ]
    }
   ],
   "execution_count": 10
  },
  {
   "cell_type": "code",
   "source": "weather_json.coalesce(1).write.format(\"delta\").mode(\"overwrite\").save(\"./spark-warehouse/dim_weather\")",
   "metadata": {
    "collapsed": false,
    "ExecuteTime": {
     "end_time": "2024-10-28T14:39:34.863092700Z",
     "start_time": "2024-10-28T14:39:29.109040100Z"
    }
   },
   "id": "a0e498c2213bfc19",
   "outputs": [],
   "execution_count": 11
  },
  {
   "cell_type": "code",
   "source": [
    "spark.stop()"
   ],
   "metadata": {
    "collapsed": false,
    "ExecuteTime": {
     "end_time": "2024-10-28T14:39:35.503124700Z",
     "start_time": "2024-10-28T14:39:34.835666100Z"
    }
   },
   "id": "87194338700e079c",
   "outputs": [],
   "execution_count": 12
  }
 ],
 "metadata": {
  "kernelspec": {
   "display_name": "Python 3",
   "language": "python",
   "name": "python3"
  },
  "language_info": {
   "codemirror_mode": {
    "name": "ipython",
    "version": 2
   },
   "file_extension": ".py",
   "mimetype": "text/x-python",
   "name": "python",
   "nbconvert_exporter": "python",
   "pygments_lexer": "ipython2",
   "version": "2.7.6"
  }
 },
 "nbformat": 4,
 "nbformat_minor": 5
}
