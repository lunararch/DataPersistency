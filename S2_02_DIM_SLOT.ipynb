{
 "cells": [
  {
   "cell_type": "code",
   "id": "initial_id",
   "metadata": {
    "collapsed": true,
    "ExecuteTime": {
     "end_time": "2024-10-28T13:10:50.579081Z",
     "start_time": "2024-10-28T13:10:50.483878Z"
    }
   },
   "source": [
    "from pyspark.sql import SparkSession\n",
    "from delta import configure_spark_with_delta_pip\n",
    "import ConnectionConfig as cc\n",
    "from pyspark.sql.functions import when\n",
    "\n",
    "\n",
    "cc.setupEnvironment()"
   ],
   "outputs": [],
   "execution_count": 1
  },
  {
   "cell_type": "code",
   "source": [
    "spark = cc.startLocalCluster(\"DIM_SLOT\", 4)\n",
    "spark.getActiveSession()"
   ],
   "metadata": {
    "collapsed": false,
    "ExecuteTime": {
     "end_time": "2024-10-28T13:10:57.424667Z",
     "start_time": "2024-10-28T13:10:50.584595Z"
    }
   },
   "id": "6b7b82f1a0cb7771",
   "outputs": [
    {
     "data": {
      "text/plain": [
       "<pyspark.sql.session.SparkSession at 0x1ff64cd8b50>"
      ],
      "text/html": [
       "\n",
       "            <div>\n",
       "                <p><b>SparkSession - in-memory</b></p>\n",
       "                \n",
       "        <div>\n",
       "            <p><b>SparkContext</b></p>\n",
       "\n",
       "            <p><a href=\"http://192.168.1.61:4042\">Spark UI</a></p>\n",
       "\n",
       "            <dl>\n",
       "              <dt>Version</dt>\n",
       "                <dd><code>v3.5.2</code></dd>\n",
       "              <dt>Master</dt>\n",
       "                <dd><code>local[*]</code></dd>\n",
       "              <dt>AppName</dt>\n",
       "                <dd><code>DIM_SLOT</code></dd>\n",
       "            </dl>\n",
       "        </div>\n",
       "        \n",
       "            </div>\n",
       "        "
      ]
     },
     "execution_count": 2,
     "metadata": {},
     "output_type": "execute_result"
    }
   ],
   "execution_count": 2
  },
  {
   "cell_type": "code",
   "source": [
    "# EXTRACT\n",
    "\n",
    "cc.set_connectionProfile(\"velodb\")\n",
    "\n",
    "# Reading from a JDBC source\n",
    "df_locks = spark.read \\\n",
    "    .format(\"jdbc\") \\\n",
    "    .option(\"driver\" , cc.get_Property(\"driver\")) \\\n",
    "    .option(\"url\", cc.create_jdbc()) \\\n",
    "    .option(\"dbtable\", \"locks\") \\\n",
    "    .option(\"user\", cc.get_Property(\"username\")) \\\n",
    "    .option(\"password\", cc.get_Property(\"password\")) \\\n",
    "    .option(\"partitionColumn\", \"lockid\") \\\n",
    "    .option(\"numPartitions\", 4) \\\n",
    "    .option(\"lowerBound\", 0) \\\n",
    "    .option(\"upperBound\", 20) \\\n",
    "    .load()\n",
    "\n",
    "df_locks.createOrReplaceTempView(\"locks\")\n",
    "\n",
    "df_stations = spark.read \\\n",
    "    .format(\"jdbc\") \\\n",
    "    .option(\"driver\" , cc.get_Property(\"driver\")) \\\n",
    "    .option(\"url\", cc.create_jdbc()) \\\n",
    "    .option(\"dbtable\", \"stations\") \\\n",
    "    .option(\"user\", cc.get_Property(\"username\")) \\\n",
    "    .option(\"password\", cc.get_Property(\"password\")) \\\n",
    "    .option(\"partitionColumn\", \"stationid\") \\\n",
    "    .option(\"numPartitions\", 4) \\\n",
    "    .option(\"lowerBound\", 0) \\\n",
    "    .option(\"upperBound\", 20) \\\n",
    "    .load()\n",
    "\n",
    "df_stations.createOrReplaceTempView(\"stations\")"
   ],
   "metadata": {
    "collapsed": false,
    "ExecuteTime": {
     "end_time": "2024-10-28T13:10:59.675510Z",
     "start_time": "2024-10-28T13:10:58.364516Z"
    }
   },
   "id": "30a5dfcabfcdea89",
   "outputs": [],
   "execution_count": 3
  },
  {
   "cell_type": "code",
   "source": [
    "# TRANSFORM\n",
    "\n",
    "dim_slot = spark.sql(\"\"\"\n",
    "select lockid, stationlocknr, l.stationid, objectid, stationnr, type, street, number, zipcode, district, gpscoord from locks l inner join stations s on l.stationid = s.stationid\n",
    "union all\n",
    "\n",
    "select null as lockid, 'geen slot' as stationlocknr, null as stationid, null as objectid, null as stationnr, null as type, null as street, null as number, null as zipcode, null as district, null as gpscoord\n",
    "\n",
    "\"\"\")"
   ],
   "metadata": {
    "collapsed": false,
    "ExecuteTime": {
     "end_time": "2024-10-28T13:10:59.905239Z",
     "start_time": "2024-10-28T13:10:59.722869Z"
    }
   },
   "id": "f56b46544a388faa",
   "outputs": [],
   "execution_count": 4
  },
  {
   "cell_type": "code",
   "source": [
    "dim_slot.show(2)"
   ],
   "metadata": {
    "collapsed": false,
    "ExecuteTime": {
     "end_time": "2024-10-28T13:11:02.300628Z",
     "start_time": "2024-10-28T13:10:59.928814Z"
    }
   },
   "id": "af7a162a90cb3bbe",
   "outputs": [
    {
     "name": "stdout",
     "output_type": "stream",
     "text": [
      "+------+-------------+---------+--------+---------+-----------+----------+------+-------+---------+----------------+\n",
      "|lockid|stationlocknr|stationid|objectid|stationnr|       type|    street|number|zipcode| district|        gpscoord|\n",
      "+------+-------------+---------+--------+---------+-----------+----------+------+-------+---------+----------------+\n",
      "|    36|           18|        2|   33203|      019|ENKELZIJDIG|ONTBREKEND|    12|   2000|ANTWERPEN|(51.219,4.40405)|\n",
      "|    35|           17|        2|   33203|      019|ENKELZIJDIG|ONTBREKEND|    12|   2000|ANTWERPEN|(51.219,4.40405)|\n",
      "+------+-------------+---------+--------+---------+-----------+----------+------+-------+---------+----------------+\n",
      "only showing top 2 rows\n",
      "\n"
     ]
    }
   ],
   "execution_count": 5
  },
  {
   "cell_type": "code",
   "source": [
    "dim_slot.where(dim_slot.lockid.isNull()).show()"
   ],
   "metadata": {
    "collapsed": false,
    "ExecuteTime": {
     "end_time": "2024-10-28T13:11:02.523073Z",
     "start_time": "2024-10-28T13:11:02.319647Z"
    }
   },
   "id": "a77cbf61467dab1b",
   "outputs": [
    {
     "name": "stdout",
     "output_type": "stream",
     "text": [
      "+------+-------------+---------+--------+---------+----+------+------+-------+--------+--------+\n",
      "|lockid|stationlocknr|stationid|objectid|stationnr|type|street|number|zipcode|district|gpscoord|\n",
      "+------+-------------+---------+--------+---------+----+------+------+-------+--------+--------+\n",
      "|  NULL|    geen slot|     NULL|    NULL|     NULL|NULL|  NULL|  NULL|   NULL|    NULL|    NULL|\n",
      "+------+-------------+---------+--------+---------+----+------+------+-------+--------+--------+\n",
      "\n"
     ]
    }
   ],
   "execution_count": 6
  },
  {
   "cell_type": "code",
   "source": [
    "# LOAD\n",
    "\n",
    "dim_slot.coalesce(1).write.format(\"delta\").mode(\"overwrite\").saveAsTable(\"dim_slot\")"
   ],
   "metadata": {
    "collapsed": false,
    "ExecuteTime": {
     "end_time": "2024-10-28T13:11:05.870069Z",
     "start_time": "2024-10-28T13:11:02.531099Z"
    }
   },
   "id": "28130da17e953f4b",
   "outputs": [],
   "execution_count": 7
  },
  {
   "metadata": {
    "ExecuteTime": {
     "end_time": "2024-10-28T13:11:33.531959Z",
     "start_time": "2024-10-28T13:11:32.966800Z"
    }
   },
   "cell_type": "code",
   "source": "spark.stop()",
   "id": "aa3682b23ae8f73c",
   "outputs": [],
   "execution_count": 8
  }
 ],
 "metadata": {
  "kernelspec": {
   "display_name": "Python 3",
   "language": "python",
   "name": "python3"
  },
  "language_info": {
   "codemirror_mode": {
    "name": "ipython",
    "version": 2
   },
   "file_extension": ".py",
   "mimetype": "text/x-python",
   "name": "python",
   "nbconvert_exporter": "python",
   "pygments_lexer": "ipython2",
   "version": "2.7.6"
  }
 },
 "nbformat": 4,
 "nbformat_minor": 5
}
