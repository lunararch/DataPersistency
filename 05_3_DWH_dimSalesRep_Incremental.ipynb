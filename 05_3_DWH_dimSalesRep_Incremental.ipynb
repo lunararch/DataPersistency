{
 "cells": [
  {
   "cell_type": "markdown",
   "source": [
    "# Config stuff"
   ],
   "metadata": {
    "collapsed": false
   }
  },
  {
   "cell_type": "code",
   "execution_count": 1,
   "outputs": [],
   "source": [
    "\n",
    "import ConnectionConfig as cc\n",
    "from delta import DeltaTable\n",
    "from datetime import datetime"
   ],
   "metadata": {
    "collapsed": false,
    "ExecuteTime": {
     "end_time": "2024-09-10T09:46:18.207963400Z",
     "start_time": "2024-09-10T09:46:17.643042Z"
    }
   }
  },
  {
   "cell_type": "code",
   "execution_count": 2,
   "outputs": [
    {
     "data": {
      "text/plain": "<pyspark.sql.session.SparkSession at 0x13d9a6b4250>",
      "text/html": "\n            <div>\n                <p><b>SparkSession - in-memory</b></p>\n                \n        <div>\n            <p><b>SparkContext</b></p>\n\n            <p><a href=\"http://AKDGPORT11191.mshome.net:4040\">Spark UI</a></p>\n\n            <dl>\n              <dt>Version</dt>\n                <dd><code>v3.5.2</code></dd>\n              <dt>Master</dt>\n                <dd><code>local[*]</code></dd>\n              <dt>AppName</dt>\n                <dd><code>dimSalesIncrementalLoad</code></dd>\n            </dl>\n        </div>\n        \n            </div>\n        "
     },
     "execution_count": 2,
     "metadata": {},
     "output_type": "execute_result"
    }
   ],
   "source": [
    "cc.setupEnvironment()\n",
    "spark = cc.startLocalCluster(\"dimSalesIncrementalLoad\")\n",
    "spark.getActiveSession()"
   ],
   "metadata": {
    "collapsed": false,
    "ExecuteTime": {
     "end_time": "2024-09-10T09:46:37.019043200Z",
     "start_time": "2024-09-10T09:46:18.208059300Z"
    }
   }
  },
  {
   "cell_type": "markdown",
   "source": [
    "## Incremental load\n",
    "\n",
    "After the sales Rep dimension is filled for the first time, the logic to update the dimension has to be handled differently. A change of a record in the source system has to be handled as a change in the dimension. The SCD2 logic is used to handle this.\n",
    "\n",
    "The SCD2 implementation requires a more complex transformation to correctly handle changes in the source files. For detailed information consult the comments in the code.\n",
    "### Setting the parameters\n",
    "The timestamp of the job is used to set the scd_end date of the previous record and the scd_start date of the new record."
   ],
   "metadata": {
    "collapsed": false
   }
  },
  {
   "metadata": {},
   "cell_type": "markdown",
   "source": [
    "## Incremental load\n",
    "\n",
    "After the sales Rep dimension is filled for the first time, the logic to update the dimension has to be handled differently. A change of a record in the source system has to be handled as a change in the dimension. The SCD2 logic is used to handle this.\n",
    "\n",
    "The SCD2 implementation requires a more complex transformation to correctly handle changes in the source files. For detailed information consult the comments in the code.\n",
    "### Setting the parameters\n",
    "The timestamp of the job is used to set the scd_end date of the previous record and the scd_start date of the new record."
   ]
  },
  {
   "cell_type": "code",
   "execution_count": 3,
   "outputs": [],
   "source": [
    "run_timestamp =datetime.now() #The job runtime is stored in a variable"
   ],
   "metadata": {
    "collapsed": false,
    "ExecuteTime": {
     "end_time": "2024-09-10T09:46:37.019043200Z",
     "start_time": "2024-09-10T09:46:36.994427200Z"
    }
   }
  },
  {
   "cell_type": "markdown",
   "source": [
    "### Read existing dimension"
   ],
   "metadata": {
    "collapsed": false
   }
  },
  {
   "cell_type": "code",
   "execution_count": 4,
   "outputs": [
    {
     "name": "stdout",
     "output_type": "stream",
     "text": [
      "+----------+-------------+-------------+--------------------+--------------------+\n",
      "|salesRepID|         name|       office|          salesRepSK|                 md5|\n",
      "+----------+-------------+-------------+--------------------+--------------------+\n",
      "|         5|     T. Mosby|       Berlin|cd1beed9-a843-4f8...|947579dec8084039e...|\n",
      "|         6|   H. Simpson|       Berlin|6b5219a8-2533-4e6...|d636d1b0685650b34...|\n",
      "|         7|   B. Stinson|San Fransisco|89afbf6b-2123-485...|e726b2d8dc0cf9a6f...|\n",
      "|         8|L. Hofstadter|     Brussels|634a1491-0fd5-4fb...|a2bbe52f8274b0f08...|\n",
      "|         9|    S. Cooper|     Brussels|7de6c74b-f37e-4e9...|d85c73c9d03df0002...|\n",
      "|        10| F. Underwood|     Brussels|751782da-b175-450...|44cd1a6d596b05688...|\n",
      "|        11|     W. White|     New York|579329fb-52f0-4b1...|f9ea69ce2aa4482b4...|\n",
      "|        12| T. Lannister|     New York|9c488723-3bc3-422...|3259a471f9816d7c3...|\n",
      "|        13|      M. Ross|       London|ddb5d0fc-0261-47c...|d0faf94c1bbe2d4a7...|\n",
      "|         1|      R. Zane|       Berlin|b65df3d9-20dc-42d...|1f8cbbc272a33dcc1...|\n",
      "|         2|   P. Chapman|       Berlin|ec9c8bb4-e949-413...|14b094c31bf9e4149...|\n",
      "|         4|    R. Geller|     New York|957c6759-6c7b-4f3...|6212c0ce01f144d66...|\n",
      "|         3|     F. Crane|       Berlin|51ec08d2-9b42-447...|382ec0d8b8cd28ce4...|\n",
      "+----------+-------------+-------------+--------------------+--------------------+\n"
     ]
    }
   ],
   "source": [
    "dt_dimSalesRep = DeltaTable.forPath(spark,\".\\\\spark-warehouse\\\\dimsalesrep\")\n",
    "\n",
    "dt_dimSalesRep.toDF().createOrReplaceTempView(\"dimSalesRep_current\")\n",
    "\n",
    "#DEBUG CODE TO SHOW CONTENT OF DIMENSION\n",
    "spark.sql(\"select salesRepID, name, office, salesRepSK, md5  from dimSalesRep_current \").show()"
   ],
   "metadata": {
    "collapsed": false,
    "ExecuteTime": {
     "end_time": "2024-09-10T09:47:14.480331200Z",
     "start_time": "2024-09-10T09:46:37.004341600Z"
    }
   }
  },
  {
   "cell_type": "markdown",
   "source": [
    "### Read source table"
   ],
   "metadata": {
    "collapsed": false
   }
  },
  {
   "cell_type": "markdown",
   "source": [
    "\n",
    "##### 1 READ SOURCE TABLE\n",
    "Creating dataframe with source table (from operational system). Transformed to the dimension format.\n",
    "The surrogate key is a uuid to be sure it's unique.\n",
    "md5 hash is used to identify changes in the source table.\n",
    "A view is created of the resulting dataframe to make it available for the next step."
   ],
   "metadata": {
    "collapsed": false
   }
  },
  {
   "cell_type": "code",
   "execution_count": 5,
   "outputs": [
    {
     "name": "stdout",
     "output_type": "stream",
     "text": [
      "+--------------------+-----------------+-------------+-------------+--------------------+\n",
      "|   source_salesRepSK|source_salesRepId|  source_name|source_office|          source_md5|\n",
      "+--------------------+-----------------+-------------+-------------+--------------------+\n",
      "|a9cd608a-5881-48d...|                1|      R. Zane|       Berlin|1f8cbbc272a33dcc1...|\n",
      "|5ad576cf-1456-4fb...|                2|   P. Chapman|       Berlin|14b094c31bf9e4149...|\n",
      "|70306d10-09d1-421...|                4|    R. Geller|     New York|6212c0ce01f144d66...|\n",
      "|7a5956ff-2f80-43b...|                3|     F. Crane|       Berlin|382ec0d8b8cd28ce4...|\n",
      "|bb4a8c60-bfb1-4a6...|                5|     T. Mosby|       Berlin|947579dec8084039e...|\n",
      "|44a8484b-5545-460...|                6|   H. Simpson|       Berlin|d636d1b0685650b34...|\n",
      "|896854b6-c69e-421...|                7|   B. Stinson|San Fransisco|e726b2d8dc0cf9a6f...|\n",
      "|3e6955c0-3af4-44d...|                8|L. Hofstadter|     Brussels|a2bbe52f8274b0f08...|\n",
      "|9b72df2d-8655-428...|                9|    S. Cooper|     Brussels|d85c73c9d03df0002...|\n",
      "|51b201f8-6d56-4e5...|               10| F. Underwood|     Brussels|44cd1a6d596b05688...|\n",
      "|91a59c48-f87e-4cb...|               11|     W. White|     New York|f9ea69ce2aa4482b4...|\n",
      "|b200017b-c21c-4b7...|               12| T. Lannister|     New York|3259a471f9816d7c3...|\n",
      "|a7c5945c-cc4a-472...|               13|      M. Ross|       London|d0faf94c1bbe2d4a7...|\n",
      "+--------------------+-----------------+-------------+-------------+--------------------+\n"
     ]
    }
   ],
   "source": [
    "cc.set_connectionProfile(\"tutorial_op\")\n",
    "\n",
    "#a. Reading from a JDBC source\n",
    "df_operational_sales_rep = spark.read \\\n",
    "    .format(\"jdbc\") \\\n",
    "    .option(\"driver\" , cc.get_Property(\"driver\")) \\\n",
    "    .option(\"url\", cc.create_jdbc()) \\\n",
    "    .option(\"dbtable\", \"salesrep\") \\\n",
    "    .option(\"user\", cc.get_Property(\"username\")) \\\n",
    "    .option(\"password\", cc.get_Property(\"password\")) \\\n",
    "    .option(\"partitionColumn\", \"salesRepID\") \\\n",
    "    .option(\"numPartitions\", 4) \\\n",
    "    .option(\"lowerBound\", 0) \\\n",
    "    .option(\"upperBound\", 20) \\\n",
    "    .load()\n",
    "\n",
    "df_operational_sales_rep.createOrReplaceTempView(\"operational_sales_rep\")\n",
    "\n",
    "#b. Transforming the source to the dimension format\n",
    "df_dim_sales_rep_new = spark.sql( \"select uuid() as source_salesRepSK, \\\n",
    "                                        salesRepId as source_salesRepId, \\\n",
    "                                        name as source_name, \\\n",
    "                                        office as source_office, \\\n",
    "                                        md5(concat( name, office)) as source_md5 \\\n",
    "                                    from operational_sales_rep\")\n",
    "\n",
    "df_dim_sales_rep_new.createOrReplaceTempView(\"dimSalesRep_new\")\n",
    "\n",
    "#DEBUG CODE TO SHOW CONTENT OF SOURCE\n",
    "#df_dim_sales_rep_new.printSchema()\n",
    "#df_dim_sales_rep_new.show()\n",
    "spark.sql(\"select * from dimSalesRep_new\").show()\n",
    "#df_dim_sales_rep.write.format(\"delta\").mode(\"overwrite\").saveAsTable(\"dimSalesRep\")\n"
   ],
   "metadata": {
    "collapsed": false,
    "ExecuteTime": {
     "end_time": "2024-09-10T09:47:16.560056700Z",
     "start_time": "2024-09-10T09:47:14.440184600Z"
    }
   }
  },
  {
   "cell_type": "markdown",
   "source": [
    "\n",
    "##### 2 DETECT CHANGES\n",
    "Dataframe to identify SCD2 changed rows.\n",
    "First a join between SOURCE (operational system) and DIMENSION (dwh) is performed\n",
    "   The md5 hash is used to identify differences.\n",
    "   The list contains:\n",
    "       - updated source-rows (the join finds a rowand the md5 is different)  and\n",
    "       - new source-rows (the leftouter join does not find a row in the dimension (dwh.salesRepId is null)"
   ],
   "metadata": {
    "collapsed": false
   }
  },
  {
   "cell_type": "code",
   "execution_count": 6,
   "outputs": [
    {
     "name": "stdout",
     "output_type": "stream",
     "text": [
      "+-----------------+-----------------+-----------+-------------+----------+----------+----------+----+------+---------+-------+---+-------+\n",
      "|source_salesRepSK|source_salesRepId|source_name|source_office|source_md5|salesRepSK|salesrepid|name|office|scd_start|scd_end|md5|current|\n",
      "+-----------------+-----------------+-----------+-------------+----------+----------+----------+----+------+---------+-------+---+-------+\n",
      "+-----------------+-----------------+-----------+-------------+----------+----------+----------+----+------+---------+-------+---+-------+\n"
     ]
    }
   ],
   "source": [
    "\n",
    "detectedChanges=spark.sql(f\"select * \\\n",
    "                          from dimSalesRep_new source \\\n",
    "                          left outer join dimSalesRep_current dwh on dwh.salesRepID == source.source_salesRepId and dwh.current == true \\\n",
    "                          where dwh.salesRepId is null or dwh.md5 <> source.source_md5\")\n",
    "\n",
    "detectedChanges.createOrReplaceTempView(\"detectedChanges\")\n",
    "\n",
    "#DEBUG CODE TO SHOW CONTENT OF DETECTED CHANGES\n",
    "detectedChanges.show()\n"
   ],
   "metadata": {
    "collapsed": false,
    "ExecuteTime": {
     "end_time": "2024-09-10T09:47:20.795207100Z",
     "start_time": "2024-09-10T09:47:16.505979700Z"
    }
   }
  },
  {
   "cell_type": "markdown",
   "source": [
    "\n",
    "##### 3 TRANSOFRM TO UPSERTS\n",
    "Before union: Every updated and new source-row requires the insertion of a new record in the SCD2 dimension. This new records starts at the runtime of the job and ends at the end of time (2100-12-12). Current is set to true.\n",
    "Updated source-rows also require an update of the existing scd-fields. The scd_end date of the existing record is set to the runtime of the job. Current is set to false\n",
    "\n",
    "In the next step, rows without mergeKey will be inserted in the dimension table and rows with mergekey will be updated in the dimension"
   ],
   "metadata": {
    "collapsed": false
   }
  },
  {
   "cell_type": "code",
   "execution_count": 7,
   "outputs": [],
   "source": [
    "\n",
    "df_upserts = spark.sql(f\"select source_salesRepSK as salesRepSK,\\\n",
    "                                source_salesRepId as salesRepID,\\\n",
    "                                source_name as name,\\\n",
    "                                source_office as office,\\\n",
    "                                to_timestamp('{run_timestamp}') as scd_start, \\\n",
    "                                to_timestamp('2100-12-12','yyyy-MM-dd') as scd_end,\\\n",
    "                                source_md5 as md5,\\\n",
    "                                true as current\\\n",
    "                        from  detectedChanges\\\n",
    "                        union \\\n",
    "                        select  salesRepSK,\\\n",
    "                                salesRepId,\\\n",
    "                                name,\\\n",
    "                                office,\\\n",
    "                                scd_start,\\\n",
    "                                to_timestamp('{run_timestamp}') as scd_end,\\\n",
    "                                md5, \\\n",
    "                                false \\\n",
    "                                from detectedChanges \\\n",
    "                        where current is not null\")\n",
    "\n",
    "df_upserts.createOrReplaceTempView(\"upserts\")"
   ],
   "metadata": {
    "collapsed": false,
    "ExecuteTime": {
     "end_time": "2024-09-10T09:47:21.299467Z",
     "start_time": "2024-09-10T09:47:20.782207700Z"
    }
   }
  },
  {
   "cell_type": "code",
   "execution_count": 8,
   "outputs": [
    {
     "name": "stdout",
     "output_type": "stream",
     "text": [
      "+----------+----------+----+------+---------+-------+---+-------+\n",
      "|salesRepSK|salesRepID|name|office|scd_start|scd_end|md5|current|\n",
      "+----------+----------+----+------+---------+-------+---+-------+\n",
      "+----------+----------+----+------+---------+-------+---+-------+\n"
     ]
    }
   ],
   "source": [
    "\n",
    "#DEBUG CODE TO SHOW CONTENT OF UPSERTS\n",
    "spark.sql(\"select * from upserts\").show()"
   ],
   "metadata": {
    "collapsed": false,
    "ExecuteTime": {
     "end_time": "2024-09-10T09:47:26.531570200Z",
     "start_time": "2024-09-10T09:47:21.238535Z"
    }
   }
  },
  {
   "cell_type": "markdown",
   "source": [
    "\n",
    "#### PERFORM MERGE DIMSALESREP AND UPSERTS\n",
    "merge looks for a matching dwh.salesRepID (in the dimension) for mergeKey\n",
    "   - when a match is found (the dimension table contains a row where its salesRepId corresponds with one of the mergekeys)  -> perform update of row to close the period and set current to \"false\"\n",
    "   - when no match is found (there is no salesRepID in the dimension because the mergeKey is null) -> perform an insert with the data from the updserts table (from the source). The scd-start is filled with the run_timestamp)"
   ],
   "metadata": {
    "collapsed": false
   }
  },
  {
   "cell_type": "code",
   "execution_count": 9,
   "outputs": [
    {
     "data": {
      "text/plain": "DataFrame[num_affected_rows: bigint, num_updated_rows: bigint, num_deleted_rows: bigint, num_inserted_rows: bigint]"
     },
     "execution_count": 9,
     "metadata": {},
     "output_type": "execute_result"
    },
    {
     "name": "stdout",
     "output_type": "stream",
     "text": [
      "+--------------------+----------+-------------+-------------+-------------------+-------------------+--------------------+-------+\n",
      "|          salesRepSK|salesrepid|         name|       office|          scd_start|            scd_end|                 md5|current|\n",
      "+--------------------+----------+-------------+-------------+-------------------+-------------------+--------------------+-------+\n",
      "|b65df3d9-20dc-42d...|         1|      R. Zane|       Berlin|1999-01-01 00:00:00|2100-12-12 00:00:00|1f8cbbc272a33dcc1...|   true|\n",
      "|ec9c8bb4-e949-413...|         2|   P. Chapman|       Berlin|1999-01-01 00:00:00|2100-12-12 00:00:00|14b094c31bf9e4149...|   true|\n",
      "|51ec08d2-9b42-447...|         3|     F. Crane|       Berlin|1999-01-01 00:00:00|2100-12-12 00:00:00|382ec0d8b8cd28ce4...|   true|\n",
      "|957c6759-6c7b-4f3...|         4|    R. Geller|     New York|1999-01-01 00:00:00|2100-12-12 00:00:00|6212c0ce01f144d66...|   true|\n",
      "|cd1beed9-a843-4f8...|         5|     T. Mosby|       Berlin|1999-01-01 00:00:00|2100-12-12 00:00:00|947579dec8084039e...|   true|\n",
      "|6b5219a8-2533-4e6...|         6|   H. Simpson|       Berlin|1999-01-01 00:00:00|2100-12-12 00:00:00|d636d1b0685650b34...|   true|\n",
      "|89afbf6b-2123-485...|         7|   B. Stinson|San Fransisco|1999-01-01 00:00:00|2100-12-12 00:00:00|e726b2d8dc0cf9a6f...|   true|\n",
      "|634a1491-0fd5-4fb...|         8|L. Hofstadter|     Brussels|1999-01-01 00:00:00|2100-12-12 00:00:00|a2bbe52f8274b0f08...|   true|\n",
      "|7de6c74b-f37e-4e9...|         9|    S. Cooper|     Brussels|1999-01-01 00:00:00|2100-12-12 00:00:00|d85c73c9d03df0002...|   true|\n",
      "|751782da-b175-450...|        10| F. Underwood|     Brussels|1999-01-01 00:00:00|2100-12-12 00:00:00|44cd1a6d596b05688...|   true|\n",
      "|579329fb-52f0-4b1...|        11|     W. White|     New York|1999-01-01 00:00:00|2100-12-12 00:00:00|f9ea69ce2aa4482b4...|   true|\n",
      "|9c488723-3bc3-422...|        12| T. Lannister|     New York|1999-01-01 00:00:00|2100-12-12 00:00:00|3259a471f9816d7c3...|   true|\n",
      "|ddb5d0fc-0261-47c...|        13|      M. Ross|       London|1999-01-01 00:00:00|2100-12-12 00:00:00|d0faf94c1bbe2d4a7...|   true|\n",
      "+--------------------+----------+-------------+-------------+-------------------+-------------------+--------------------+-------+\n"
     ]
    }
   ],
   "source": [
    "spark.sql(\"MERGE INTO dimSalesRep_current AS target \\\n",
    "          using upserts AS source ON target.salesRepID = source.salesRepID and source.current = false and target.current=true \\\n",
    "          WHEN MATCHED THEN UPDATE SET scd_end = source.scd_end, current = source.current  \\\n",
    "          WHEN NOT MATCHED THEN INSERT (salesRepSK, salesRepId, name, office, scd_start, scd_end, md5, current) values (source.salesRepSK, source.salesRepId, source.name, source.office, source.scd_start, source.scd_end, source.md5, source.current)\")\\\n",
    "\n",
    "#DEBUG CODE TO SHOW CONTENT OF DIMENSION\n",
    "dt_dimSalesRep.toDF().sort(\"salesRepID\", \"scd_start\").show(100)\n"
   ],
   "metadata": {
    "collapsed": false,
    "ExecuteTime": {
     "end_time": "2024-09-10T09:47:36.559017500Z",
     "start_time": "2024-09-10T09:47:26.516569200Z"
    }
   }
  },
  {
   "cell_type": "markdown",
   "source": [
    "## Delete the spark session"
   ],
   "metadata": {
    "collapsed": false
   }
  },
  {
   "cell_type": "code",
   "execution_count": 10,
   "outputs": [],
   "source": [
    "spark.stop()"
   ],
   "metadata": {
    "collapsed": false,
    "ExecuteTime": {
     "end_time": "2024-09-10T09:47:37.275704700Z",
     "start_time": "2024-09-10T09:47:36.510543200Z"
    }
   }
  }
 ],
 "metadata": {
  "kernelspec": {
   "display_name": "Python 3",
   "language": "python",
   "name": "python3"
  },
  "language_info": {
   "codemirror_mode": {
    "name": "ipython",
    "version": 2
   },
   "file_extension": ".py",
   "mimetype": "text/x-python",
   "name": "python",
   "nbconvert_exporter": "python",
   "pygments_lexer": "ipython2",
   "version": "2.7.6"
  }
 },
 "nbformat": 4,
 "nbformat_minor": 0
}
