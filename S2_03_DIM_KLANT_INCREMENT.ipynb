{
 "cells": [
  {
   "metadata": {
    "ExecuteTime": {
     "end_time": "2024-10-28T12:51:48.509648600Z",
     "start_time": "2024-10-28T12:51:48.250856300Z"
    }
   },
   "cell_type": "code",
   "source": [
    "from pyspark.sql import SparkSession\n",
    "from delta import configure_spark_with_delta_pip\n",
    "from datetime import datetime\n",
    "\n",
    "import ConnectionConfig as cc\n",
    "\n",
    "cc.setupEnvironment()"
   ],
   "id": "c02303f19ca633c2",
   "outputs": [],
   "execution_count": 1
  },
  {
   "metadata": {
    "ExecuteTime": {
     "end_time": "2024-10-28T12:52:22.006587200Z",
     "start_time": "2024-10-28T12:51:48.513219400Z"
    }
   },
   "cell_type": "code",
   "source": [
    "spark = cc.startLocalCluster(\"dimKlantIncrementalLoad\")\n",
    "spark.getActiveSession()"
   ],
   "id": "2134a35eb8ddc9d6",
   "outputs": [
    {
     "data": {
      "text/plain": "<pyspark.sql.session.SparkSession at 0x2b0dac8fbd0>",
      "text/html": "\n            <div>\n                <p><b>SparkSession - in-memory</b></p>\n                \n        <div>\n            <p><b>SparkContext</b></p>\n\n            <p><a href=\"http://192.168.0.212:4041\">Spark UI</a></p>\n\n            <dl>\n              <dt>Version</dt>\n                <dd><code>v3.5.2</code></dd>\n              <dt>Master</dt>\n                <dd><code>local[*]</code></dd>\n              <dt>AppName</dt>\n                <dd><code>dimKlantIncrementalLoad</code></dd>\n            </dl>\n        </div>\n        \n            </div>\n        "
     },
     "execution_count": 2,
     "metadata": {},
     "output_type": "execute_result"
    }
   ],
   "execution_count": 2
  },
  {
   "metadata": {},
   "cell_type": "markdown",
   "source": [
    "# settng the parameters\n",
    "The timestamp of the job is used to set the scd_end date of the previous record and the scd_start date of the new record.\n"
   ],
   "id": "802d2740cb2cde6a"
  },
  {
   "metadata": {
    "ExecuteTime": {
     "end_time": "2024-10-28T12:52:22.007586100Z",
     "start_time": "2024-10-28T12:52:21.991421700Z"
    }
   },
   "cell_type": "code",
   "source": [
    "run_timestamp =datetime.now() #The job runtime is stored in a variable\n"
   ],
   "id": "17ec6b0cedda1a44",
   "outputs": [],
   "execution_count": 3
  },
  {
   "metadata": {},
   "cell_type": "markdown",
   "source": [
    "# Load the data from the delta table"
   ],
   "id": "7ef62cd7cd21c61d"
  },
  {
   "metadata": {
    "ExecuteTime": {
     "end_time": "2024-10-28T12:52:39.478491900Z",
     "start_time": "2024-10-28T12:52:21.998047200Z"
    }
   },
   "cell_type": "code",
   "source": [
    "df = spark.read.format(\"delta\").load(\"spark-warehouse/dim_klant\")\n",
    "\n",
    "df.createOrReplaceTempView(\"dim_klant\")\n",
    "spark.sql(\"select * from dim_klant\").show(2)"
   ],
   "id": "ae9dcfff2bbc80be",
   "outputs": [
    {
     "name": "stdout",
     "output_type": "stream",
     "text": [
      "+------+--------------------+------------------+--------+-------------------+-------------------+--------------------+-------+\n",
      "|userid|             address|subscriptiontypeid|klant_SK|          scd_start|            scd_end|            md5_hash|current|\n",
      "+------+--------------------+------------------+--------+-------------------+-------------------+--------------------+-------+\n",
      "|     2|Europalaan 43 , 2...|                 2|       0|1999-01-01 00:00:00|2100-12-12 00:00:00|3e10060458ebd8bb2...|   true|\n",
      "|     4|Graaf Joseph de P...|                 1|       2|1999-01-01 00:00:00|2100-12-12 00:00:00|760be02221cf1045d...|   true|\n",
      "+------+--------------------+------------------+--------+-------------------+-------------------+--------------------+-------+\n"
     ]
    }
   ],
   "execution_count": 4
  },
  {
   "metadata": {},
   "cell_type": "markdown",
   "source": [
    "# Read source table"
   ],
   "id": "b3b9d700f187d069"
  },
  {
   "metadata": {
    "ExecuteTime": {
     "end_time": "2024-10-28T12:52:40.299429500Z",
     "start_time": "2024-10-28T12:52:39.468426300Z"
    }
   },
   "cell_type": "code",
   "source": [
    "\n",
    "cc.set_connectionProfile(\"velodb\")\n",
    "\n",
    "df_velo_users = spark.read \\\n",
    "    .format(\"jdbc\") \\\n",
    "    .option(\"driver\", cc.get_Property(\"driver\")) \\\n",
    "    .option(\"url\", cc.create_jdbc()) \\\n",
    "    .option(\"dbtable\", \"velo_users\") \\\n",
    "    .option(\"user\", cc.get_Property(\"username\")) \\\n",
    "    .option(\"password\", cc.get_Property(\"password\")) \\\n",
    "    .option(\"partitionColumn\", \"userid\") \\\n",
    "    .option(\"numPartitions\", 4) \\\n",
    "    .option(\"lowerBound\", 0) \\\n",
    "    .option(\"upperBound\", 20) \\\n",
    "    .load()\n",
    "\n",
    "df_subscription = spark.read \\\n",
    "    .format(\"jdbc\") \\\n",
    "    .option(\"driver\", cc.get_Property(\"driver\")) \\\n",
    "    .option(\"url\", cc.create_jdbc()) \\\n",
    "    .option(\"dbtable\", \"subscriptions\") \\\n",
    "    .option(\"user\", cc.get_Property(\"username\")) \\\n",
    "    .option(\"password\", cc.get_Property(\"password\")) \\\n",
    "    .option(\"partitionColumn\", \"userid\") \\\n",
    "    .option(\"numPartitions\", 4) \\\n",
    "    .option(\"lowerBound\", 0) \\\n",
    "    .option(\"upperBound\", 20) \\\n",
    "    .load()\n",
    "\n",
    "df_velo_users.createOrReplaceTempView(\"df_velo_users\")\n",
    "df_subscription.createOrReplaceTempView(\"df_subscription\")"
   ],
   "id": "698558649a89eb8",
   "outputs": [],
   "execution_count": 5
  },
  {
   "metadata": {
    "ExecuteTime": {
     "end_time": "2024-10-28T12:52:43.006991500Z",
     "start_time": "2024-10-28T12:52:40.303433400Z"
    }
   },
   "cell_type": "code",
   "source": [
    "#b. Transforming the source to the dimension format\n",
    "\n",
    "df_velo_users = spark.sql(\"\"\"\n",
    "select userid as duplicate_userid, street || ' ' || number || ', ' || zipcode || ' ' || city || ' ' || country_code as duplicate_address, monotonically_increasing_id() as duplicate_klant_SK,\n",
    "    md5(duplicate_address) as duplicate_md5_hash\n",
    "    from df_velo_users\n",
    "\"\"\")\n",
    "\n",
    "df_subscription = spark.sql(\"\"\"\n",
    "    SELECT s.userid as duplicate_userid, s.subscriptiontypeid as duplicate_subscriptiontypeid, s.validfrom as duplicate_validfrom\n",
    "    FROM (\n",
    "        SELECT userid, MAX(validfrom) AS max_validfrom\n",
    "        FROM df_subscription\n",
    "        GROUP BY userid\n",
    "    ) AS r\n",
    "    JOIN df_subscription s ON s.userid = r.userid AND s.validfrom = r.max_validfrom\n",
    "\"\"\")\n",
    "\n",
    "joined_df = df_velo_users.join(df_subscription, on='duplicate_userid')\n",
    "\n",
    "dim_klant_duplicate = joined_df.select('duplicate_userid', 'duplicate_address', 'duplicate_subscriptiontypeid', 'duplicate_klant_SK', 'duplicate_md5_hash')\n",
    "\n",
    "dim_klant_duplicate.createOrReplaceTempView(\"dim_klant_duplicate\")\n",
    "\n",
    "spark.sql(\"select * from dim_klant_duplicate\").show()\n"
   ],
   "id": "4650f125a866b0be",
   "outputs": [
    {
     "name": "stdout",
     "output_type": "stream",
     "text": [
      "+----------------+--------------------+----------------------------+------------------+--------------------+\n",
      "|duplicate_userid|   duplicate_address|duplicate_subscriptiontypeid|duplicate_klant_SK|  duplicate_md5_hash|\n",
      "+----------------+--------------------+----------------------------+------------------+--------------------+\n",
      "|               1|Somméstraat 156, ...|                           1|                 3|b56eb6300428b2c2f...|\n",
      "|               2|Europalaan 43 , 2...|                           2|                 0|3e10060458ebd8bb2...|\n",
      "|               3|Maria Clarastraat...|                           3|                 1|422db75483b2abfa2...|\n",
      "|               4|Graaf Joseph de P...|                           1|                 2|760be02221cf1045d...|\n",
      "|               6|Jan Ockegemstraat...|                           3|        8589934593|3ecc98d1e19c45f83...|\n",
      "|               9|Bikschotelaan 60 ...|                           2|        8589934596|42ead08d46540b6d9...|\n",
      "|               7|Klamperdreef 154 ...|                           2|        8589934594|270ac772a5f8f9312...|\n",
      "|               8|Kolibriestraat 13...|                           3|        8589934595|87aa665b67746205f...|\n",
      "|               5|Meylstraat 111 , ...|                           3|        8589934592|f79d65dd2df71aa91...|\n",
      "|              10|Benzineweg 137 , ...|                           3|       17179869184|eae4f0656d33dc855...|\n",
      "|              11|Leo Metsstraat 21...|                           2|       17179869185|eada15589541073d1...|\n",
      "|              14|Prosper De Vochtl...|                           3|       17179869188|2e37a55ef9bf21237...|\n",
      "|              12|Bergenhoeve 81 03...|                           3|       17179869186|8f6918a58c6918799...|\n",
      "|              13|Trompetvogelstraa...|                           3|       17179869187|67a1cee760524816f...|\n",
      "|              15|John Kennedylaan ...|                           3|       25769803776|18a6612298dc062f1...|\n",
      "|              18|Emiel Van Hemeldo...|                           3|       25769803779|ed75251a0748a578d...|\n",
      "|              19|Fortbaan 88 , 216...|                           3|       25769803780|624474495ded6d9a7...|\n",
      "|              21|Montevideostraat ...|                           1|       25769803782|08cd4dffb86d19b31...|\n",
      "|              23|Floris de Cuijper...|                           1|       25769803784|32946b1655718919c...|\n",
      "|              29|Middelkaart 170 0...|                           2|       25769803790|9940ca4e6437198bb...|\n",
      "+----------------+--------------------+----------------------------+------------------+--------------------+\n"
     ]
    }
   ],
   "execution_count": 6
  },
  {
   "metadata": {
    "ExecuteTime": {
     "end_time": "2024-10-28T12:52:45.695743100Z",
     "start_time": "2024-10-28T12:52:42.985546600Z"
    }
   },
   "cell_type": "code",
   "source": [
    "detectedChanges=spark.sql(\"\"\"\n",
    "select * from dim_klant_duplicate source\n",
    "left outer join dim_klant dk on source.duplicate_klant_SK = dk.klant_SK and dk.current == true\n",
    "where source.duplicate_md5_hash <> dk.md5_hash\n",
    "\"\"\")\n",
    "detectedChanges.createOrReplaceTempView(\"detectedChanges\")\n",
    "\n",
    "detectedChanges.show()\n"
   ],
   "id": "bf7d5a74ff528b47",
   "outputs": [
    {
     "name": "stdout",
     "output_type": "stream",
     "text": [
      "+----------------+--------------------+----------------------------+------------------+--------------------+------+--------------------+------------------+--------+-------------------+-------------------+--------------------+-------+\n",
      "|duplicate_userid|   duplicate_address|duplicate_subscriptiontypeid|duplicate_klant_SK|  duplicate_md5_hash|userid|             address|subscriptiontypeid|klant_SK|          scd_start|            scd_end|            md5_hash|current|\n",
      "+----------------+--------------------+----------------------------+------------------+--------------------+------+--------------------+------------------+--------+-------------------+-------------------+--------------------+-------+\n",
      "|               1|Somméstraat 156, ...|                           1|                 3|b56eb6300428b2c2f...|     1|Somméstraat 157, ...|                 1|       3|1999-01-01 00:00:00|2100-12-12 00:00:00|a1a642e3220fed8a5...|   true|\n",
      "+----------------+--------------------+----------------------------+------------------+--------------------+------+--------------------+------------------+--------+-------------------+-------------------+--------------------+-------+\n"
     ]
    }
   ],
   "execution_count": 7
  },
  {
   "metadata": {
    "ExecuteTime": {
     "end_time": "2024-10-28T12:52:45.866614200Z",
     "start_time": "2024-10-28T12:52:45.686689500Z"
    }
   },
   "cell_type": "code",
   "source": [
    "df_upserts = spark.sql(f\"\"\"\n",
    "select source.duplicate_userid, source.duplicate_address, source.duplicate_subscriptiontypeid, source.duplicate_klant_SK, to_timestamp('{run_timestamp}') as scd_start, to_timestamp('2100-12-12','yyyy-MM-dd') as scd_end, source.duplicate_md5_hash, true as current \n",
    "from detectedChanges source\n",
    "union\n",
    "select dk.userid, dk.address, dk.subscriptiontypeid, dk.klant_SK, dk.scd_start, to_timestamp('{run_timestamp}') as scd_end, dk.md5_hash, false as current \n",
    "from detectedChanges dk\n",
    "where dk.current is not null\n",
    "\"\"\")\n",
    "\n",
    "df_upserts.createOrReplaceTempView(\"upserts\")"
   ],
   "id": "1993f23a6b507f9",
   "outputs": [],
   "execution_count": 8
  },
  {
   "metadata": {
    "ExecuteTime": {
     "end_time": "2024-10-28T12:52:49.364168100Z",
     "start_time": "2024-10-28T12:52:45.818484900Z"
    }
   },
   "cell_type": "code",
   "source": [
    "spark.sql(\"select * from upserts\").show()"
   ],
   "id": "34a05929613dcfd5",
   "outputs": [
    {
     "name": "stdout",
     "output_type": "stream",
     "text": [
      "+----------------+--------------------+----------------------------+------------------+--------------------+--------------------+--------------------+-------+\n",
      "|duplicate_userid|   duplicate_address|duplicate_subscriptiontypeid|duplicate_klant_SK|           scd_start|             scd_end|  duplicate_md5_hash|current|\n",
      "+----------------+--------------------+----------------------------+------------------+--------------------+--------------------+--------------------+-------+\n",
      "|               1|Somméstraat 156, ...|                           1|                 3|2024-10-28 13:52:...| 2100-12-12 00:00:00|b56eb6300428b2c2f...|   true|\n",
      "|               1|Somméstraat 157, ...|                           1|                 3| 1999-01-01 00:00:00|2024-10-28 13:52:...|a1a642e3220fed8a5...|  false|\n",
      "+----------------+--------------------+----------------------------+------------------+--------------------+--------------------+--------------------+-------+\n"
     ]
    }
   ],
   "execution_count": 9
  },
  {
   "metadata": {
    "ExecuteTime": {
     "end_time": "2024-10-28T12:53:01.357910500Z",
     "start_time": "2024-10-28T12:52:49.344173900Z"
    }
   },
   "cell_type": "code",
   "source": [
    "spark.sql(\"\"\"\n",
    "MERGE INTO dim_klant  as target\n",
    "using upserts as source ON target.klant_SK = source.duplicate_klant_SK and source.current = false and target.current=true\n",
    "WHEN MATCHED THEN UPDATE SET scd_end = source.scd_end, current = source.current\n",
    "WHEN NOT MATCHED THEN INSERT (klant_SK, userid, address, subscriptiontypeid, scd_start, scd_end, md5_hash, current) VALUES (source.duplicate_klant_SK, source.duplicate_userid, source.duplicate_address, source.duplicate_subscriptiontypeid, source.scd_start, source.scd_end, source.duplicate_md5_hash, source.current)\n",
    "\"\"\")\n",
    "\n",
    "\n",
    "df.sort(\"klant_SK\", \"scd_start\").show(10)\n"
   ],
   "id": "d4ad12ee9c9dd9c7",
   "outputs": [
    {
     "name": "stdout",
     "output_type": "stream",
     "text": [
      "+------+--------------------+------------------+----------+--------------------+--------------------+--------------------+-------+\n",
      "|userid|             address|subscriptiontypeid|  klant_SK|           scd_start|             scd_end|            md5_hash|current|\n",
      "+------+--------------------+------------------+----------+--------------------+--------------------+--------------------+-------+\n",
      "|     2|Europalaan 43 , 2...|                 2|         0| 1999-01-01 00:00:00| 2100-12-12 00:00:00|3e10060458ebd8bb2...|   true|\n",
      "|     3|Maria Clarastraat...|                 3|         1| 1999-01-01 00:00:00| 2100-12-12 00:00:00|422db75483b2abfa2...|   true|\n",
      "|     4|Graaf Joseph de P...|                 1|         2| 1999-01-01 00:00:00| 2100-12-12 00:00:00|760be02221cf1045d...|   true|\n",
      "|     1|Somméstraat 157, ...|                 1|         3| 1999-01-01 00:00:00|2024-10-28 13:52:...|a1a642e3220fed8a5...|  false|\n",
      "|     1|Somméstraat 156, ...|                 1|         3|2024-10-28 13:52:...| 2100-12-12 00:00:00|b56eb6300428b2c2f...|   true|\n",
      "|     5|Meylstraat 111 , ...|                 3|8589934592| 1999-01-01 00:00:00| 2100-12-12 00:00:00|f79d65dd2df71aa91...|   true|\n",
      "|     6|Jan Ockegemstraat...|                 3|8589934593| 1999-01-01 00:00:00| 2100-12-12 00:00:00|3ecc98d1e19c45f83...|   true|\n",
      "|     7|Klamperdreef 154 ...|                 2|8589934594| 1999-01-01 00:00:00| 2100-12-12 00:00:00|270ac772a5f8f9312...|   true|\n",
      "|     8|Kolibriestraat 13...|                 3|8589934595| 1999-01-01 00:00:00| 2100-12-12 00:00:00|87aa665b67746205f...|   true|\n",
      "|     9|Bikschotelaan 60 ...|                 2|8589934596| 1999-01-01 00:00:00| 2100-12-12 00:00:00|42ead08d46540b6d9...|   true|\n",
      "+------+--------------------+------------------+----------+--------------------+--------------------+--------------------+-------+\n"
     ]
    }
   ],
   "execution_count": 10
  },
  {
   "metadata": {
    "ExecuteTime": {
     "end_time": "2024-10-28T12:53:01.379176Z",
     "start_time": "2024-10-28T12:53:01.358923700Z"
    }
   },
   "cell_type": "code",
   "source": [
    "# df.sort(\"klant_SK\", \"scd_start\").show(10)\n"
   ],
   "id": "5ed3542154bbf0d",
   "outputs": [],
   "execution_count": 11
  }
 ],
 "metadata": {
  "kernelspec": {
   "display_name": "Python 3",
   "language": "python",
   "name": "python3"
  },
  "language_info": {
   "codemirror_mode": {
    "name": "ipython",
    "version": 2
   },
   "file_extension": ".py",
   "mimetype": "text/x-python",
   "name": "python",
   "nbconvert_exporter": "python",
   "pygments_lexer": "ipython2",
   "version": "2.7.6"
  }
 },
 "nbformat": 4,
 "nbformat_minor": 5
}
