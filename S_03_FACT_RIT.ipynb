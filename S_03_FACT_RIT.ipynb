{
 "cells": [
  {
   "cell_type": "code",
   "id": "b12759fab8c837c6",
   "metadata": {
    "ExecuteTime": {
     "end_time": "2024-11-03T11:50:52.955491Z",
     "start_time": "2024-11-03T11:50:52.697515Z"
    }
   },
   "source": [
    "import ConnectionConfig as cc\n",
    "from pyspark.sql.functions import arrays_overlap, split, when, col\n",
    "from delta import DeltaTable\n",
    "\n",
    "cc.setupEnvironment()"
   ],
   "outputs": [],
   "execution_count": 1
  },
  {
   "metadata": {
    "collapsed": true,
    "ExecuteTime": {
     "end_time": "2024-11-03T11:51:16.514465Z",
     "start_time": "2024-11-03T11:50:52.969524Z"
    }
   },
   "cell_type": "code",
   "source": [
    "spark = cc.startLocalCluster(\"FACT_RIT\", 4)\n",
    "spark.getActiveSession()"
   ],
   "id": "initial_id",
   "outputs": [
    {
     "data": {
      "text/plain": [
       "<pyspark.sql.session.SparkSession at 0x183cff28d50>"
      ],
      "text/html": [
       "\n",
       "            <div>\n",
       "                <p><b>SparkSession - in-memory</b></p>\n",
       "                \n",
       "        <div>\n",
       "            <p><b>SparkContext</b></p>\n",
       "\n",
       "            <p><a href=\"http://192.168.1.43:4040\">Spark UI</a></p>\n",
       "\n",
       "            <dl>\n",
       "              <dt>Version</dt>\n",
       "                <dd><code>v3.5.2</code></dd>\n",
       "              <dt>Master</dt>\n",
       "                <dd><code>local[*]</code></dd>\n",
       "              <dt>AppName</dt>\n",
       "                <dd><code>FACT_RIT</code></dd>\n",
       "            </dl>\n",
       "        </div>\n",
       "        \n",
       "            </div>\n",
       "        "
      ]
     },
     "execution_count": 2,
     "metadata": {},
     "output_type": "execute_result"
    }
   ],
   "execution_count": 2
  },
  {
   "metadata": {
    "ExecuteTime": {
     "end_time": "2024-11-03T11:51:20.007945Z",
     "start_time": "2024-11-03T11:51:17.870437Z"
    }
   },
   "cell_type": "code",
   "source": [
    "# EXTRACT\n",
    "cc.set_connectionProfile(\"velodb\")\n",
    "\n",
    "rides_src_df = spark.read \\\n",
    "    .format(\"jdbc\") \\\n",
    "    .option(\"driver\", cc.get_Property(\"driver\")) \\\n",
    "    .option(\"url\", cc.create_jdbc()) \\\n",
    "    .option(\"dbtable\", \"rides\") \\\n",
    "    .option(\"user\", cc.get_Property(\"username\")) \\\n",
    "    .option(\"password\", cc.get_Property(\"password\")) \\\n",
    "    .option(\"partitionColumn\", \"rideid\") \\\n",
    "    .option(\"numPartitions\", 100) \\\n",
    "    .option(\"lowerBound\", 0) \\\n",
    "    .option(\"upperBound\", 4138255) \\\n",
    "    .load()\n",
    "\n",
    "rides_src_df.createOrReplaceTempView(\"rides\")\n",
    "\n",
    "subscriptions_src_df = spark.read \\\n",
    "    .format(\"jdbc\") \\\n",
    "    .option(\"driver\", cc.get_Property(\"driver\")) \\\n",
    "    .option(\"url\", cc.create_jdbc()) \\\n",
    "    .option(\"dbtable\", \"subscriptions\") \\\n",
    "    .option(\"user\", cc.get_Property(\"username\")) \\\n",
    "    .option(\"password\", cc.get_Property(\"password\")) \\\n",
    "    .option(\"partitionColumn\", \"subscriptionid\") \\\n",
    "    .option(\"numPartitions\", 100) \\\n",
    "    .option(\"lowerBound\", 0) \\\n",
    "    .option(\"upperBound\", 78248) \\\n",
    "    .load()\n",
    "\n",
    "subscriptions_src_df.createOrReplaceTempView(\"subscriptions\")"
   ],
   "id": "df5074212a22e518",
   "outputs": [],
   "execution_count": 3
  },
  {
   "metadata": {
    "ExecuteTime": {
     "end_time": "2024-11-03T11:51:25.455150Z",
     "start_time": "2024-11-03T11:51:20.074597Z"
    }
   },
   "cell_type": "code",
   "source": [
    "# EXTRACT\n",
    "dim_date = spark.read.format(\"delta\").load(\"spark-warehouse/dimdate\")\n",
    "dim_klant = spark.read.format(\"delta\").load(\"spark-warehouse/dim_klant\")\n",
    "dim_slot = spark.read.format(\"delta\").load(\"spark-warehouse/dim_slot\")\n",
    "dim_weather = spark.read.format(\"delta\").load(\"spark-warehouse/dim_weather\")\n",
    "\n",
    "dim_date.createOrReplaceTempView(\"dimdate\")\n",
    "dim_klant.createOrReplaceTempView(\"dimklant\")\n",
    "dim_slot.createOrReplaceTempView(\"dimslot\")\n",
    "rides_src_df.createOrReplaceTempView(\"rides_source\")\n",
    "dim_weather.createOrReplaceTempView(\"dimweather\")"
   ],
   "id": "63557ee05d3a62e0",
   "outputs": [],
   "execution_count": 4
  },
  {
   "metadata": {
    "ExecuteTime": {
     "end_time": "2024-11-03T11:52:34.483563Z",
     "start_time": "2024-11-03T11:52:34.421326Z"
    }
   },
   "cell_type": "code",
   "source": [
    "# TRANSFORM\n",
    "\n",
    "fact_rit_df = spark.sql(\"\"\"\n",
    "WITH rides_with_date AS (\n",
    "    SELECT r.*, d.date_SK AS date_SK\n",
    "    FROM rides r\n",
    "    JOIN dimdate d\n",
    "    ON cast( r.starttime as date) = cast(d.CalendarDate as date)\n",
    "),\n",
    "rides_with_slots AS (\n",
    "    SELECT r.*, s_start.lockid AS start_slot_id_SK, s_end.lockid AS end_slot_id_SK\n",
    "    FROM rides_with_date r\n",
    "    JOIN dimslot s_start\n",
    "    ON r.startlockid = s_start.lockid\n",
    "    JOIN dimslot s_end\n",
    "    ON r.endlockid = s_end.lockid\n",
    "),\n",
    "rides_with_subscriptions AS (\n",
    "    SELECT r.*, s.subscriptionid, s.userid\n",
    "    FROM rides_with_slots r\n",
    "    LEFT JOIN subscriptions s\n",
    "    ON r.subscriptionid = s.subscriptionid\n",
    "),\n",
    "rides_with_klant AS (\n",
    "    SELECT r.*, k.userid AS klant_id_SK\n",
    "    FROM rides_with_subscriptions r\n",
    "    LEFT JOIN dimklant k\n",
    "    ON  r.userid = k.userid\n",
    "    AND r.starttime > k.scd_start\n",
    "    AND r.starttime <= k.scd_end\n",
    "),\n",
    "rides_with_weather AS (\n",
    "    SELECT r.*, w.weather_descriptor AS weather_descriptor_SK\n",
    "    FROM rides_with_klant r\n",
    "        \n",
    "    LEFT JOIN dimslot s\n",
    "    ON r.start_slot_id_SK = s.lockid\n",
    "      \n",
    "    LEFT JOIN dimweather w\n",
    "    ON s.zipcode = w.zipcode\n",
    "    AND year(r.starttime) = year(to_timestamp(w.dt))\n",
    "    AND month(r.starttime) = month(to_timestamp(w.dt))\n",
    "    AND day(r.starttime) = day(to_timestamp(w.dt))\n",
    "    AND hour(r.starttime) = hour(to_timestamp(w.dt))\n",
    ")\n",
    "SELECT rideid, date_SK, start_slot_id_SK, end_slot_id_SK, klant_id_SK, COALESCE(weather_descriptor_SK, 'weertype onbekend') AS weather_descriptor_SK\n",
    "FROM rides_with_weather\n",
    "\"\"\"\n",
    ")"
   ],
   "id": "301662d38f2cdc29",
   "outputs": [],
   "execution_count": 7
  },
  {
   "metadata": {
    "ExecuteTime": {
     "end_time": "2024-11-03T11:52:52.649437Z",
     "start_time": "2024-11-03T11:52:44.657300Z"
    }
   },
   "cell_type": "code",
   "source": [
    "# TRANSFORM\n",
    "  \n",
    "fact_rit_df.where(fact_rit_df.weather_descriptor_SK.isin(\"aangenaam\",\"onaangenaam\",\"neutraal\")).show(50)"
   ],
   "id": "effc43148509b0aa",
   "outputs": [
    {
     "name": "stdout",
     "output_type": "stream",
     "text": [
      "+------+-------+----------------+--------------+-----------+---------------------+\n",
      "|rideid|date_SK|start_slot_id_SK|end_slot_id_SK|klant_id_SK|weather_descriptor_SK|\n",
      "+------+-------+----------------+--------------+-----------+---------------------+\n",
      "|113383|    298|            3386|          4786|      50717|             neutraal|\n",
      "|113387|    298|            3514|          3158|      39872|             neutraal|\n",
      "|113388|    298|            3422|          2827|       2249|             neutraal|\n",
      "|113391|    298|            4065|           798|      28986|             neutraal|\n",
      "|113413|    298|            3443|          2795|      23637|             neutraal|\n",
      "|113465|    298|            3421|          1634|      24863|             neutraal|\n",
      "|113510|    298|            3562|          3562|       NULL|             neutraal|\n",
      "|113550|    298|            3401|          6289|      46643|             neutraal|\n",
      "|113568|    298|            3419|          5663|      25509|             neutraal|\n",
      "|113707|    298|            3424|          7268|        683|             neutraal|\n",
      "|113710|    298|            3437|          3276|      29311|             neutraal|\n",
      "|113717|    298|            3385|          5327|      49213|             neutraal|\n",
      "|113728|    298|            3559|          1550|       9712|             neutraal|\n",
      "|113738|    298|            4060|          2039|       8936|             neutraal|\n",
      "|113863|    298|            7521|          1137|      16116|             neutraal|\n",
      "|113869|    298|            3411|          4182|      38912|             neutraal|\n",
      "|113884|    298|            7538|          3696|      15736|             neutraal|\n",
      "|113884|    298|            7538|          3696|      15736|             neutraal|\n",
      "|113927|    298|            4069|          7307|      24861|             neutraal|\n",
      "|113951|    298|            4071|          4493|      40417|             neutraal|\n",
      "|113959|    298|            4051|          2644|      20777|             neutraal|\n",
      "|113962|    298|            6461|          6461|      28827|             neutraal|\n",
      "|165397|    316|            3455|          4228|      12654|             neutraal|\n",
      "|165399|    316|            6438|          5793|      21180|             neutraal|\n",
      "|165420|    316|            3409|          4187|      29184|             neutraal|\n",
      "|165433|    316|            4075|          4178|      55692|             neutraal|\n",
      "|165452|    316|            6459|          6459|       NULL|             neutraal|\n",
      "|165481|    316|            4056|          3599|      16754|             neutraal|\n",
      "|165491|    316|            7534|           633|      42629|             neutraal|\n",
      "|165513|    316|            3417|          4892|       2880|             neutraal|\n",
      "|165551|    316|            7530|          6591|      22953|             neutraal|\n",
      "|282999|    355|            6439|           270|        624|             neutraal|\n",
      "|283017|    355|            3420|          1137|      53204|             neutraal|\n",
      "|283572|    355|             685|           757|       NULL|             neutraal|\n",
      "|283573|    355|             686|           758|       NULL|             neutraal|\n",
      "|283574|    355|             687|           759|       NULL|             neutraal|\n",
      "|283579|    355|            1978|           548|        249|             neutraal|\n",
      "|283579|    355|            1978|           548|        249|             neutraal|\n",
      "|283582|    355|            2896|          2303|      38670|             neutraal|\n",
      "|283617|    355|            2685|          3113|      41824|             neutraal|\n",
      "|283627|    355|            2557|          1204|      17880|             neutraal|\n",
      "|283642|    355|            2608|           555|      22737|             neutraal|\n",
      "|283647|    355|            3113|           802|      17944|             neutraal|\n",
      "|283649|    355|            2861|           523|      41046|             neutraal|\n",
      "|283747|    355|            1046|          1546|      59441|             neutraal|\n",
      "|283758|    355|             574|          2181|      58910|             neutraal|\n",
      "|283759|    355|             665|          2860|      59634|             neutraal|\n",
      "|283760|    355|            2524|          3129|      33395|             neutraal|\n",
      "|283765|    355|             559|          5288|       1002|             neutraal|\n",
      "|283769|    355|            1349|          4192|      43891|             neutraal|\n",
      "+------+-------+----------------+--------------+-----------+---------------------+\n",
      "only showing top 50 rows\n",
      "\n"
     ]
    }
   ],
   "execution_count": 9
  },
  {
   "metadata": {
    "ExecuteTime": {
     "end_time": "2024-11-03T11:56:54.124550Z",
     "start_time": "2024-11-03T11:56:48.553552Z"
    }
   },
   "cell_type": "code",
   "source": [
    "# LOAD\n",
    "\n",
    "fact_rit_df.write.format(\"delta\").mode(\"overwrite\").save(\"spark-warehouse/fact_rit\")"
   ],
   "id": "adcb2204b5f30f39",
   "outputs": [],
   "execution_count": 11
  },
  {
   "metadata": {
    "ExecuteTime": {
     "end_time": "2024-11-03T11:56:57.618243Z",
     "start_time": "2024-11-03T11:56:56.750786Z"
    }
   },
   "cell_type": "code",
   "source": [
    "spark.stop()"
   ],
   "id": "8627b827822ec4fd",
   "outputs": [],
   "execution_count": 12
  }
 ],
 "metadata": {
  "kernelspec": {
   "display_name": "Python 3",
   "language": "python",
   "name": "python3"
  },
  "language_info": {
   "codemirror_mode": {
    "name": "ipython",
    "version": 2
   },
   "file_extension": ".py",
   "mimetype": "text/x-python",
   "name": "python",
   "nbconvert_exporter": "python",
   "pygments_lexer": "ipython2",
   "version": "2.7.6"
  }
 },
 "nbformat": 4,
 "nbformat_minor": 5
}
