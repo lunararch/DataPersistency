{
 "cells": [
  {
   "cell_type": "code",
   "id": "initial_id",
   "metadata": {
    "collapsed": true,
    "ExecuteTime": {
     "end_time": "2024-11-03T11:55:55.319616Z",
     "start_time": "2024-11-03T11:55:55.236157Z"
    }
   },
   "source": [
    "import ConnectionConfig as cc\n",
    "from pyspark.sql.functions import arrays_overlap, split, when, col, expr\n",
    "from pyspark.sql.functions import date_format\n",
    "import math\n",
    "from pyspark.sql.functions import udf\n",
    "from pyspark.sql.types import DoubleType\n",
    "from delta import DeltaTable\n",
    "cc.setupEnvironment()"
   ],
   "outputs": [],
   "execution_count": 1
  },
  {
   "cell_type": "code",
   "source": [
    "spark = cc.startLocalCluster(\"startLocalQuery\", 4)\n",
    "spark.getActiveSession()"
   ],
   "metadata": {
    "collapsed": false,
    "ExecuteTime": {
     "end_time": "2024-11-03T11:56:02.769055Z",
     "start_time": "2024-11-03T11:55:55.330369Z"
    }
   },
   "id": "b3e7711e70c58c66",
   "outputs": [
    {
     "data": {
      "text/plain": [
       "<pyspark.sql.session.SparkSession at 0x27c08575950>"
      ],
      "text/html": [
       "\n",
       "            <div>\n",
       "                <p><b>SparkSession - in-memory</b></p>\n",
       "                \n",
       "        <div>\n",
       "            <p><b>SparkContext</b></p>\n",
       "\n",
       "            <p><a href=\"http://192.168.1.43:4041\">Spark UI</a></p>\n",
       "\n",
       "            <dl>\n",
       "              <dt>Version</dt>\n",
       "                <dd><code>v3.5.2</code></dd>\n",
       "              <dt>Master</dt>\n",
       "                <dd><code>local[*]</code></dd>\n",
       "              <dt>AppName</dt>\n",
       "                <dd><code>startLocalQuery</code></dd>\n",
       "            </dl>\n",
       "        </div>\n",
       "        \n",
       "            </div>\n",
       "        "
      ]
     },
     "execution_count": 2,
     "metadata": {},
     "output_type": "execute_result"
    }
   ],
   "execution_count": 2
  },
  {
   "cell_type": "markdown",
   "source": [
    "# Meetwaarden"
   ],
   "metadata": {
    "collapsed": false
   },
   "id": "18d52db89b0f1151"
  },
  {
   "metadata": {
    "ExecuteTime": {
     "end_time": "2024-11-03T11:57:44.112089Z",
     "start_time": "2024-11-03T11:57:44.046363Z"
    }
   },
   "cell_type": "code",
   "source": [
    "# EXTRACT\n",
    "\n",
    "cc.set_connectionProfile(\"velodb\")\n",
    "\n",
    "rides_src_df = spark.read \\\n",
    "    .format(\"jdbc\") \\\n",
    "    .option(\"driver\", cc.get_Property(\"driver\")) \\\n",
    "    .option(\"url\", cc.create_jdbc()) \\\n",
    "    .option(\"dbtable\", \"rides\") \\\n",
    "    .option(\"user\", cc.get_Property(\"username\")) \\\n",
    "    .option(\"password\", cc.get_Property(\"password\")) \\\n",
    "    .option(\"partitionColumn\", \"rideid\") \\\n",
    "    .option(\"numPartitions\", 100) \\\n",
    "    .option(\"lowerBound\", 0) \\\n",
    "    .option(\"upperBound\", 4138255) \\\n",
    "    .load()\n",
    "\n",
    "rides_src_df.createOrReplaceTempView(\"rides\")"
   ],
   "id": "30fc02b482e98ff",
   "outputs": [],
   "execution_count": 11
  },
  {
   "cell_type": "code",
   "source": [
    "# EXTRACT\n",
    "factRide = spark.read.format(\"delta\").load(\"./spark-warehouse/fact_rit\")\n",
    "factRide.createOrReplaceTempView(\"factRide\")"
   ],
   "metadata": {
    "collapsed": false,
    "ExecuteTime": {
     "end_time": "2024-11-03T11:57:45.702020Z",
     "start_time": "2024-11-03T11:57:45.681777Z"
    }
   },
   "id": "109886d62304bd97",
   "outputs": [],
   "execution_count": 12
  },
  {
   "cell_type": "markdown",
   "source": [
    "## Duurtijd"
   ],
   "metadata": {
    "collapsed": false
   },
   "id": "b7440276dc397184"
  },
  {
   "cell_type": "code",
   "source": [
    "# TRANSFORM\n",
    "\n",
    "# verschil tussen start- en eindtijd van een rit\n",
    "spark.sql(\"select regexp_replace(duurtijd, '.*\\\\'(.*)\\\\'.*', '$1') as duurtijd from (select (endtime - starttime) as duurtijd from rides)\").show(2)"
   ],
   "metadata": {
    "collapsed": false,
    "ExecuteTime": {
     "end_time": "2024-11-03T11:57:47.043364Z",
     "start_time": "2024-11-03T11:57:46.954660Z"
    }
   },
   "id": "e25a082cd85eecdf",
   "outputs": [
    {
     "name": "stdout",
     "output_type": "stream",
     "text": [
      "+----------+\n",
      "|  duurtijd|\n",
      "+----------+\n",
      "|0 00:14:53|\n",
      "|0 00:02:04|\n",
      "+----------+\n",
      "only showing top 2 rows\n",
      "\n"
     ]
    }
   ],
   "execution_count": 13
  },
  {
   "metadata": {
    "ExecuteTime": {
     "end_time": "2024-11-03T11:57:49.749216Z",
     "start_time": "2024-11-03T11:57:49.741162Z"
    }
   },
   "cell_type": "code",
   "source": [
    "# TRANSFORM\n",
    "\n",
    "# verschil tussen start- en eindtijd van een rit in seconden\n",
    "df_duurtijd = spark.sql(\"\"\"\n",
    "SELECT \n",
    "    factRide.rideid,\n",
    "    starttime, \n",
    "    endtime, \n",
    "    (unix_timestamp(endtime) - unix_timestamp(starttime)) as duurtijd_in_seconden\n",
    "FROM rides\n",
    "inner join factRide on rides.rideid = factRide.rideid\n",
    "\"\"\")"
   ],
   "id": "41250e3e54e95da2",
   "outputs": [],
   "execution_count": 14
  },
  {
   "metadata": {
    "ExecuteTime": {
     "end_time": "2024-11-03T11:57:53.417537Z",
     "start_time": "2024-11-03T11:57:51.247963Z"
    }
   },
   "cell_type": "code",
   "source": [
    "df_duurtijd.show(2)"
   ],
   "id": "90d1c0851a60201b",
   "outputs": [
    {
     "name": "stdout",
     "output_type": "stream",
     "text": [
      "+------+-------------------+-------------------+--------------------+\n",
      "|rideid|          starttime|            endtime|duurtijd_in_seconden|\n",
      "+------+-------------------+-------------------+--------------------+\n",
      "|    15|2019-09-22 08:46:43|2019-09-22 09:01:36|                 893|\n",
      "|    17|2019-09-22 08:27:38|2019-09-22 08:30:25|                 167|\n",
      "+------+-------------------+-------------------+--------------------+\n",
      "only showing top 2 rows\n",
      "\n"
     ]
    }
   ],
   "execution_count": 15
  },
  {
   "metadata": {
    "ExecuteTime": {
     "end_time": "2024-11-03T11:57:55.738155Z",
     "start_time": "2024-11-03T11:57:55.702548Z"
    }
   },
   "cell_type": "code",
   "source": [
    "# TRANSFORM\n",
    "\n",
    "factRide_with_duurtijd = factRide.join(df_duurtijd.select(\"rideid\", \"duurtijd_in_seconden\"), on=\"rideid\", how=\"left\")"
   ],
   "id": "4ec8c8d6b1fbf966",
   "outputs": [],
   "execution_count": 16
  },
  {
   "metadata": {
    "ExecuteTime": {
     "end_time": "2024-11-03T11:58:01.997336Z",
     "start_time": "2024-11-03T11:57:57.095165Z"
    }
   },
   "cell_type": "code",
   "source": [
    "factRide_with_duurtijd.show(2)"
   ],
   "id": "4fa83be75d543ac9",
   "outputs": [
    {
     "name": "stdout",
     "output_type": "stream",
     "text": [
      "+-------+-------+----------------+--------------+-----------+---------------------+--------------------+\n",
      "| rideid|date_SK|start_slot_id_SK|end_slot_id_SK|klant_id_SK|weather_descriptor_SK|duurtijd_in_seconden|\n",
      "+-------+-------+----------------+--------------+-----------+---------------------+--------------------+\n",
      "|2069132|    985|            1099|          2754|      32419|    weertype onbekend|                 100|\n",
      "|2069137|    985|            1854|          1600|      35053|    weertype onbekend|                 214|\n",
      "+-------+-------+----------------+--------------+-----------+---------------------+--------------------+\n",
      "only showing top 2 rows\n",
      "\n"
     ]
    }
   ],
   "execution_count": 17
  },
  {
   "metadata": {},
   "cell_type": "markdown",
   "source": "## Afstand",
   "id": "9fb0f2c3281c0412"
  },
  {
   "cell_type": "code",
   "source": [
    "def haversine_km(lat1, lon1, lat2, lon2):\n",
    "    lat1, lon1, lat2, lon2 = float(lat1), float(lon1), float(lat2), float(lon2)\n",
    "    if lat1 == lat2 and lon1 == lon2:\n",
    "        return 0.0\n",
    "    else:\n",
    "        R = 6371\n",
    "        dlat = math.radians(lat2 - lat1)\n",
    "        dlon = math.radians(lon1 - lon2)\n",
    "        a = math.sin(dlat / 2) ** 2 + math.cos(math.radians(lat1)) * math.cos(math.radians(lat2)) * math.sin(dlon / 2) ** 2\n",
    "        c = 2 * math.atan2(math.sqrt(a), math.sqrt(1 - a))\n",
    "        distance = R * c\n",
    "        return distance\n",
    "\n",
    "haversine_udf = udf(haversine_km, DoubleType())\n",
    "spark.udf.register(\"haversine_km\", haversine_udf)"
   ],
   "metadata": {
    "collapsed": false,
    "ExecuteTime": {
     "end_time": "2024-11-03T11:58:11.888403Z",
     "start_time": "2024-11-03T11:58:11.842806Z"
    }
   },
   "id": "fc75eebab82f31cf",
   "outputs": [
    {
     "data": {
      "text/plain": [
       "<pyspark.sql.udf.UserDefinedFunction at 0x27c0c787290>"
      ]
     },
     "execution_count": 18,
     "metadata": {},
     "output_type": "execute_result"
    }
   ],
   "execution_count": 18
  },
  {
   "cell_type": "code",
   "source": [
    "# TRANSFORM\n",
    "rides_src_df = rides_src_df.withColumn(\"starttime_normal\", date_format(\"starttime\", \"yyyy-MM-dd\"))\n",
    "rides_src_df.createOrReplaceTempView(\"rides_src_df\")\n",
    "coord = spark.sql(\"SELECT rideid, startpoint, endpoint, starttime_normal FROM rides_src_df\") "
   ],
   "metadata": {
    "collapsed": false,
    "ExecuteTime": {
     "end_time": "2024-11-03T11:58:14.486291Z",
     "start_time": "2024-11-03T11:58:14.469721Z"
    }
   },
   "id": "38d851147c246d07",
   "outputs": [],
   "execution_count": 19
  },
  {
   "cell_type": "code",
   "source": [
    "# TRANSFORM\n",
    "coord_split = coord.withColumn(\"startpoint_lat\", split(col(\"startpoint\"), \",\")[0]) \\\n",
    "                   .withColumn(\"startpoint_lon\", split(col(\"startpoint\"), \",\")[1]) \\\n",
    "                   .withColumn(\"endpoint_lat\", split(col(\"endpoint\"), \",\")[0]) \\\n",
    "                   .withColumn(\"endpoint_lon\", split(col(\"endpoint\"), \",\")[1])\n",
    "\n",
    "coord_cleaned = coord_split.withColumn(\"startpoint_lat\", expr(\"substring(startpoint_lat, 2, length(startpoint_lat)-1)\")) \\\n",
    "                           .withColumn(\"startpoint_lon\", expr(\"substring(startpoint_lon, 1, length(startpoint_lon)-1)\")) \\\n",
    "                           .withColumn(\"endpoint_lat\", expr(\"substring(endpoint_lat, 2, length(endpoint_lat)-1)\")) \\\n",
    "                           .withColumn(\"endpoint_lon\", expr(\"substring(endpoint_lon, 1, length(endpoint_lon)-1)\"))\n",
    "\n",
    "coord_cleaned = coord_cleaned.drop(\"startpoint\", \"endpoint\")"
   ],
   "metadata": {
    "collapsed": false,
    "ExecuteTime": {
     "end_time": "2024-11-03T11:58:16.868209Z",
     "start_time": "2024-11-03T11:58:16.814981Z"
    }
   },
   "id": "ea10998ae1a40457",
   "outputs": [],
   "execution_count": 20
  },
  {
   "cell_type": "code",
   "source": [
    "# TRANSFORM\n",
    "coord_cleaned.createOrReplaceTempView(\"coord_cleaned\")\n",
    "\n",
    "result_df = spark.sql(\"\"\"\n",
    "SELECT\n",
    "    rideid,\n",
    "    startpoint_lat,\n",
    "    startpoint_lon,\n",
    "    endpoint_lat,\n",
    "    endpoint_lon,\n",
    "    haversine_km(startpoint_lat, startpoint_lon, endpoint_lat, endpoint_lon) as distance_km,\n",
    "    starttime_normal\n",
    "FROM coord_cleaned\n",
    "\"\"\")\n",
    "\n",
    "result_df.show(2)"
   ],
   "metadata": {
    "collapsed": false,
    "ExecuteTime": {
     "end_time": "2024-11-03T11:58:23.879125Z",
     "start_time": "2024-11-03T11:58:22.783997Z"
    }
   },
   "id": "dfca53edde2c6dd8",
   "outputs": [
    {
     "name": "stdout",
     "output_type": "stream",
     "text": [
      "+------+--------------+--------------+------------+------------+------------------+----------------+\n",
      "|rideid|startpoint_lat|startpoint_lon|endpoint_lat|endpoint_lon|       distance_km|starttime_normal|\n",
      "+------+--------------+--------------+------------+------------+------------------+----------------+\n",
      "|    15|       51.2083|       4.44595|     51.1938|     4.40228| 3.443440890340808|      2019-09-22|\n",
      "|    16|       51.2174|       4.41597|     51.2188|     4.40935|0.4866395640789212|      2019-09-22|\n",
      "+------+--------------+--------------+------------+------------+------------------+----------------+\n",
      "only showing top 2 rows\n",
      "\n"
     ]
    }
   ],
   "execution_count": 21
  },
  {
   "metadata": {
    "ExecuteTime": {
     "end_time": "2024-11-03T11:58:26.785032Z",
     "start_time": "2024-11-03T11:58:26.778253Z"
    }
   },
   "cell_type": "code",
   "source": [
    "# TRANSFORM\n",
    "\n",
    "result_df= result_df.drop(\"startpoint_lat\",\"startpoint_lon\",\"endpoint_lat\",\"endpoint_lon\",\"starttime_normal\")"
   ],
   "id": "6f7ad1161b99e4a9",
   "outputs": [],
   "execution_count": 22
  },
  {
   "metadata": {
    "ExecuteTime": {
     "end_time": "2024-11-03T11:58:29.565143Z",
     "start_time": "2024-11-03T11:58:28.721871Z"
    }
   },
   "cell_type": "code",
   "source": [
    "result_df.show(2)"
   ],
   "id": "b5b897ba026f89d7",
   "outputs": [
    {
     "name": "stdout",
     "output_type": "stream",
     "text": [
      "+------+------------------+\n",
      "|rideid|       distance_km|\n",
      "+------+------------------+\n",
      "|    15| 3.443440890340808|\n",
      "|    16|0.4866395640789212|\n",
      "+------+------------------+\n",
      "only showing top 2 rows\n",
      "\n"
     ]
    }
   ],
   "execution_count": 23
  },
  {
   "metadata": {
    "ExecuteTime": {
     "end_time": "2024-11-03T11:58:31.981377Z",
     "start_time": "2024-11-03T11:58:31.970795Z"
    }
   },
   "cell_type": "code",
   "source": [
    "# TRANSFORM\n",
    "\n",
    "factRide_with_duurtijd_distance = factRide_with_duurtijd.join(result_df, on=\"rideid\", how=\"left\")"
   ],
   "id": "27f455e05e6dea1a",
   "outputs": [],
   "execution_count": 24
  },
  {
   "metadata": {
    "ExecuteTime": {
     "end_time": "2024-11-03T11:59:25.689222Z",
     "start_time": "2024-11-03T11:58:33.389564Z"
    }
   },
   "cell_type": "code",
   "source": [
    "factRide_with_duurtijd_distance.show(2)"
   ],
   "id": "27d77a7d3bb9dc1d",
   "outputs": [
    {
     "name": "stdout",
     "output_type": "stream",
     "text": [
      "+-------+-------+----------------+--------------+-----------+---------------------+--------------------+-------------------+\n",
      "| rideid|date_SK|start_slot_id_SK|end_slot_id_SK|klant_id_SK|weather_descriptor_SK|duurtijd_in_seconden|        distance_km|\n",
      "+-------+-------+----------------+--------------+-----------+---------------------+--------------------+-------------------+\n",
      "|2069132|    985|            1099|          2754|      32419|    weertype onbekend|                 100|0.47459539392385197|\n",
      "|2069137|    985|            1854|          1600|      35053|    weertype onbekend|                 214| 1.2740061881205194|\n",
      "+-------+-------+----------------+--------------+-----------+---------------------+--------------------+-------------------+\n",
      "only showing top 2 rows\n",
      "\n"
     ]
    }
   ],
   "execution_count": 25
  },
  {
   "metadata": {
    "ExecuteTime": {
     "end_time": "2024-11-03T12:00:56.240941Z",
     "start_time": "2024-11-03T12:00:00.543249Z"
    }
   },
   "cell_type": "code",
   "source": [
    "# LOAD\n",
    "\n",
    "factRide_with_duurtijd_distance.write.option(\"mergeSchema\", \"true\").format(\"delta\").mode(\"overwrite\").save(\"./spark-warehouse/fact_rit\")"
   ],
   "id": "f45734edcd97f694",
   "outputs": [],
   "execution_count": 26
  },
  {
   "metadata": {
    "ExecuteTime": {
     "end_time": "2024-11-03T12:01:18.921968Z",
     "start_time": "2024-11-03T12:01:18.666358Z"
    }
   },
   "cell_type": "code",
   "source": [
    "spark.stop()"
   ],
   "id": "280050bb096064e",
   "outputs": [],
   "execution_count": 27
  }
 ],
 "metadata": {
  "kernelspec": {
   "display_name": "Python 3",
   "language": "python",
   "name": "python3"
  },
  "language_info": {
   "codemirror_mode": {
    "name": "ipython",
    "version": 2
   },
   "file_extension": ".py",
   "mimetype": "text/x-python",
   "name": "python",
   "nbconvert_exporter": "python",
   "pygments_lexer": "ipython2",
   "version": "2.7.6"
  }
 },
 "nbformat": 4,
 "nbformat_minor": 5
}
