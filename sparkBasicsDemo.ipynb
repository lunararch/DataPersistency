{
 "cells": [
  {
   "cell_type": "code",
   "execution_count": 1,
   "id": "initial_id",
   "metadata": {
    "collapsed": true,
    "ExecuteTime": {
     "end_time": "2024-09-17T08:49:26.733022300Z",
     "start_time": "2024-09-17T08:49:26.486947200Z"
    }
   },
   "outputs": [
    {
     "name": "stdout",
     "output_type": "stream",
     "text": [
      "ALLUSERSPROFILE: C:\\ProgramData\n",
      "APPDATA: C:\\Users\\timho\\AppData\\Roaming\n",
      "COMMONPROGRAMFILES: C:\\Program Files\\Common Files\n",
      "COMMONPROGRAMFILES(X86): C:\\Program Files (x86)\\Common Files\n",
      "COMMONPROGRAMW6432: C:\\Program Files\\Common Files\n",
      "COMPUTERNAME: TIM\n",
      "COMSPEC: C:\\Windows\\system32\\cmd.exe\n",
      "DOTNET: C:\\Program Files (x86)\\dotnet\\dotnet.exe\n",
      "DRIVERDATA: C:\\Windows\\System32\\Drivers\\DriverData\n",
      "EFC_187284: 1\n",
      "GOPATH: C:\\Users\\timho\\go\n",
      "HOMEDRIVE: C:\n",
      "HOMEPATH: \\Users\\timho\n",
      "IDEA_INITIAL_DIRECTORY: C:\\Windows\\System32\n",
      "LANG: en_US.UTF-8\n",
      "LANGUAGE: \n",
      "LC_ALL: en_US.UTF-8\n",
      "LOCALAPPDATA: C:\\Users\\timho\\AppData\\Local\n",
      "LOGONSERVER: \\\\TIM\n",
      "NUMBER_OF_PROCESSORS: 16\n",
      "ONEDRIVE: C:\\Users\\timho\\OneDrive\n",
      "ONEDRIVECONSUMER: C:\\Users\\timho\\OneDrive\n",
      "OS: Windows_NT\n",
      "PATH: C:\\school\\KDG-4\\DataPersistency\\.venv\\Scripts;C:\\Program Files (x86)\\VMware\\VMware Player\\bin\\;C:\\Program Files\\Common Files\\Oracle\\Java\\javapath;C:\\Program Files (x86)\\Common Files\\Oracle\\Java\\javapath;C:\\Windows\\system32;C:\\Windows;C:\\Windows\\System32\\Wbem;C:\\Windows\\System32\\WindowsPowerShell\\v1.0\\;C:\\Windows\\System32\\OpenSSH\\;C:\\Program Files\\Git\\cmd;C:\\Program Files\\dotnet\\;C:\\Program Files\\nodejs\\;C:\\Program Files\\Go\\bin;C:\\Users\\timho\\.dotnet;C:\\Program Files (x86)\\dotnet;C:\\Users\\timho\\AppData\\Local\\Programs\\Python\\Python311\\Scripts\\;C:\\Users\\timho\\AppData\\Local\\Programs\\Python\\Python311\\;C:\\Users\\timho\\AppData\\Local\\Microsoft\\WindowsApps;C:\\Users\\timho\\AppData\\Local\\JetBrains\\Toolbox\\scripts;C:\\Users\\timho\\.dotnet\\tools;C:\\Users\\timho\\AppData\\Roaming\\npm;C:\\Users\\timho\\go\\bin;C:\\Users\\timho\\AppData\\Local\\Programs\\Microsoft VS Code\\bin;C:\\school\\KDG-4\\DPTools\\bigdatatools\\spark-3.5.2-bin-hadoop3\\bin;C:\\school\\KDG-4\\DPTools\\bigdatatools\\hadoop-3.4.0-win10-x64\\bin;C:\\Program Files\\Java\\jdk-17\\bin\n",
      "PATHEXT: .COM;.EXE;.BAT;.CMD;.VBS;.VBE;.JS;.JSE;.WSF;.WSH;.MSC\n",
      "PROCESSOR_ARCHITECTURE: AMD64\n",
      "PROCESSOR_IDENTIFIER: AMD64 Family 25 Model 116 Stepping 1, AuthenticAMD\n",
      "PROCESSOR_LEVEL: 25\n",
      "PROCESSOR_REVISION: 7401\n",
      "PROGRAMDATA: C:\\ProgramData\n",
      "PROGRAMFILES: C:\\Program Files\n",
      "PROGRAMFILES(X86): C:\\Program Files (x86)\n",
      "PROGRAMW6432: C:\\Program Files\n",
      "PROMPT: (.venv) $P$G\n",
      "PSMODULEPATH: C:\\Program Files\\WindowsPowerShell\\Modules;C:\\Windows\\system32\\WindowsPowerShell\\v1.0\\Modules\n",
      "PUBLIC: C:\\Users\\Public\n",
      "PYTHONPATH: C:\\school\\KDG-4\\DataPersistency\n",
      "SESSIONNAME: Console\n",
      "SYSTEMDRIVE: C:\n",
      "SYSTEMROOT: C:\\Windows\n",
      "TEMP: C:\\Users\\timho\\AppData\\Local\\Temp\n",
      "TMP: C:\\Users\\timho\\AppData\\Local\\Temp\n",
      "USERDOMAIN: TIM\n",
      "USERDOMAIN_ROAMINGPROFILE: TIM\n",
      "USERNAME: timho\n",
      "USERPROFILE: C:\\Users\\timho\n",
      "VIRTUAL_ENV: C:\\school\\KDG-4\\DataPersistency\\.venv\n",
      "WINDIR: C:\\Windows\n",
      "_OLD_VIRTUAL_PATH: C:\\Program Files (x86)\\VMware\\VMware Player\\bin\\;C:\\Program Files\\Common Files\\Oracle\\Java\\javapath;C:\\Program Files (x86)\\Common Files\\Oracle\\Java\\javapath;C:\\Windows\\system32;C:\\Windows;C:\\Windows\\System32\\Wbem;C:\\Windows\\System32\\WindowsPowerShell\\v1.0\\;C:\\Windows\\System32\\OpenSSH\\;C:\\Program Files\\Git\\cmd;C:\\Program Files\\dotnet\\;C:\\Program Files\\nodejs\\;C:\\Program Files\\Go\\bin;C:\\Users\\timho\\.dotnet;C:\\Program Files (x86)\\dotnet;C:\\Users\\timho\\AppData\\Local\\Programs\\Python\\Python311\\Scripts\\;C:\\Users\\timho\\AppData\\Local\\Programs\\Python\\Python311\\;C:\\Users\\timho\\AppData\\Local\\Microsoft\\WindowsApps;C:\\Users\\timho\\AppData\\Local\\JetBrains\\Toolbox\\scripts;C:\\Users\\timho\\.dotnet\\tools;C:\\Users\\timho\\AppData\\Roaming\\npm;C:\\Users\\timho\\go\\bin;C:\\Users\\timho\\AppData\\Local\\Programs\\Microsoft VS Code\\bin\n",
      "_OLD_VIRTUAL_PROMPT: $P$G\n",
      "JPY_SESSION_NAME: sparkBasicsDemo.ipynb\n",
      "JPY_INTERRUPT_EVENT: 1692\n",
      "IPY_INTERRUPT_EVENT: 1692\n",
      "JPY_PARENT_PID: 1700\n",
      "PYDEVD_USE_FRAME_EVAL: NO\n",
      "TERM: xterm-color\n",
      "CLICOLOR: 1\n",
      "FORCE_COLOR: 1\n",
      "CLICOLOR_FORCE: 1\n",
      "PAGER: cat\n",
      "GIT_PAGER: cat\n",
      "MPLBACKEND: module://matplotlib_inline.backend_inline\n",
      "PYSPARK_PYTHON: python\n",
      "SPARK_HOME: C:\\school\\KDG-4\\DPTools\\bigdatatools\\spark-3.5.2-bin-hadoop3\n",
      "HADOOP_HOME: C:\\school\\KDG-4\\DPTools\\bigdatatools\\hadoop-3.4.0-win10-x64\n",
      "PYSPARK_HADOOP_VERSION: 3\n",
      "JAVA_HOME: C:\\Program Files\\Java\\jdk-17\\\n"
     ]
    }
   ],
   "source": [
    "from pyspark import SparkContext, SparkConf\n",
    "import ConnectionConfig as cc\n",
    "cc.setupEnvironment()\n",
    "cc.listEnvironment()"
   ]
  },
  {
   "cell_type": "code",
   "outputs": [],
   "source": [
    "conf = SparkConf().setAppName(\"WordCount\").setMaster(\"local[*]\")\n",
    "sc = SparkContext.getOrCreate(conf=conf)"
   ],
   "metadata": {
    "collapsed": false,
    "ExecuteTime": {
     "end_time": "2024-09-17T08:49:47.981041200Z",
     "start_time": "2024-09-17T08:49:41.676088700Z"
    }
   },
   "id": "de0590bb391c109e",
   "execution_count": 2
  },
  {
   "cell_type": "code",
   "outputs": [
    {
     "data": {
      "text/plain": "'http://192.168.0.212:4040'"
     },
     "execution_count": 3,
     "metadata": {},
     "output_type": "execute_result"
    }
   ],
   "source": [
    "sc.uiWebUrl"
   ],
   "metadata": {
    "collapsed": false,
    "ExecuteTime": {
     "end_time": "2024-09-17T08:50:46.049197300Z",
     "start_time": "2024-09-17T08:50:46.036640900Z"
    }
   },
   "id": "cb6f60ac99beec70",
   "execution_count": 3
  },
  {
   "cell_type": "code",
   "outputs": [],
   "source": [
    "import datetime\n",
    "#Extract\n",
    "lines = sc.textFile(\"./FileStore/tables/shakespeare.txt\")\n",
    "#Transform\n",
    "words = lines.flatMap(lambda line: line.split(\" \"))\n",
    "wordsKv = words.map(lambda word: (word, 1))\n",
    "wordsCount = wordsKv.reduceByKey(lambda a, b: a+b)\n",
    "#Load\n",
    "wordsCount.saveAsTextFile(\"./FileStore/tables/wordcount\" + datetime.datetime.now().strftime(\"%Y%m%d%H%M%S\"))"
   ],
   "metadata": {
    "collapsed": false,
    "ExecuteTime": {
     "end_time": "2024-09-17T09:04:54.917045800Z",
     "start_time": "2024-09-17T09:04:47.029419200Z"
    }
   },
   "id": "da123dee17df0201",
   "execution_count": 6
  },
  {
   "cell_type": "code",
   "outputs": [],
   "source": [
    "sc.stop()"
   ],
   "metadata": {
    "collapsed": false,
    "ExecuteTime": {
     "end_time": "2024-09-17T09:21:26.921792400Z",
     "start_time": "2024-09-17T09:21:26.386613800Z"
    }
   },
   "id": "290aac860dfd412e",
   "execution_count": 7
  }
 ],
 "metadata": {
  "kernelspec": {
   "display_name": "Python 3",
   "language": "python",
   "name": "python3"
  },
  "language_info": {
   "codemirror_mode": {
    "name": "ipython",
    "version": 2
   },
   "file_extension": ".py",
   "mimetype": "text/x-python",
   "name": "python",
   "nbconvert_exporter": "python",
   "pygments_lexer": "ipython2",
   "version": "2.7.6"
  }
 },
 "nbformat": 4,
 "nbformat_minor": 5
}
